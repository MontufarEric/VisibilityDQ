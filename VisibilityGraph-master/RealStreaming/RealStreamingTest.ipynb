{
 "cells": [
  {
   "cell_type": "code",
   "execution_count": 1,
   "metadata": {},
   "outputs": [],
   "source": [
    "import networkx as nx\n",
    "import numpy as np\n",
    "import time\n",
    "import matplotlib.pyplot as plt"
   ]
  },
  {
   "cell_type": "code",
   "execution_count": 2,
   "metadata": {},
   "outputs": [],
   "source": [
    "def maxlist(series,lista,index):\n",
    "    if len(series)==0:\n",
    "        lista.append((len(series)-1,series))\n",
    "        \n",
    "        return lista[:-1]\n",
    "    else: \n",
    "        max_index=np.argmax(series)\n",
    "        lista.append([max_index+index,np.max(series)])\n",
    "        index=max_index+1+index\n",
    "#         print(lista)\n",
    "        return maxlist(series[max_index+1:],lista, index)\n"
   ]
  },
  {
   "cell_type": "code",
   "execution_count": 3,
   "metadata": {},
   "outputs": [],
   "source": [
    "def streamingVN(serie,window):\n",
    "    arrG1=[]\n",
    "    G=nx.Graph()\n",
    "    numcalls=0\n",
    "    for Na in range (window):\n",
    "        ya=serie[Na]\n",
    "        maxslp=-1000\n",
    "        for Nb in range(Na+1,window):\n",
    "            yb=serie[Nb]\n",
    "            slp=(yb-ya)/(Nb-Na)   #+ np.finfo(float).eps)\n",
    "            if slp > maxslp:\n",
    "                arrG1.append((Na,Nb))\n",
    "                maxslp=slp\n",
    "#                print(Na,Nb)\n",
    "                \n",
    "    \n",
    "    for i in range(window):\n",
    "        G.add_node(i, y=serie[i])\n",
    "                                    \n",
    "    G.add_edges_from(arrG1)\n",
    " \n",
    "\n",
    "    #  Here we start adding nodes\n",
    "\n",
    "    maxs= maxlist(serie[:window],[],0)\n",
    "    pointer=1\n",
    "\n",
    "#     print('................................')\n",
    "#     print(maxs)\n",
    "    for Na in range(window,len(serie)):\n",
    "        \n",
    "        ya = serie[Na]\n",
    "        lim=0\n",
    "        maxslp=1000\n",
    "        for maxim in maxs[::-1]:\n",
    "            if maxim[1]>ya:\n",
    "                lim=maxim[0]\n",
    "        \n",
    "        for Nb in range(Na,lim-1,-1):\n",
    "            yb=serie[Nb]\n",
    "            slp=(yb-ya)/(Nb-Na)  \n",
    "#             print(Na,Nb,slp,lim)\n",
    "            if slp < maxslp:\n",
    "                arrG1.append((Na,Nb))\n",
    "                maxslp=slp\n",
    "#                 print(Na,Nb)\n",
    "\n",
    "        if lim==0:\n",
    "            numcalls=numcalls+1\n",
    "            maxs=maxlist(serie[pointer:pointer+window+1],[],pointer)\n",
    "#             print('///////////////maxlist nueva')\n",
    "#             print(maxs)\n",
    "\n",
    "        else:\n",
    "                \n",
    "                \n",
    "            for m in maxs[::-1]:\n",
    "                if ya>=m[1]:\n",
    "                    maxs.remove(m)\n",
    "#                     print('remove '+str(m))\n",
    "                else:\n",
    "#                     print('entra else')\n",
    "                    yb=m[1]\n",
    "                    Nb=m[0]\n",
    "                    slp=(yb-ya)/(Nb-Na)   #+ np.finfo(float).eps)\n",
    "#                     print(Na,Nb,slp,maxslp)\n",
    "                    if slp < maxslp:\n",
    "                        arrG1.append((Na,Nb))\n",
    "#                         print(Na,Nb)\n",
    "                        maxslp=slp\n",
    "            maxs.append([Na,ya])\n",
    "#             print('---------maxlist actualizada')\n",
    "#             print(maxs)\n",
    "                \n",
    "            pointer=pointer+1\n",
    "                \n",
    "\n",
    "        \n",
    "    G.add_edges_from(arrG1)\n",
    "    \n",
    "    return(G,numcalls)"
   ]
  },
  {
   "cell_type": "code",
   "execution_count": 4,
   "metadata": {},
   "outputs": [],
   "source": [
    "def realStreaming(serie,window):\n",
    "    \n",
    "    \n",
    "    G=nx.Graph()\n",
    "    numcalls=0\n",
    "    for Na in range (window):\n",
    "        ya=serie[Na]\n",
    "        maxslp=-1000\n",
    "        for Nb in range(Na+1,window):\n",
    "            yb=serie[Nb]\n",
    "            slp=(yb-ya)/(Nb-Na)   #+ np.finfo(float).eps)\n",
    "            if slp > maxslp:\n",
    "                G.add_edge(Na,Nb)\n",
    "                maxslp=slp\n",
    "#                print(Na,Nb)\n",
    "\n",
    "                \n",
    "    \n",
    " \n",
    "\n",
    "     #  Here we start adding nodes\n",
    "\n",
    "    maxs= maxlist(serie[:window],[],0)\n",
    "    pointer=1\n",
    "\n",
    "#     print('................................')\n",
    "#     print(maxs)\n",
    "    for Na in range(window,len(serie)):\n",
    "        \n",
    "        ya = serie[Na]      #Nuevo elemento (lectura)\n",
    "        lim=0\n",
    "        maxslp=1000\n",
    "        for maxim in maxs[::-1]:\n",
    "            if maxim[1]>ya:\n",
    "                lim=maxim[0]\n",
    "        \n",
    "        for Nb in range(Na,lim+pointer-1,-1):\n",
    "            yb=serie[Nb]\n",
    "            slp=(yb-ya)/(Nb-Na)  \n",
    "#             print(Na,Nb,slp,lim)\n",
    "            if slp < maxslp:\n",
    "                G.add_edge(Na,Nb)\n",
    "                maxslp=slp\n",
    "#                 print(Na,Nb)\n",
    "\n",
    "        if lim==0 | len(maxs)==0:\n",
    "            numcalls=numcalls+1\n",
    "            maxs=maxlist(serie[pointer:pointer+window+1],[],pointer)\n",
    "#             print('///////////////maxlist nueva')\n",
    "#             print(maxs)\n",
    "\n",
    "        else:\n",
    "                \n",
    "                \n",
    "            for m in maxs[::-1]:\n",
    "                if ya>=m[1]:\n",
    "                    maxs.remove(m)\n",
    "#                     print('remove '+str(m))\n",
    "                else:\n",
    "#                     print('entra else')\n",
    "                    yb=m[1]\n",
    "                    Nb=m[0]\n",
    "                    slp=(yb-ya)/(Nb-Na)   #+ np.finfo(float).eps)\n",
    "#                     print(Na,Nb,slp,maxslp)\n",
    "                    if slp < maxslp:\n",
    "                        G.add_edge(Na,Nb)\n",
    "#                         print(Na,Nb)\n",
    "                        maxslp=slp\n",
    "            maxs.append([Na,ya])\n",
    "#             print('---------maxlist actualizada')\n",
    "#             print(maxs)\n",
    "                \n",
    "            G.remove_node(pointer-1)\n",
    "            pointer=pointer+1\n",
    "            for maxim in maxs[::-1]:\n",
    "                if maxim[0]<pointer:\n",
    "                    maxs.remove(maxim)\n",
    "                    \n",
    "                \n",
    "\n",
    "        \n",
    "    \n",
    "    \n",
    "    return(G,numcalls)"
   ]
  },
  {
   "cell_type": "code",
   "execution_count": 5,
   "metadata": {},
   "outputs": [],
   "source": [
    "def realStreaming1(serie,window):\n",
    "    \n",
    "    \n",
    "    G=nx.Graph()\n",
    "#     numcalls=0\n",
    "    for Na in range (window):\n",
    "        ya=serie[Na]\n",
    "        maxslp=-1000\n",
    "        for Nb in range(Na+1,window):\n",
    "            yb=serie[Nb]\n",
    "            slp=(yb-ya)/(Nb-Na)   #+ np.finfo(float).eps)\n",
    "            if slp > maxslp:\n",
    "                G.add_edge(Na,Nb)\n",
    "                maxslp=slp\n",
    "  \n",
    "\n",
    "\n",
    "    \n",
    "#     print(G.nodes())\n",
    "#      print(G.edges())\n",
    "#     print('////////////////////////////////////////////////////////')\n",
    "\n",
    "     #  Here we start adding nodes\n",
    "\n",
    "    \n",
    "    maxs= maxlist(serie[:window],[],0)   # se calcula la lista de máximos de la serie\n",
    "    pointer=1                            # puntero que recorre la ventana\n",
    "        \n",
    "    for Na in range(window,len(serie)):\n",
    "            \n",
    "        ya = serie[Na]      #Nuevo elemento (lectura)\n",
    "            \n",
    "        lim=0\n",
    "        maxslp=1000\n",
    "            \n",
    "        for maxim in maxs[::-1]:  # se ubica al máximo menor que el nuevo punto\n",
    "            if maxim[1]>ya:\n",
    "                lim=maxim[0]\n",
    "\n",
    "        for Nb in range(Na-1,lim+pointer-1,-1):     # recorre la lista al revés desde el nuevo registro hasta el máximo de la lista mayor que éste\n",
    "            yb=serie[Nb]\n",
    "            slp=(yb-ya)/(Nb-Na)\n",
    "#             print(\"/////////////////////////////////////////////////\")\n",
    "#             print(Na,Nb,slp,lim)\n",
    "            if slp < maxslp:\n",
    "                G.add_edge(Na,Nb)\n",
    "                maxslp=slp\n",
    "#                 print(Na,Nb)\n",
    "\n",
    "\n",
    "        if lim==0 :  # si el nuevo punto es un maximo global recalcula la lista\n",
    "#                 numcalls=numcalls+1\n",
    "            maxs=maxlist(serie[pointer:pointer+window+1],[],pointer)\n",
    "    \n",
    "    \n",
    "        else:\n",
    "            for m in maxs[::-1]:     \n",
    "                if ya>m[1]:             # se eliminan los maximos menores a la muestra \n",
    "                    maxs.remove(m)\n",
    "    #                     print('remove '+str(m))\n",
    "                else:                    #  re verifica la condicion de visibilidad para los máximos de la lista\n",
    "    #                     print('entra else')\n",
    "                    yb=m[1]\n",
    "                    Nb=m[0]\n",
    "                    slp=(yb-ya)/(Nb-Na)   #+ np.finfo(float).eps)\n",
    "#                     print(Na,Nb,slp,maxslp)\n",
    "                    if slp < maxslp:\n",
    "                        G.add_edge(Na,Nb)\n",
    "    #                   print(Na,Nb)\n",
    "                        maxslp=slp\n",
    "            maxs.append([Na,ya])        # se agrega al nuevo punto a la lista de máximos \n",
    "        \n",
    "#         print(G.nodes())\n",
    "#         print(G.edges())\n",
    "        G.remove_node(pointer-1)\n",
    "        print('.......................................................')\n",
    "        print(G.edges())\n",
    "        for maxim in maxs[::-1]:\n",
    "            if maxim[0]<pointer:\n",
    "                maxs.remove(maxim)\n",
    "        print('----------------------------------------------')\n",
    "        print(maxs)\n",
    "                \n",
    "        \n",
    "                    \n",
    "        pointer=pointer+1\n",
    "    return G"
   ]
  },
  {
   "cell_type": "code",
   "execution_count": 6,
   "metadata": {},
   "outputs": [
    {
     "data": {
      "text/plain": [
       "<StemContainer object of 3 artists>"
      ]
     },
     "execution_count": 6,
     "metadata": {},
     "output_type": "execute_result"
    },
    {
     "data": {
      "image/png": "[encoded data removed]",
      "text/plain": [
       "<Figure size 432x288 with 1 Axes>"
      ]
     },
     "metadata": {
      "needs_background": "light"
     },
     "output_type": "display_data"
    }
   ],
   "source": [
    "serie=np.random.randint(1,10,40)\n",
    "plt.stem(serie)"
   ]
  },
  {
   "cell_type": "code",
   "execution_count": 7,
   "metadata": {},
   "outputs": [
    {
     "name": "stdout",
     "output_type": "stream",
     "text": [
      ".......................................................\n",
      "[(1, 2), (2, 3), (2, 5), (2, 8), (3, 4), (3, 5), (5, 4), (5, 6), (5, 7), (5, 8), (8, 6), (8, 7), (8, 9), (6, 7), (9, 10)]\n",
      "----------------------------------------------\n",
      "[[2, 9], [8, 9], [9, 8], [10, 1]]\n",
      ".......................................................\n",
      "[(2, 3), (2, 5), (2, 8), (3, 4), (3, 5), (5, 4), (5, 6), (5, 7), (5, 8), (8, 6), (8, 7), (8, 9), (6, 7), (9, 10), (9, 11), (10, 11)]\n",
      "----------------------------------------------\n",
      "[[2, 9], [8, 9], [9, 8], [11, 5]]\n",
      ".......................................................\n",
      "[(3, 4), (3, 5), (5, 4), (5, 6), (5, 7), (5, 8), (8, 6), (8, 7), (8, 9), (6, 7), (9, 10), (9, 11), (9, 12), (10, 11), (11, 12)]\n",
      "----------------------------------------------\n",
      "[[8, 9], [9, 8], [11, 5], [12, 5]]\n",
      ".......................................................\n",
      "[(5, 4), (5, 6), (5, 7), (5, 8), (8, 6), (8, 7), (8, 9), (8, 13), (6, 7), (9, 10), (9, 11), (9, 12), (9, 13), (10, 11), (11, 12), (12, 13)]\n",
      "----------------------------------------------\n",
      "[[8, 9], [9, 8], [13, 7]]\n",
      ".......................................................\n",
      "[(5, 6), (5, 7), (5, 8), (8, 6), (8, 7), (8, 9), (8, 13), (6, 7), (9, 10), (9, 11), (9, 12), (9, 13), (10, 11), (11, 12), (12, 13), (13, 14)]\n",
      "----------------------------------------------\n",
      "[[8, 9], [9, 8], [13, 7], [14, 4]]\n",
      ".......................................................\n",
      "[(8, 6), (8, 7), (8, 9), (8, 13), (8, 15), (6, 7), (9, 10), (9, 11), (9, 12), (9, 13), (9, 15), (10, 11), (11, 12), (12, 13), (13, 14), (13, 15), (14, 15)]\n",
      "----------------------------------------------\n",
      "[[8, 9], [15, 9], [16, 4]]\n",
      ".......................................................\n",
      "[(8, 7), (8, 9), (8, 13), (8, 15), (9, 10), (9, 11), (9, 12), (9, 13), (9, 15), (10, 11), (11, 12), (12, 13), (13, 14), (13, 15), (14, 15), (15, 16)]\n",
      "----------------------------------------------\n",
      "[[8, 9], [15, 9], [16, 4], [16, 4]]\n",
      ".......................................................\n",
      "[(8, 9), (8, 13), (8, 15), (9, 10), (9, 11), (9, 12), (9, 13), (9, 15), (10, 11), (11, 12), (12, 13), (13, 14), (13, 15), (14, 15), (15, 16), (15, 17), (16, 17)]\n",
      "----------------------------------------------\n",
      "[[8, 9], [15, 9], [17, 9], [18, 4]]\n",
      ".......................................................\n",
      "[(9, 10), (9, 11), (9, 12), (9, 13), (9, 15), (10, 11), (11, 12), (12, 13), (13, 14), (13, 15), (14, 15), (15, 16), (15, 17), (16, 17), (17, 18)]\n",
      "----------------------------------------------\n",
      "[[15, 9], [17, 9], [18, 4], [18, 4]]\n",
      ".......................................................\n",
      "[(10, 11), (11, 12), (12, 13), (13, 14), (13, 15), (14, 15), (15, 16), (15, 17), (16, 17), (17, 18), (17, 19), (18, 19)]\n",
      "----------------------------------------------\n",
      "[[15, 9], [17, 9], [18, 4], [18, 4], [19, 3]]\n",
      ".......................................................\n",
      "[(11, 12), (12, 13), (13, 14), (13, 15), (14, 15), (15, 16), (15, 17), (16, 17), (17, 18), (17, 19), (17, 20), (18, 19)]\n",
      "----------------------------------------------\n",
      "[[15, 9], [17, 9], [20, 7]]\n",
      ".......................................................\n",
      "[(12, 13), (13, 14), (13, 15), (14, 15), (15, 16), (15, 17), (16, 17), (17, 18), (17, 19), (17, 20), (18, 19), (20, 21)]\n",
      "----------------------------------------------\n",
      "[[15, 9], [17, 9], [20, 7], [21, 3]]\n",
      ".......................................................\n",
      "[(13, 14), (13, 15), (14, 15), (15, 16), (15, 17), (16, 17), (17, 18), (17, 19), (17, 20), (17, 22), (18, 19), (20, 21), (20, 22)]\n",
      "----------------------------------------------\n",
      "[[15, 9], [17, 9], [20, 7], [22, 6]]\n",
      ".......................................................\n",
      "[(14, 15), (15, 16), (15, 17), (16, 17), (17, 18), (17, 19), (17, 20), (17, 22), (18, 19), (20, 21), (20, 22), (22, 23)]\n",
      "----------------------------------------------\n",
      "[[15, 9], [17, 9], [20, 7], [22, 6], [23, 1]]\n",
      ".......................................................\n",
      "[(15, 16), (15, 17), (16, 17), (17, 18), (17, 19), (17, 20), (17, 22), (18, 19), (20, 21), (20, 22), (22, 23), (22, 24)]\n",
      "----------------------------------------------\n",
      "[[15, 9], [17, 9], [20, 7], [22, 6], [24, 3]]\n",
      ".......................................................\n",
      "[(16, 17), (17, 18), (17, 19), (17, 20), (17, 22), (17, 25), (18, 19), (20, 21), (20, 22), (22, 23), (22, 24)]\n",
      "----------------------------------------------\n",
      "[[17, 9], [25, 8]]\n",
      ".......................................................\n",
      "[(17, 18), (17, 19), (17, 20), (17, 22), (17, 25), (18, 19), (20, 21), (20, 22), (22, 23), (22, 24), (25, 26)]\n",
      "----------------------------------------------\n",
      "[[17, 9], [25, 8], [26, 3]]\n",
      ".......................................................\n",
      "[(18, 19), (20, 21), (20, 22), (22, 23), (22, 24), (25, 26), (25, 27)]\n",
      "----------------------------------------------\n",
      "[[25, 8], [27, 7]]\n",
      ".......................................................\n",
      "[(20, 21), (20, 22), (22, 23), (22, 24), (25, 26), (25, 27), (27, 28)]\n",
      "----------------------------------------------\n",
      "[[25, 8], [27, 7], [28, 6]]\n",
      ".......................................................\n",
      "[(20, 21), (20, 22), (22, 23), (22, 24), (25, 26), (25, 27), (27, 28), (28, 29)]\n",
      "----------------------------------------------\n",
      "[[25, 8], [27, 7], [28, 6], [29, 4]]\n",
      ".......................................................\n",
      "[(22, 23), (22, 24), (25, 26), (25, 27), (27, 28), (27, 30), (28, 29), (28, 30)]\n",
      "----------------------------------------------\n",
      "[[25, 8], [27, 7], [28, 6], [30, 5]]\n",
      ".......................................................\n",
      "[(22, 23), (22, 24), (25, 26), (25, 27), (27, 28), (27, 30), (27, 31), (28, 29), (28, 30), (28, 31), (30, 31)]\n",
      "----------------------------------------------\n",
      "[[25, 8], [27, 7], [28, 6], [30, 5], [31, 5]]\n",
      ".......................................................\n",
      "[(25, 26), (25, 27), (25, 32), (27, 28), (27, 30), (27, 31), (27, 32), (28, 29), (28, 30), (28, 31), (28, 32), (29, 32), (30, 31), (30, 32), (31, 32)]\n",
      "----------------------------------------------\n",
      "[[32, 9], [33, 7]]\n",
      ".......................................................\n",
      "[(25, 26), (25, 27), (25, 32), (27, 28), (27, 30), (27, 31), (27, 32), (28, 29), (28, 30), (28, 31), (28, 32), (29, 32), (30, 31), (30, 32), (31, 32), (32, 33)]\n",
      "----------------------------------------------\n",
      "[[32, 9], [33, 7], [33, 7]]\n",
      ".......................................................\n",
      "[(25, 26), (25, 27), (25, 32), (27, 28), (27, 30), (27, 31), (27, 32), (28, 29), (28, 30), (28, 31), (28, 32), (29, 32), (30, 31), (30, 32), (31, 32), (32, 33), (33, 34)]\n",
      "----------------------------------------------\n",
      "[[32, 9], [33, 7], [33, 7], [34, 2]]\n",
      ".......................................................\n",
      "[(27, 28), (27, 30), (27, 31), (27, 32), (28, 29), (28, 30), (28, 31), (28, 32), (29, 32), (30, 31), (30, 32), (31, 32), (32, 33), (33, 34), (33, 35)]\n",
      "----------------------------------------------\n",
      "[[32, 9], [33, 7], [33, 7], [35, 3]]\n",
      ".......................................................\n",
      "[(27, 28), (27, 30), (27, 31), (27, 32), (28, 29), (28, 30), (28, 31), (28, 32), (29, 32), (30, 31), (30, 32), (31, 32), (32, 33), (32, 36), (33, 34), (33, 35), (33, 36), (34, 36), (35, 36)]\n",
      "----------------------------------------------\n",
      "[[32, 9], [36, 9], [37, 2]]\n",
      ".......................................................\n",
      "[(28, 29), (28, 30), (28, 31), (28, 32), (29, 32), (30, 31), (30, 32), (31, 32), (32, 33), (32, 36), (33, 34), (33, 35), (33, 36), (34, 36), (35, 36), (36, 37)]\n",
      "----------------------------------------------\n",
      "[[32, 9], [36, 9], [37, 2], [37, 2]]\n",
      ".......................................................\n",
      "[(29, 32), (30, 31), (30, 32), (31, 32), (32, 33), (32, 36), (33, 34), (33, 35), (33, 36), (34, 36), (35, 36), (36, 37), (36, 38)]\n",
      "----------------------------------------------\n",
      "[[32, 9], [36, 9], [38, 8]]\n",
      ".......................................................\n",
      "[(30, 31), (30, 32), (31, 32), (32, 33), (32, 36), (33, 34), (33, 35), (33, 36), (34, 36), (35, 36), (36, 37), (36, 38), (38, 39)]\n",
      "----------------------------------------------\n",
      "[[32, 9], [36, 9], [38, 8], [39, 5]]\n"
     ]
    },
    {
     "name": "stderr",
     "output_type": "stream",
     "text": [
      "/home/eric/anaconda3/envs/tesina/lib/python3.7/site-packages/ipykernel_launcher.py:65: RuntimeWarning: invalid value encountered in long_scalars\n"
     ]
    }
   ],
   "source": [
    "G2=realStreaming1(serie,10)"
   ]
  },
  {
   "cell_type": "code",
   "execution_count": 8,
   "metadata": {},
   "outputs": [
    {
     "data": {
      "text/plain": [
       "[[6, 9], [7, 9], [9, 5], [10, 5]]"
      ]
     },
     "execution_count": 8,
     "metadata": {},
     "output_type": "execute_result"
    }
   ],
   "source": [
    "maxlist(serie[1:11],[],1)"
   ]
  },
  {
   "cell_type": "code",
   "execution_count": 9,
   "metadata": {},
   "outputs": [
    {
     "data": {
      "text/plain": [
       "(5, 9)"
      ]
     },
     "execution_count": 9,
     "metadata": {},
     "output_type": "execute_result"
    }
   ],
   "source": [
    "np.argmax(serie[1:11]),np.max(serie[1:11])"
   ]
  },
  {
   "cell_type": "code",
   "execution_count": 10,
   "metadata": {},
   "outputs": [
    {
     "data": {
      "text/plain": [
       "<StemContainer object of 3 artists>"
      ]
     },
     "execution_count": 10,
     "metadata": {},
     "output_type": "execute_result"
    },
    {
     "data": {
      "image/png": "[encoded data removed]",
      "text/plain": [
       "<Figure size 432x288 with 1 Axes>"
      ]
     },
     "metadata": {
      "needs_background": "light"
     },
     "output_type": "display_data"
    }
   ],
   "source": [
    "plt.stem(serie[0:10])"
   ]
  },
  {
   "cell_type": "code",
   "execution_count": 11,
   "metadata": {
    "scrolled": true
   },
   "outputs": [
    {
     "data": {
      "text/plain": [
       "<StemContainer object of 3 artists>"
      ]
     },
     "execution_count": 11,
     "metadata": {},
     "output_type": "execute_result"
    },
    {
     "data": {
      "image/png": "[encoded data removed]",
      "text/plain": [
       "<Figure size 432x288 with 1 Axes>"
      ]
     },
     "metadata": {
      "needs_background": "light"
     },
     "output_type": "display_data"
    }
   ],
   "source": [
    "plt.stem(serie[10:20])"
   ]
  },
  {
   "cell_type": "code",
   "execution_count": 12,
   "metadata": {},
   "outputs": [
    {
     "data": {
      "text/plain": [
       "<StemContainer object of 3 artists>"
      ]
     },
     "execution_count": 12,
     "metadata": {},
     "output_type": "execute_result"
    },
    {
     "data": {
      "image/png": "[encoded data removed]",
      "text/plain": [
       "<Figure size 432x288 with 1 Axes>"
      ]
     },
     "metadata": {
      "needs_background": "light"
     },
     "output_type": "display_data"
    }
   ],
   "source": [
    "plt.stem(serie[20:30])"
   ]
  },
  {
   "cell_type": "code",
   "execution_count": 40,
   "metadata": {},
   "outputs": [
    {
     "data": {
      "text/plain": [
       "<StemContainer object of 3 artists>"
      ]
     },
     "execution_count": 40,
     "metadata": {},
     "output_type": "execute_result"
    },
    {
     "data": {
      "image/png": "[encoded data removed]",
      "text/plain": [
       "<Figure size 432x288 with 1 Axes>"
      ]
     },
     "metadata": {},
     "output_type": "display_data"
    }
   ],
   "source": [
    "plt.stem(serie[30:])"
   ]
  },
  {
   "cell_type": "code",
   "execution_count": 17,
   "metadata": {},
   "outputs": [
    {
     "data": {
      "text/plain": [
       "EdgeView([(30, 31), (30, 32), (30, 33), (30, 34), (30, 35), (30, 36), (30, 37), (30, 38), (31, 32), (31, 34), (31, 35), (31, 36), (32, 33), (32, 34), (32, 35), (32, 36), (33, 34), (35, 36), (38, 39)])"
      ]
     },
     "execution_count": 17,
     "metadata": {},
     "output_type": "execute_result"
    }
   ],
   "source": [
    "G2.edges()"
   ]
  },
  {
   "cell_type": "code",
   "execution_count": 52,
   "metadata": {},
   "outputs": [],
   "source": [
    "G.remove_node(15)"
   ]
  },
  {
   "cell_type": "code",
   "execution_count": 53,
   "metadata": {},
   "outputs": [
    {
     "data": {
      "text/plain": [
       "NodeView((10, 11, 12, 13, 14, 16, 17, 18, 19))"
      ]
     },
     "execution_count": 53,
     "metadata": {},
     "output_type": "execute_result"
    }
   ],
   "source": [
    "G.nodes()"
   ]
  },
  {
   "cell_type": "code",
   "execution_count": 54,
   "metadata": {},
   "outputs": [],
   "source": [
    "G2,x=streamingVN(serie,20)"
   ]
  },
  {
   "cell_type": "code",
   "execution_count": 13,
   "metadata": {},
   "outputs": [
    {
     "data": {
      "text/plain": [
       "EdgeView([(30, 31), (30, 32), (30, 33), (30, 34), (30, 35), (30, 36), (30, 37), (30, 38), (31, 32), (31, 34), (31, 35), (31, 36), (31, 38), (32, 33), (32, 34), (32, 35), (32, 36), (32, 38), (33, 34), (33, 38), (34, 38), (35, 36), (35, 38), (37, 38), (38, 39)])"
      ]
     },
     "execution_count": 13,
     "metadata": {},
     "output_type": "execute_result"
    }
   ],
   "source": [
    "G2.edges()"
   ]
  },
  {
   "cell_type": "code",
   "execution_count": null,
   "metadata": {},
   "outputs": [],
   "source": []
  },
  {
   "cell_type": "code",
   "execution_count": null,
   "metadata": {},
   "outputs": [],
   "source": []
  },
  {
   "cell_type": "code",
   "execution_count": 25,
   "metadata": {},
   "outputs": [],
   "source": [
    "def lista(TS):\n",
    "    flag=1\n",
    "    lmax=[]\n",
    "    \n",
    "    while len(TS>1):\n",
    "        lmax.append([np.argmax(TS),np.max(TS)])\n",
    "        TS=TS[np.argmax(TS)+1:]\n",
    "        print(TS)\n",
    "    return(lmax)\n",
    "        \n",
    "        "
   ]
  },
  {
   "cell_type": "code",
   "execution_count": 28,
   "metadata": {},
   "outputs": [
    {
     "name": "stdout",
     "output_type": "stream",
     "text": [
      "[8 5 2 5 8 2 6 9 6 5 8 8 6 4 7 7 3 8 2 6 8 6 2 4 3 7 5 7 2 4 1 8 2 9 4 6 5\n",
      " 2 1 1 4 9 8 7 7 1 6 6 8 1 8 6 8 4 5 8 2 9 5 9 4 3 4 4 8 4 7 5 7 8 2 1 5 5\n",
      " 8 1 1 1 6 2 7 5 2]\n",
      "[6 5 8 8 6 4 7 7 3 8 2 6 8 6 2 4 3 7 5 7 2 4 1 8 2 9 4 6 5 2 1 1 4 9 8 7 7\n",
      " 1 6 6 8 1 8 6 8 4 5 8 2 9 5 9 4 3 4 4 8 4 7 5 7 8 2 1 5 5 8 1 1 1 6 2 7 5\n",
      " 2]\n",
      "[4 6 5 2 1 1 4 9 8 7 7 1 6 6 8 1 8 6 8 4 5 8 2 9 5 9 4 3 4 4 8 4 7 5 7 8 2\n",
      " 1 5 5 8 1 1 1 6 2 7 5 2]\n",
      "[8 7 7 1 6 6 8 1 8 6 8 4 5 8 2 9 5 9 4 3 4 4 8 4 7 5 7 8 2 1 5 5 8 1 1 1 6\n",
      " 2 7 5 2]\n",
      "[5 9 4 3 4 4 8 4 7 5 7 8 2 1 5 5 8 1 1 1 6 2 7 5 2]\n",
      "[4 3 4 4 8 4 7 5 7 8 2 1 5 5 8 1 1 1 6 2 7 5 2]\n",
      "[4 7 5 7 8 2 1 5 5 8 1 1 1 6 2 7 5 2]\n",
      "[2 1 5 5 8 1 1 1 6 2 7 5 2]\n",
      "[1 1 1 6 2 7 5 2]\n",
      "[5 2]\n",
      "[2]\n",
      "[]\n"
     ]
    },
    {
     "data": {
      "text/plain": [
       "[[16, 9],\n",
       " [7, 9],\n",
       " [25, 9],\n",
       " [7, 9],\n",
       " [15, 9],\n",
       " [1, 9],\n",
       " [4, 8],\n",
       " [4, 8],\n",
       " [4, 8],\n",
       " [5, 7],\n",
       " [0, 5],\n",
       " [0, 2]]"
      ]
     },
     "execution_count": 28,
     "metadata": {},
     "output_type": "execute_result"
    }
   ],
   "source": [
    "x=np.random.randint(1,10,100)\n",
    "lista(x)"
   ]
  },
  {
   "cell_type": "code",
   "execution_count": 29,
   "metadata": {},
   "outputs": [
    {
     "data": {
      "text/plain": [
       "array([5, 4, 2, 8, 6, 2, 5, 8, 1, 5, 7, 6, 4, 1, 4, 6, 9, 8, 5, 2, 5, 8,\n",
       "       2, 6, 9, 6, 5, 8, 8, 6, 4, 7, 7, 3, 8, 2, 6, 8, 6, 2, 4, 3, 7, 5,\n",
       "       7, 2, 4, 1, 8, 2, 9, 4, 6, 5, 2, 1, 1, 4, 9, 8, 7, 7, 1, 6, 6, 8,\n",
       "       1, 8, 6, 8, 4, 5, 8, 2, 9, 5, 9, 4, 3, 4, 4, 8, 4, 7, 5, 7, 8, 2,\n",
       "       1, 5, 5, 8, 1, 1, 1, 6, 2, 7, 5, 2])"
      ]
     },
     "execution_count": 29,
     "metadata": {},
     "output_type": "execute_result"
    }
   ],
   "source": [
    "x"
   ]
  },
  {
   "cell_type": "code",
   "execution_count": null,
   "metadata": {},
   "outputs": [],
   "source": [
    "def l1(TS,lista)"
   ]
  },
  {
   "cell_type": "code",
   "execution_count": null,
   "metadata": {},
   "outputs": [],
   "source": []
  },
  {
   "cell_type": "code",
   "execution_count": null,
   "metadata": {},
   "outputs": [],
   "source": [
    "def main(TS,window):"
   ]
  },
  {
   "cell_type": "code",
   "execution_count": null,
   "metadata": {},
   "outputs": [],
   "source": []
  },
  {
   "cell_type": "code",
   "execution_count": 2,
   "metadata": {},
   "outputs": [],
   "source": [
    "def verifyLimit(maxlst,value):\n",
    "    for mx in maxlst[::-1]:\n",
    "        if mx[1]<=value:\n",
    "            maxlst.remove(mx)\n",
    "    return maxlst\n",
    "    "
   ]
  },
  {
   "cell_type": "code",
   "execution_count": 3,
   "metadata": {},
   "outputs": [],
   "source": [
    "def visibility(hp,TS,value,index):\n",
    "    Nb=index\n",
    "    Yb=value\n",
    "    maxslp=1000\n",
    "    for Na in range(index-1,hp-1,-1):\n",
    "        Ya=TS[Na]\n",
    "        slp=(Yb-Ya)/(Nb-Na)\n",
    "#         print(Nb,Na,slp)\n",
    "        if slp < maxslp:\n",
    "            G.add_edge(Nb,Na)\n",
    "            \n",
    "            maxslp=slp\n",
    "            "
   ]
  },
  {
   "cell_type": "code",
   "execution_count": 4,
   "metadata": {},
   "outputs": [
    {
     "name": "stdout",
     "output_type": "stream",
     "text": [
      "[9 2 5 1 6 6 6 7 6 7]\n"
     ]
    },
    {
     "data": {
      "text/plain": [
       "<StemContainer object of 3 artists>"
      ]
     },
     "execution_count": 4,
     "metadata": {},
     "output_type": "execute_result"
    },
    {
     "data": {
      "image/png": "[encoded data removed]",
      "text/plain": [
       "<Figure size 432x288 with 1 Axes>"
      ]
     },
     "metadata": {
      "needs_background": "light"
     },
     "output_type": "display_data"
    }
   ],
   "source": [
    "s=np.random.randint(1,10,10)\n",
    "print(s)\n",
    "plt.stem(s)"
   ]
  },
  {
   "cell_type": "code",
   "execution_count": 50,
   "metadata": {},
   "outputs": [
    {
     "name": "stdout",
     "output_type": "stream",
     "text": [
      "8 7 3.0\n",
      "8 6 0.5\n",
      "8 5 -1.0\n",
      "8 4 -1.0\n",
      "8 3 0.6\n",
      "8 2 -0.6666666666666666\n",
      "8 1 0.0\n",
      "8 0 0.375\n"
     ]
    }
   ],
   "source": [
    "G=nx.Graph()\n",
    "visibility(0,s,serie[8],8)"
   ]
  },
  {
   "cell_type": "code",
   "execution_count": 51,
   "metadata": {},
   "outputs": [
    {
     "data": {
      "text/plain": [
       "EdgeView([(8, 7), (8, 6), (8, 5)])"
      ]
     },
     "execution_count": 51,
     "metadata": {},
     "output_type": "execute_result"
    }
   ],
   "source": [
    "G.edges()"
   ]
  },
  {
   "cell_type": "code",
   "execution_count": null,
   "metadata": {},
   "outputs": [],
   "source": []
  },
  {
   "cell_type": "code",
   "execution_count": null,
   "metadata": {},
   "outputs": [],
   "source": []
  },
  {
   "cell_type": "code",
   "execution_count": 9,
   "metadata": {},
   "outputs": [],
   "source": [
    "def newLecture(value,index,maxlist,G):\n",
    "    maxlst=verifyLimit(maxlst,value)\n",
    "    if len(maxlst==0):\n",
    "        hp=0\n",
    "    else:\n",
    "        hp=maxlst[-1][0]\n",
    "    visibility(hp,TS,value)\n",
    "        \n",
    "            \n",
    "    \n",
    "    "
   ]
  },
  {
   "cell_type": "code",
   "execution_count": 53,
   "metadata": {
    "scrolled": false
   },
   "outputs": [
    {
     "name": "stdout",
     "output_type": "stream",
     "text": [
      "9\n",
      "8\n",
      "7\n",
      "6\n",
      "5\n",
      "4\n",
      "3\n",
      "2\n",
      "1\n",
      "0\n"
     ]
    }
   ],
   "source": [
    "serie=np.random.randint(1,10,10)\n",
    "G=nx.Graph()\n",
    "for i in range(len(serie)-1,-1,-1):\n",
    "    print(i)\n",
    "    visibility(0,serie,serie[i],i)\n",
    "    "
   ]
  },
  {
   "cell_type": "code",
   "execution_count": 54,
   "metadata": {},
   "outputs": [
    {
     "data": {
      "text/plain": [
       "array([3, 1, 9, 8, 1, 8, 1, 1, 6, 2])"
      ]
     },
     "execution_count": 54,
     "metadata": {},
     "output_type": "execute_result"
    }
   ],
   "source": [
    "serie"
   ]
  },
  {
   "cell_type": "code",
   "execution_count": 55,
   "metadata": {
    "scrolled": true
   },
   "outputs": [
    {
     "data": {
      "text/plain": [
       "<StemContainer object of 3 artists>"
      ]
     },
     "execution_count": 55,
     "metadata": {},
     "output_type": "execute_result"
    },
    {
     "data": {
      "image/png": "[encoded data removed]",
      "text/plain": [
       "<Figure size 432x288 with 1 Axes>"
      ]
     },
     "metadata": {
      "needs_background": "light"
     },
     "output_type": "display_data"
    }
   ],
   "source": [
    "plt.stem(serie)"
   ]
  },
  {
   "cell_type": "code",
   "execution_count": 56,
   "metadata": {},
   "outputs": [
    {
     "data": {
      "text/plain": [
       "EdgeView([(9, 8), (8, 7), (8, 6), (8, 5), (7, 6), (7, 5), (6, 5), (5, 4), (5, 3), (5, 2), (4, 3), (3, 2), (2, 1), (2, 0), (1, 0)])"
      ]
     },
     "execution_count": 56,
     "metadata": {},
     "output_type": "execute_result"
    }
   ],
   "source": [
    "G.edges()"
   ]
  },
  {
   "cell_type": "code",
   "execution_count": 12,
   "metadata": {},
   "outputs": [],
   "source": [
    "lista=[[1,13],[4,5],[11,3],[12,1]]\n",
    "valor=14"
   ]
  },
  {
   "cell_type": "code",
   "execution_count": 13,
   "metadata": {},
   "outputs": [
    {
     "data": {
      "text/plain": [
       "[]"
      ]
     },
     "execution_count": 13,
     "metadata": {},
     "output_type": "execute_result"
    }
   ],
   "source": [
    "verifyLimit(lista,valor)"
   ]
  },
  {
   "cell_type": "code",
   "execution_count": 43,
   "metadata": {},
   "outputs": [],
   "source": [
    "maxlst=[[0,11],[2,5],[3,9],[4,5],[5,4],[7,1]]\n",
    "value=12"
   ]
  },
  {
   "cell_type": "code",
   "execution_count": 41,
   "metadata": {},
   "outputs": [
    {
     "data": {
      "text/plain": [
       "False"
      ]
     },
     "execution_count": 41,
     "metadata": {},
     "output_type": "execute_result"
    }
   ],
   "source": [
    "not maxlst"
   ]
  },
  {
   "cell_type": "code",
   "execution_count": 39,
   "metadata": {},
   "outputs": [
    {
     "data": {
      "text/plain": [
       "[1]"
      ]
     },
     "execution_count": 39,
     "metadata": {},
     "output_type": "execute_result"
    }
   ],
   "source": [
    "maxlst"
   ]
  },
  {
   "cell_type": "code",
   "execution_count": 45,
   "metadata": {},
   "outputs": [
    {
     "data": {
      "text/plain": [
       "7"
      ]
     },
     "execution_count": 45,
     "metadata": {},
     "output_type": "execute_result"
    }
   ],
   "source": [
    "maxlst[-1][0]"
   ]
  },
  {
   "cell_type": "code",
   "execution_count": 46,
   "metadata": {},
   "outputs": [
    {
     "data": {
      "text/plain": [
       "[[2, 5], [3, 9], [4, 5], [5, 4], [7, 1]]"
      ]
     },
     "execution_count": 46,
     "metadata": {},
     "output_type": "execute_result"
    }
   ],
   "source": [
    "maxlst[1:]"
   ]
  },
  {
   "cell_type": "code",
   "execution_count": null,
   "metadata": {},
   "outputs": [],
   "source": []
  },
  {
   "cell_type": "code",
   "execution_count": null,
   "metadata": {},
   "outputs": [],
   "source": []
  },
  {
   "cell_type": "code",
   "execution_count": 24,
   "metadata": {},
   "outputs": [
    {
     "name": "stdout",
     "output_type": "stream",
     "text": [
      "10\n",
      "9\n",
      "8\n",
      "7\n",
      "6\n"
     ]
    }
   ],
   "source": [
    "for Na in range(10,5,-1):\n",
    "    print(Na)"
   ]
  },
  {
   "cell_type": "code",
   "execution_count": null,
   "metadata": {},
   "outputs": [],
   "source": []
  },
  {
   "cell_type": "code",
   "execution_count": null,
   "metadata": {},
   "outputs": [],
   "source": []
  },
  {
   "cell_type": "code",
   "execution_count": null,
   "metadata": {},
   "outputs": [],
   "source": []
  }
 ],
 "metadata": {
  "kernelspec": {
   "display_name": "Python 3",
   "language": "python",
   "name": "python3"
  },
  "language_info": {
   "codemirror_mode": {
    "name": "ipython",
    "version": 3
   },
   "file_extension": ".py",
   "mimetype": "text/x-python",
   "name": "python",
   "nbconvert_exporter": "python",
   "pygments_lexer": "ipython3",
   "version": "3.7.1"
  }
 },
 "nbformat": 4,
 "nbformat_minor": 2
}
