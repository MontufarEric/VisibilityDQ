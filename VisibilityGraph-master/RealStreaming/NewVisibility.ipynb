{
 "cells": [
  {
   "cell_type": "markdown",
   "metadata": {},
   "source": [
    "# verdadero archivo tesis 04-2019"
   ]
  },
  {
   "cell_type": "markdown",
   "metadata": {},
   "source": [
    "Importar librerías que se van a utilizar "
   ]
  },
  {
   "cell_type": "code",
   "execution_count": 25,
   "metadata": {},
   "outputs": [],
   "source": [
    "import networkx as nx\n",
    "import numpy as np\n",
    "import time\n",
    "import matplotlib.pyplot as plt\n",
    "import seaborn as sns\n",
    "import pandas as pd"
   ]
  },
  {
   "cell_type": "code",
   "execution_count": null,
   "metadata": {},
   "outputs": [],
   "source": []
  },
  {
   "cell_type": "markdown",
   "metadata": {},
   "source": [
    "Función para detectar visibilidad "
   ]
  },
  {
   "cell_type": "code",
   "execution_count": 2,
   "metadata": {},
   "outputs": [],
   "source": [
    "def visibility(G,hp,TS,value,index):\n",
    "    Nb=index\n",
    "    Yb=value\n",
    "    maxslp=1000\n",
    "    for Na in range(index-1,hp-1,-1):\n",
    "        Ya=TS[Na]\n",
    "        slp=(Yb-Ya)/(Nb-Na)\n",
    "#         print(Nb,Na,slp)\n",
    "        if slp < maxslp:\n",
    "            G.add_edge(Nb,Na)\n",
    "            maxslp=slp"
   ]
  },
  {
   "cell_type": "code",
   "execution_count": null,
   "metadata": {},
   "outputs": [],
   "source": []
  },
  {
   "cell_type": "markdown",
   "metadata": {},
   "source": [
    "### Ejemplo del algoritmo funcionando de la forma convencional: "
   ]
  },
  {
   "cell_type": "markdown",
   "metadata": {},
   "source": [
    "Datos estáticos empleando el algoritmo clásico de visibilidad sin maxlist y varificando límite hasta el primer valor de la serie. "
   ]
  },
  {
   "cell_type": "code",
   "execution_count": 3,
   "metadata": {},
   "outputs": [],
   "source": [
    "def visGraph(serie):\n",
    "    G=nx.Graph()\n",
    "    for i in range(len(serie)-1,-1,-1):\n",
    "        visibility(G,0,serie,serie[i],i)\n",
    "    return G\n",
    "    "
   ]
  },
  {
   "cell_type": "code",
   "execution_count": 4,
   "metadata": {
    "scrolled": true
   },
   "outputs": [
    {
     "name": "stdout",
     "output_type": "stream",
     "text": [
      "[1 2 7 8 3 6 2 2 1 4 8 7 5 8 1 1 9 8 2 4]\n"
     ]
    },
    {
     "data": {
      "text/plain": [
       "<StemContainer object of 3 artists>"
      ]
     },
     "execution_count": 4,
     "metadata": {},
     "output_type": "execute_result"
    },
    {
     "data": {
      "image/png": "[encoded data removed]",
      "text/plain": [
       "<Figure size 432x288 with 1 Axes>"
      ]
     },
     "metadata": {
      "needs_background": "light"
     },
     "output_type": "display_data"
    }
   ],
   "source": [
    "serie=np.random.randint(1,10,20)\n",
    "print(serie)\n",
    "plt.stem(serie)"
   ]
  },
  {
   "cell_type": "markdown",
   "metadata": {},
   "source": [
    "## pruebas del visibility graph en streaming SIN maxlist"
   ]
  },
  {
   "cell_type": "markdown",
   "metadata": {},
   "source": [
    "Se generan N-window grafos a modo de streaming con ventana deslizante empleando el algoritmo clásico "
   ]
  },
  {
   "cell_type": "code",
   "execution_count": 5,
   "metadata": {},
   "outputs": [],
   "source": [
    "def visGraph(serie):\n",
    "    G=nx.Graph()\n",
    "    for i in range(len(serie)-1,-1,-1):\n",
    "        visibility(G,0,serie,serie[i],i)\n",
    "    return G\n",
    "    "
   ]
  },
  {
   "cell_type": "code",
   "execution_count": 6,
   "metadata": {},
   "outputs": [],
   "source": [
    "def visGraphStreaming(serie,window):\n",
    "    G=nx.Graph()\n",
    "    for i in range((len(serie)-window+1)):\n",
    "        G=visGraph(serie[i:window+i])\n",
    "#         nx.write_gml(G,'./Files/file_'+str(i)+'.gml')"
   ]
  },
  {
   "cell_type": "code",
   "execution_count": 7,
   "metadata": {},
   "outputs": [
    {
     "data": {
      "text/plain": [
       "array([8, 4, 4, 8, 9, 4, 5, 5, 2, 1, 6, 5, 3, 5, 7, 5, 9, 4, 9, 3])"
      ]
     },
     "execution_count": 7,
     "metadata": {},
     "output_type": "execute_result"
    }
   ],
   "source": [
    "serie=np.random.randint(1,10,20)\n",
    "serie"
   ]
  },
  {
   "cell_type": "code",
   "execution_count": 8,
   "metadata": {},
   "outputs": [],
   "source": [
    "visGraphStreaming(serie,10)"
   ]
  },
  {
   "cell_type": "markdown",
   "metadata": {},
   "source": [
    "## Pruebas del Visibility graph en streaming con maxlist"
   ]
  },
  {
   "cell_type": "code",
   "execution_count": 9,
   "metadata": {},
   "outputs": [],
   "source": [
    "def visibility(G,hp,TS,value,index):\n",
    "    Nb=index\n",
    "    Yb=value\n",
    "    maxslp=1000\n",
    "    for Na in range(index-1,hp-1,-1):\n",
    "#         print('---',Na,TS[Na])\n",
    "        Ya=TS[Na]\n",
    "        slp=(Yb-Ya)/(Nb-Na)\n",
    "#         print(Nb,Na,slp)\n",
    "        if slp < maxslp:\n",
    "            G.add_edge(Nb,Na)\n",
    "            maxslp=slp\n",
    "    return maxslp"
   ]
  },
  {
   "cell_type": "code",
   "execution_count": 10,
   "metadata": {},
   "outputs": [],
   "source": [
    "def vismax(G,maxslp,value,index,maxlst):\n",
    "    Nb=index\n",
    "    Yb=value\n",
    "    for mx in maxlst[::-1]:\n",
    "        Na=mx[0]\n",
    "        Ya=mx[1]\n",
    "        slp=(Yb-Ya)/(Nb-Na)\n",
    "#         print(Nb,Yb,Na,Ya,slp,maxslp)\n",
    "        if slp < maxslp:\n",
    "            G.add_edge(Nb,Na)\n",
    "            maxslp=slp\n",
    "        "
   ]
  },
  {
   "cell_type": "code",
   "execution_count": 11,
   "metadata": {},
   "outputs": [],
   "source": [
    "def verifyLimit(maxlst,value):\n",
    "    for mx in maxlst[::-1]:\n",
    "        if mx[1]<=value:\n",
    "            maxlst.remove(mx)\n",
    "#             print(maxlst)\n",
    "    return maxlst"
   ]
  },
  {
   "cell_type": "code",
   "execution_count": 12,
   "metadata": {},
   "outputs": [],
   "source": [
    "def visGraphOpt(serie,window):\n",
    "    G=nx.Graph()\n",
    "    for i in range(len(serie)-window+1):\n",
    "        s=serie[i:window+i]\n",
    "        mx=maxlist(s,[],0)"
   ]
  },
  {
   "cell_type": "code",
   "execution_count": 13,
   "metadata": {},
   "outputs": [],
   "source": [
    "def newLecture(value,index,maxlst,G,lowerBound=0):\n",
    "    maxlst=verifyLimit(maxlst,value)\n",
    "#     print(maxlst)\n",
    "    if len(maxlst)==0:\n",
    "        hp=lowerBound\n",
    "    else:\n",
    "        hp=maxlst[-1][0]\n",
    "#     print(index,hp,'...............')\n",
    "    maxslp=visibility(G,hp,TS,value,index)\n",
    "    vismax(G,maxslp,value,index,maxlst)\n",
    "    maxlst.append([index,value])\n",
    "#     print('............',maxlst)\n",
    "    "
   ]
  },
  {
   "cell_type": "code",
   "execution_count": 14,
   "metadata": {},
   "outputs": [],
   "source": [
    "def maxlist(series,lista,index):\n",
    "    if len(series)==0:\n",
    "        lista.append((len(series)-1,series))\n",
    "        \n",
    "        return lista[:-1]\n",
    "    else: \n",
    "        max_index=np.argmax(series)\n",
    "        lista.append([max_index+index,np.max(series)])\n",
    "        index=max_index+1+index\n",
    "#         print(lista)\n",
    "        return maxlist(series[max_index+1:],lista, index)"
   ]
  },
  {
   "cell_type": "code",
   "execution_count": 15,
   "metadata": {},
   "outputs": [],
   "source": [
    "def stream(TS,window):\n",
    "    G=nx.Graph()\n",
    "    maxlst=maxlist(TS[:window],[],0)\n",
    "    for sample in range(len(TS[window:])):\n",
    "#         print(TS[sample+window],window+sample,maxlst)\n",
    "        newLecture(TS[sample+window],window+sample,maxlst,G)\n",
    "    return(G)\n",
    "        \n",
    "    "
   ]
  },
  {
   "cell_type": "code",
   "execution_count": 16,
   "metadata": {},
   "outputs": [],
   "source": [
    "TS=np.random.randint(1,10,50)"
   ]
  },
  {
   "cell_type": "code",
   "execution_count": 17,
   "metadata": {},
   "outputs": [],
   "source": [
    "H=nx.Graph()\n",
    "H=stream(TS,1)"
   ]
  },
  {
   "cell_type": "markdown",
   "metadata": {},
   "source": [
    "# Algoritmo con maxlist sin streaming "
   ]
  },
  {
   "cell_type": "markdown",
   "metadata": {},
   "source": [
    "Algoritmo que emplea el concepto de lista ordenada de maximos para datos consolidados "
   ]
  },
  {
   "cell_type": "code",
   "execution_count": 18,
   "metadata": {},
   "outputs": [],
   "source": [
    "def realStatic(TS,window=1):\n",
    "    G=nx.Graph()\n",
    "    maxlst=maxlist(TS[:window],[],0)\n",
    "    for sample in range(len(TS[window:])):\n",
    "#         print(TS[sample+window],window+sample,maxlst)\n",
    "        newLecture(TS[sample+window],window+sample,maxlst,G)\n",
    "    return(G)\n",
    "        "
   ]
  },
  {
   "cell_type": "code",
   "execution_count": 19,
   "metadata": {},
   "outputs": [
    {
     "data": {
      "text/plain": [
       "<StemContainer object of 3 artists>"
      ]
     },
     "execution_count": 19,
     "metadata": {},
     "output_type": "execute_result"
    },
    {
     "data": {
      "image/png": "[encoded data removed]",
      "text/plain": [
       "<Figure size 432x288 with 1 Axes>"
      ]
     },
     "metadata": {
      "needs_background": "light"
     },
     "output_type": "display_data"
    }
   ],
   "source": [
    "TS=np.random.randint(1,20,20)\n",
    "plt.stem(TS)"
   ]
  },
  {
   "cell_type": "code",
   "execution_count": 20,
   "metadata": {},
   "outputs": [],
   "source": [
    "G=realStatic(TS)"
   ]
  },
  {
   "cell_type": "code",
   "execution_count": 21,
   "metadata": {},
   "outputs": [
    {
     "data": {
      "text/plain": [
       "EdgeView([(1, 0), (1, 2), (0, 2), (0, 6), (2, 3), (2, 4), (2, 5), (2, 6), (3, 4), (4, 5), (4, 6), (5, 6), (6, 7), (6, 11), (6, 12), (6, 14), (7, 8), (7, 11), (7, 12), (7, 14), (8, 9), (8, 11), (8, 12), (8, 14), (9, 10), (9, 11), (9, 12), (9, 14), (10, 11), (10, 12), (11, 12), (12, 13), (12, 14), (13, 14), (14, 15), (14, 16), (14, 17), (14, 18), (14, 19), (15, 16), (15, 17), (15, 18), (15, 19), (16, 17), (16, 18), (16, 19), (17, 18), (17, 19), (18, 19)])"
      ]
     },
     "execution_count": 21,
     "metadata": {},
     "output_type": "execute_result"
    }
   ],
   "source": [
    "G.edges()"
   ]
  },
  {
   "cell_type": "markdown",
   "metadata": {},
   "source": [
    "# Real Streaming "
   ]
  },
  {
   "cell_type": "code",
   "execution_count": 22,
   "metadata": {},
   "outputs": [],
   "source": [
    "def realStreaming(TS,window):\n",
    "    G=nx.Graph()\n",
    "    if window>1:\n",
    "        G=stream(TS[:window],1)\n",
    "        maxlst=maxlist(TS[:window],[],0)\n",
    "        for sample in range(len(TS[window:])):\n",
    "            if maxlst[0][0]<window+sample:\n",
    "                maxlst.remove(maxlst[0])\n",
    "            G.remove_node(sample)\n",
    "            newLecture(TS[sample+window],window+sample,maxlst,G,sample)\n",
    "#             print(G.edges())\n",
    "#             nx.write_gml(G,'./Files/'+str(sample)+'_g.gml')\n",
    "    return(G)\n",
    "        \n",
    "    "
   ]
  },
  {
   "cell_type": "code",
   "execution_count": 23,
   "metadata": {
    "scrolled": true
   },
   "outputs": [
    {
     "data": {
      "text/plain": [
       "<networkx.classes.graph.Graph at 0x7f01cdf93a20>"
      ]
     },
     "execution_count": 23,
     "metadata": {},
     "output_type": "execute_result"
    }
   ],
   "source": [
    "realStreaming(TS,10)"
   ]
  },
  {
   "cell_type": "markdown",
   "metadata": {},
   "source": [
    "# Pruebas de Funcionamiento"
   ]
  },
  {
   "cell_type": "code",
   "execution_count": 46,
   "metadata": {},
   "outputs": [],
   "source": [
    "testlist=[n*500 for n in range(1,15)]"
   ]
  },
  {
   "cell_type": "code",
   "execution_count": 47,
   "metadata": {},
   "outputs": [
    {
     "name": "stdout",
     "output_type": "stream",
     "text": [
      "500 0.009090662002563477\n",
      "1000 0.02039504051208496\n",
      "1500 0.033032894134521484\n",
      "2000 0.0444490909576416\n",
      "2500 0.05359220504760742\n",
      "3000 0.038031578063964844\n",
      "3500 0.08865094184875488\n",
      "4000 0.1209878921508789\n",
      "4500 0.09442782402038574\n",
      "5000 0.10286808013916016\n",
      "5500 0.11129641532897949\n",
      "6000 0.10353970527648926\n",
      "6500 0.17057180404663086\n",
      "7000 0.20163798332214355\n",
      "500 0.006632566452026367\n",
      "1000 0.011767387390136719\n",
      "1500 0.052362918853759766\n",
      "2000 0.030382394790649414\n",
      "2500 0.03752636909484863\n",
      "3000 0.0408170223236084\n",
      "3500 0.05147504806518555\n",
      "4000 0.1320505142211914\n",
      "4500 0.07742905616760254\n",
      "5000 0.12787437438964844\n",
      "5500 0.0891275405883789\n",
      "6000 0.11355423927307129\n",
      "6500 0.16649293899536133\n",
      "7000 0.12090039253234863\n",
      "500 0.0050830841064453125\n",
      "1000 0.012666702270507812\n",
      "1500 0.04530978202819824\n",
      "2000 0.07450985908508301\n",
      "2500 0.08563041687011719\n",
      "3000 0.05443000793457031\n",
      "3500 0.055513620376586914\n",
      "4000 0.1147611141204834\n",
      "4500 0.1108860969543457\n",
      "5000 0.1015617847442627\n",
      "5500 0.1313343048095703\n",
      "6000 0.16037225723266602\n",
      "6500 0.12111496925354004\n",
      "7000 0.12804555892944336\n",
      "500 0.012929677963256836\n",
      "1000 0.032280683517456055\n",
      "1500 0.039354801177978516\n",
      "2000 0.02383255958557129\n",
      "2500 0.031473398208618164\n",
      "3000 0.04052615165710449\n",
      "3500 0.044655561447143555\n",
      "4000 0.05862617492675781\n",
      "4500 0.08131790161132812\n",
      "5000 0.09930610656738281\n",
      "5500 0.12258505821228027\n",
      "6000 0.15969228744506836\n",
      "6500 0.13444948196411133\n",
      "7000 0.14394736289978027\n",
      "500 0.004845619201660156\n",
      "1000 0.010718584060668945\n",
      "1500 0.019032955169677734\n",
      "2000 0.024823427200317383\n",
      "2500 0.037108421325683594\n",
      "3000 0.10002732276916504\n",
      "3500 0.05574297904968262\n",
      "4000 0.07202672958374023\n",
      "4500 0.16204380989074707\n",
      "5000 0.1341245174407959\n",
      "5500 0.10943078994750977\n",
      "6000 0.11033844947814941\n",
      "6500 0.22032809257507324\n",
      "7000 0.18548822402954102\n",
      "500 0.006176948547363281\n",
      "1000 0.012419700622558594\n",
      "1500 0.01737809181213379\n",
      "2000 0.029177427291870117\n",
      "2500 0.0384221076965332\n",
      "3000 0.04875040054321289\n",
      "3500 0.0840768814086914\n",
      "4000 0.1217336654663086\n",
      "4500 0.19833707809448242\n",
      "5000 0.18233847618103027\n",
      "5500 0.1555008888244629\n",
      "6000 0.1581592559814453\n",
      "6500 0.11885476112365723\n",
      "7000 0.12247991561889648\n",
      "500 0.005297422409057617\n",
      "1000 0.027268409729003906\n",
      "1500 0.051377296447753906\n",
      "2000 0.02694106101989746\n",
      "2500 0.03475141525268555\n",
      "3000 0.055776357650756836\n",
      "3500 0.06952023506164551\n",
      "4000 0.10474205017089844\n",
      "4500 0.06869769096374512\n",
      "5000 0.07874488830566406\n",
      "5500 0.11336350440979004\n",
      "6000 0.1298055648803711\n",
      "6500 0.14325833320617676\n",
      "7000 0.17934870719909668\n",
      "500 0.03754448890686035\n",
      "1000 0.012125730514526367\n",
      "1500 0.02123117446899414\n",
      "2000 0.028402090072631836\n",
      "2500 0.032972097396850586\n",
      "3000 0.08790993690490723\n",
      "3500 0.10320878028869629\n",
      "4000 0.09009075164794922\n",
      "4500 0.08506059646606445\n",
      "5000 0.15240883827209473\n",
      "5500 0.11409997940063477\n",
      "6000 0.13721084594726562\n",
      "6500 0.16191792488098145\n",
      "7000 0.3172028064727783\n",
      "500 0.006953001022338867\n",
      "1000 0.01996159553527832\n",
      "1500 0.022617101669311523\n",
      "2000 0.034337759017944336\n",
      "2500 0.029593467712402344\n",
      "3000 0.041693925857543945\n",
      "3500 0.04709124565124512\n",
      "4000 0.07836318016052246\n",
      "4500 0.08088016510009766\n",
      "5000 0.12656521797180176\n",
      "5500 0.15062403678894043\n",
      "6000 0.1823432445526123\n",
      "6500 0.22298121452331543\n",
      "7000 0.25091552734375\n",
      "500 0.005480289459228516\n",
      "1000 0.011845827102661133\n",
      "1500 0.021504640579223633\n",
      "2000 0.02594733238220215\n",
      "2500 0.030729293823242188\n",
      "3000 0.038681983947753906\n",
      "3500 0.04961681365966797\n",
      "4000 0.05607199668884277\n",
      "4500 0.08218240737915039\n",
      "5000 0.07483077049255371\n",
      "5500 0.12051248550415039\n",
      "6000 0.1166529655456543\n",
      "6500 0.11899447441101074\n",
      "7000 0.11571979522705078\n"
     ]
    }
   ],
   "source": [
    "results=[]\n",
    "for i in range(10):\n",
    "    for nn in testlist:\n",
    "#         nn=n*10000\n",
    "        TS=np.random.randint(1,200,nn)\n",
    "        start=time.time()\n",
    "        realStatic(TS)\n",
    "        stop=time.time()-start\n",
    "        results.append([nn,stop])\n",
    "        print(nn,stop)"
   ]
  },
  {
   "cell_type": "code",
   "execution_count": 44,
   "metadata": {
    "scrolled": true
   },
   "outputs": [
    {
     "ename": "NameError",
     "evalue": "name 'testlist' is not defined",
     "output_type": "error",
     "traceback": [
      "\u001b[0;31m---------------------------------------------------------------------------\u001b[0m",
      "\u001b[0;31mNameError\u001b[0m                                 Traceback (most recent call last)",
      "\u001b[0;32m<ipython-input-44-ec1ea0819ec9>\u001b[0m in \u001b[0;36m<module>\u001b[0;34m\u001b[0m\n\u001b[1;32m      1\u001b[0m \u001b[0mresults\u001b[0m\u001b[0;34m=\u001b[0m\u001b[0;34m[\u001b[0m\u001b[0;34m]\u001b[0m\u001b[0;34m\u001b[0m\u001b[0;34m\u001b[0m\u001b[0m\n\u001b[1;32m      2\u001b[0m \u001b[0;32mfor\u001b[0m \u001b[0mi\u001b[0m \u001b[0;32min\u001b[0m \u001b[0mrange\u001b[0m\u001b[0;34m(\u001b[0m\u001b[0;36m10\u001b[0m\u001b[0;34m)\u001b[0m\u001b[0;34m:\u001b[0m\u001b[0;34m\u001b[0m\u001b[0;34m\u001b[0m\u001b[0m\n\u001b[0;32m----> 3\u001b[0;31m     \u001b[0;32mfor\u001b[0m \u001b[0mnn\u001b[0m \u001b[0;32min\u001b[0m \u001b[0mtestlist\u001b[0m\u001b[0;34m:\u001b[0m\u001b[0;34m\u001b[0m\u001b[0;34m\u001b[0m\u001b[0m\n\u001b[0m\u001b[1;32m      4\u001b[0m \u001b[0;31m#         nn=n*10000\u001b[0m\u001b[0;34m\u001b[0m\u001b[0;34m\u001b[0m\u001b[0;34m\u001b[0m\u001b[0m\n\u001b[1;32m      5\u001b[0m         \u001b[0mTS\u001b[0m\u001b[0;34m=\u001b[0m\u001b[0mnp\u001b[0m\u001b[0;34m.\u001b[0m\u001b[0mcumsum\u001b[0m\u001b[0;34m(\u001b[0m\u001b[0mnp\u001b[0m\u001b[0;34m.\u001b[0m\u001b[0mrandom\u001b[0m\u001b[0;34m.\u001b[0m\u001b[0mrandint\u001b[0m\u001b[0;34m(\u001b[0m\u001b[0;36m1\u001b[0m\u001b[0;34m,\u001b[0m\u001b[0;36m200\u001b[0m\u001b[0;34m,\u001b[0m\u001b[0mnn\u001b[0m\u001b[0;34m)\u001b[0m\u001b[0;34m)\u001b[0m\u001b[0;34m\u001b[0m\u001b[0;34m\u001b[0m\u001b[0m\n",
      "\u001b[0;31mNameError\u001b[0m: name 'testlist' is not defined"
     ]
    }
   ],
   "source": [
    "results=[]\n",
    "for i in range(10):\n",
    "    for nn in testlist:\n",
    "#         nn=n*10000\n",
    "        TS=np.cumsum(np.random.randint(1,200,nn))\n",
    "        start=time.time()\n",
    "        realStatic(TS)\n",
    "        stop=time.time()-start\n",
    "        results.append([nn,stop])\n",
    "        print(nn,stop)"
   ]
  },
  {
   "cell_type": "code",
   "execution_count": 97,
   "metadata": {},
   "outputs": [
    {
     "name": "stdout",
     "output_type": "stream",
     "text": [
      "5000 0.08841657638549805\n",
      "10000 0.20812296867370605\n",
      "15000 0.38390421867370605\n",
      "20000 0.6649956703186035\n",
      "25000 0.8875946998596191\n",
      "30000 1.2388274669647217\n",
      "35000 1.7938783168792725\n",
      "40000 2.2940523624420166\n",
      "45000 2.441706895828247\n",
      "50000 3.0151216983795166\n",
      "55000 3.7751986980438232\n",
      "60000 4.220872402191162\n",
      "65000 4.838360786437988\n",
      "70000 5.658956050872803\n",
      "75000 5.737581729888916\n",
      "80000 7.0607590675354\n",
      "85000 7.616077423095703\n",
      "90000 9.275046825408936\n",
      "95000 9.79829454421997\n",
      "100000 10.732925415039062\n",
      "105000 12.297193050384521\n",
      "110000 12.868391990661621\n",
      "115000 15.375783681869507\n",
      "120000 15.293855905532837\n",
      "5000 0.07650160789489746\n",
      "10000 0.22301435470581055\n",
      "15000 0.3665432929992676\n",
      "20000 0.6923637390136719\n",
      "25000 0.8846378326416016\n",
      "30000 1.1532461643218994\n",
      "35000 1.509643316268921\n",
      "40000 2.1542749404907227\n",
      "45000 2.3314123153686523\n",
      "50000 2.802243709564209\n",
      "55000 3.416574001312256\n",
      "60000 4.193337440490723\n",
      "65000 4.374797582626343\n",
      "70000 5.050262451171875\n",
      "75000 5.843615293502808\n",
      "80000 7.292541742324829\n",
      "85000 7.37706995010376\n",
      "90000 8.62242603302002\n",
      "95000 9.126845121383667\n",
      "100000 10.759581565856934\n",
      "105000 11.13051986694336\n",
      "110000 12.679905652999878\n",
      "115000 13.85409426689148\n",
      "120000 14.740318775177002\n",
      "5000 0.07445621490478516\n",
      "10000 0.2055191993713379\n",
      "15000 0.41011977195739746\n",
      "20000 0.5930943489074707\n",
      "25000 0.9550213813781738\n",
      "30000 1.3420982360839844\n",
      "35000 1.5064172744750977\n",
      "40000 2.1045539379119873\n",
      "45000 2.3777174949645996\n",
      "50000 2.973649501800537\n",
      "55000 3.5111002922058105\n",
      "60000 4.130875825881958\n",
      "65000 4.823933839797974\n",
      "70000 5.610816717147827\n",
      "75000 6.810190439224243\n",
      "80000 7.37945818901062\n",
      "85000 8.123560428619385\n",
      "90000 8.865670680999756\n",
      "95000 9.742231130599976\n",
      "100000 10.453855514526367\n",
      "105000 10.979564428329468\n",
      "110000 13.53489375114441\n",
      "115000 15.418090343475342\n",
      "120000 14.98166275024414\n",
      "5000 0.07193136215209961\n",
      "10000 0.23137927055358887\n",
      "15000 0.34360623359680176\n",
      "20000 0.59444260597229\n",
      "25000 0.9701323509216309\n",
      "30000 1.328078269958496\n",
      "35000 1.4601213932037354\n",
      "40000 1.9953179359436035\n",
      "45000 2.103559732437134\n",
      "50000 3.1495628356933594\n",
      "55000 3.4349193572998047\n",
      "60000 4.338227033615112\n",
      "65000 4.564800977706909\n",
      "70000 5.370467662811279\n",
      "75000 6.0769572257995605\n",
      "80000 7.25123143196106\n",
      "85000 7.839771747589111\n",
      "90000 8.532104730606079\n",
      "95000 9.322855234146118\n",
      "100000 12.019273281097412\n",
      "105000 11.744847536087036\n",
      "110000 12.500629901885986\n",
      "115000 13.567458152770996\n",
      "120000 15.248044967651367\n",
      "5000 0.07260870933532715\n",
      "10000 0.201430082321167\n",
      "15000 0.48433876037597656\n",
      "20000 0.6129395961761475\n",
      "25000 1.0177812576293945\n",
      "30000 1.2838060855865479\n",
      "35000 1.598921537399292\n",
      "40000 2.107098340988159\n",
      "45000 2.4481284618377686\n",
      "50000 2.9486825466156006\n",
      "55000 3.420436143875122\n",
      "60000 4.042954206466675\n",
      "65000 5.108590126037598\n",
      "70000 5.626877546310425\n",
      "75000 6.334446907043457\n",
      "80000 6.950807332992554\n",
      "85000 7.834951639175415\n",
      "90000 8.973557949066162\n",
      "95000 8.553778409957886\n",
      "100000 10.084153652191162\n",
      "105000 11.551083326339722\n",
      "110000 13.521835088729858\n",
      "115000 14.496128797531128\n",
      "120000 15.14417314529419\n",
      "5000 0.08138346672058105\n",
      "10000 0.20260310173034668\n",
      "15000 0.34422731399536133\n",
      "20000 0.6269891262054443\n",
      "25000 0.9010491371154785\n",
      "30000 1.096938133239746\n",
      "35000 1.6100456714630127\n",
      "40000 1.8237266540527344\n",
      "45000 2.605893135070801\n",
      "50000 2.7842752933502197\n",
      "55000 3.442537307739258\n",
      "60000 4.143098592758179\n",
      "65000 5.322860956192017\n",
      "70000 5.433538198471069\n",
      "75000 6.700556755065918\n",
      "80000 7.169569253921509\n",
      "85000 7.3295533657073975\n",
      "90000 8.522910356521606\n",
      "95000 9.253717422485352\n",
      "100000 10.508655786514282\n",
      "105000 11.1489839553833\n",
      "110000 11.685234069824219\n",
      "115000 14.28626036643982\n",
      "120000 14.377426862716675\n",
      "5000 0.06955647468566895\n",
      "10000 0.1715221405029297\n",
      "15000 0.3499627113342285\n",
      "20000 0.5911800861358643\n",
      "25000 0.8368618488311768\n",
      "30000 0.977025032043457\n",
      "35000 1.4753139019012451\n",
      "40000 1.9064319133758545\n",
      "45000 2.4324140548706055\n",
      "50000 2.975337028503418\n",
      "55000 3.3185501098632812\n",
      "60000 3.8388335704803467\n",
      "65000 4.769673109054565\n",
      "70000 5.460821866989136\n",
      "75000 5.98586630821228\n",
      "80000 6.342904567718506\n",
      "85000 7.655496120452881\n",
      "90000 8.635351419448853\n",
      "95000 9.297510623931885\n",
      "100000 10.944636821746826\n",
      "105000 10.982207536697388\n",
      "110000 12.66680383682251\n",
      "115000 12.93708324432373\n",
      "120000 14.005179643630981\n",
      "5000 0.06451988220214844\n",
      "10000 0.18069982528686523\n",
      "15000 0.46194005012512207\n",
      "20000 0.6047787666320801\n",
      "25000 0.7927110195159912\n",
      "30000 1.2285585403442383\n",
      "35000 1.4652183055877686\n",
      "40000 2.1626837253570557\n",
      "45000 2.1934242248535156\n",
      "50000 2.6217832565307617\n",
      "55000 3.385178565979004\n",
      "60000 3.6034677028656006\n",
      "65000 5.156262159347534\n",
      "70000 5.761615991592407\n",
      "75000 6.4651360511779785\n",
      "80000 7.046487092971802\n",
      "85000 7.337990045547485\n",
      "90000 8.701244354248047\n",
      "95000 9.830520153045654\n",
      "100000 9.793452739715576\n",
      "105000 11.68929672241211\n",
      "110000 12.241876125335693\n",
      "115000 12.776707649230957\n",
      "120000 14.589121341705322\n",
      "5000 0.07202339172363281\n",
      "10000 0.1759488582611084\n",
      "15000 0.39456772804260254\n",
      "20000 0.6172053813934326\n",
      "25000 0.7949180603027344\n",
      "30000 1.2429969310760498\n",
      "35000 1.4667181968688965\n",
      "40000 1.9424865245819092\n",
      "45000 2.383268117904663\n",
      "50000 2.8127822875976562\n",
      "55000 3.733144998550415\n",
      "60000 4.262645959854126\n",
      "65000 4.686492204666138\n",
      "70000 5.367093086242676\n",
      "75000 5.809764623641968\n",
      "80000 6.071569442749023\n",
      "85000 7.428979396820068\n",
      "90000 8.782423973083496\n",
      "95000 9.747573852539062\n",
      "100000 11.362487554550171\n",
      "105000 11.367048025131226\n",
      "110000 11.674839735031128\n",
      "115000 13.000734567642212\n",
      "120000 14.432861804962158\n",
      "5000 0.07325053215026855\n",
      "10000 0.19919085502624512\n",
      "15000 0.39765119552612305\n",
      "20000 0.6954290866851807\n",
      "25000 0.9141855239868164\n",
      "30000 1.0060217380523682\n",
      "35000 1.629577875137329\n",
      "40000 1.8757600784301758\n",
      "45000 2.295860528945923\n",
      "50000 2.8934450149536133\n",
      "55000 3.658649206161499\n",
      "60000 4.059771537780762\n",
      "65000 4.7743659019470215\n",
      "70000 5.389169216156006\n",
      "75000 6.379315137863159\n",
      "80000 6.702966213226318\n",
      "85000 7.681029319763184\n",
      "90000 8.329376935958862\n",
      "95000 9.58847713470459\n",
      "100000 10.379818201065063\n",
      "105000 10.982998371124268\n",
      "110000 12.045317888259888\n",
      "115000 14.807777166366577\n",
      "120000 14.340422630310059\n"
     ]
    }
   ],
   "source": [
    "results=[]\n",
    "for i in range(10):\n",
    "    for nn in testlist:\n",
    "#         nn=n*10000\n",
    "        TS=np.random.randint(1,200,nn)\n",
    "#         TS=[round(i*300) for i in TS]\n",
    "        start=time.time()\n",
    "        realStatic(TS)\n",
    "        stop=time.time()-start\n",
    "        results.append([nn,stop])\n",
    "        print(nn,stop)"
   ]
  },
  {
   "cell_type": "code",
   "execution_count": 94,
   "metadata": {},
   "outputs": [],
   "source": [
    "x=np.random.power(3,10000)\n",
    "x=[round(i*300) for i in x]"
   ]
  },
  {
   "cell_type": "code",
   "execution_count": 95,
   "metadata": {},
   "outputs": [
    {
     "data": {
      "text/plain": [
       "<matplotlib.axes._subplots.AxesSubplot at 0x7f13a542a4a8>"
      ]
     },
     "execution_count": 95,
     "metadata": {},
     "output_type": "execute_result"
    },
    {
     "data": {
      "image/png": "[encoded data removed]",
      "text/plain": [
       "<Figure size 432x288 with 1 Axes>"
      ]
     },
     "metadata": {
      "needs_background": "light"
     },
     "output_type": "display_data"
    }
   ],
   "source": [
    "sns.distplot(x,bins=50)"
   ]
  },
  {
   "cell_type": "code",
   "execution_count": null,
   "metadata": {},
   "outputs": [],
   "source": []
  },
  {
   "cell_type": "markdown",
   "metadata": {},
   "source": [
    "# pruebas nlogn"
   ]
  },
  {
   "cell_type": "code",
   "execution_count": 24,
   "metadata": {},
   "outputs": [],
   "source": [
    "# Python program for implementation of MergeSort \n",
    "def mergeSort(arr): \n",
    "    G=nx.Graph()\n",
    "    for i in arr:\n",
    "        i=i+1\n",
    "        i=i-1\n",
    "        i=i**i\n",
    "    \n",
    "    if len(arr) >1: \n",
    "        mid = len(arr)//2 #Finding the mid of the array \n",
    "        L = arr[:mid] # Dividing the array elements  \n",
    "        R = arr[mid:] # into 2 halves \n",
    "  \n",
    "        mergeSort(L) # Sorting the first half \n",
    "        mergeSort(R) # Sorting the second half \n",
    "  \n",
    "        i = j = k = 0\n",
    "          \n",
    "        # Copy data to temp arrays L[] and R[] \n",
    "        while i < len(L) and j < len(R): \n",
    "            if L[i] < R[j]: \n",
    "                arr[k] = L[i] \n",
    "                G.add_edge(L[i],R[j])\n",
    "                i+=1\n",
    "            else: \n",
    "                arr[k] = R[j] \n",
    "                j+=1\n",
    "            k+=1\n",
    "          \n",
    "        # Checking if any element was left \n",
    "        while i < len(L): \n",
    "            arr[k] = L[i] \n",
    "            i+=1\n",
    "            k+=1\n",
    "          \n",
    "        while j < len(R): \n",
    "            arr[k] = R[j] \n",
    "            j+=1\n",
    "            k+=1\n",
    "  \n",
    "    return arr\n",
    "# Code to print the list \n",
    "# def printList(arr): \n",
    "#     for i in range(len(arr)):         \n",
    "#         print(arr[i],end=\" \") \n",
    "#     print() \n",
    "  \n",
    "# # driver code to test the above code \n",
    "# if __name__ == '__main__': \n",
    "#     arr = [12, 11, 13, 5, 6, 7]  \n",
    "#     print (\"Given array is\", end=\"\\n\")  \n",
    "#     printList(arr) \n",
    "#     mergeSort(arr) \n",
    "#     print(\"Sorted array is: \", end=\"\\n\") \n",
    "#     printList(arr) \n",
    "  \n",
    "# This code is contributed by Mayank Khanna "
   ]
  },
  {
   "cell_type": "code",
   "execution_count": 42,
   "metadata": {},
   "outputs": [
    {
     "data": {
      "text/plain": [
       "[1, 3, 4, 6, 6, 7, 8, 9]"
      ]
     },
     "execution_count": 42,
     "metadata": {},
     "output_type": "execute_result"
    }
   ],
   "source": [
    "mergeSort([1,4,8,3,6,9,6,7])"
   ]
  },
  {
   "cell_type": "code",
   "execution_count": 48,
   "metadata": {},
   "outputs": [
    {
     "name": "stdout",
     "output_type": "stream",
     "text": [
      "5000 0.09270524978637695\n",
      "10000 0.15882396697998047\n",
      "15000 0.25069570541381836\n",
      "20000 0.3392808437347412\n",
      "25000 0.4525027275085449\n",
      "30000 0.5101041793823242\n",
      "35000 0.6254360675811768\n",
      "40000 0.7096443176269531\n",
      "45000 0.7859079837799072\n",
      "50000 0.8973531723022461\n",
      "55000 0.985374927520752\n",
      "60000 1.0774552822113037\n",
      "65000 1.1762444972991943\n",
      "70000 1.278144121170044\n",
      "5000 0.08839988708496094\n",
      "10000 0.15680336952209473\n",
      "15000 0.24670076370239258\n",
      "20000 0.3394312858581543\n",
      "25000 0.44927453994750977\n",
      "30000 0.5106751918792725\n",
      "35000 0.6298129558563232\n",
      "40000 0.7062461376190186\n",
      "45000 0.8124094009399414\n",
      "50000 0.895716667175293\n",
      "55000 1.0031142234802246\n",
      "60000 1.0834429264068604\n",
      "65000 1.1754112243652344\n",
      "70000 1.270622968673706\n",
      "5000 0.07630133628845215\n",
      "10000 0.18112444877624512\n",
      "15000 0.24123454093933105\n",
      "20000 0.348095178604126\n",
      "25000 0.44187450408935547\n",
      "30000 0.515052318572998\n",
      "35000 0.6173632144927979\n",
      "40000 0.7038328647613525\n",
      "45000 0.8104922771453857\n",
      "50000 0.8943452835083008\n",
      "55000 0.9895462989807129\n",
      "60000 1.087756633758545\n",
      "65000 1.1750991344451904\n",
      "70000 1.2714626789093018\n",
      "5000 0.07536530494689941\n",
      "10000 0.15813398361206055\n",
      "15000 0.2755856513977051\n",
      "20000 0.33360815048217773\n",
      "25000 0.42289233207702637\n",
      "30000 0.5387332439422607\n",
      "35000 0.6087892055511475\n",
      "40000 0.7096755504608154\n",
      "45000 0.7987103462219238\n",
      "50000 0.8972475528717041\n",
      "55000 0.989081621170044\n",
      "60000 1.0914287567138672\n",
      "65000 1.173459768295288\n",
      "70000 1.294274091720581\n",
      "5000 0.07588768005371094\n",
      "10000 0.1563272476196289\n",
      "15000 0.2472827434539795\n",
      "20000 0.360048770904541\n",
      "25000 0.4243619441986084\n",
      "30000 0.5260183811187744\n",
      "35000 0.6125514507293701\n",
      "40000 0.7173569202423096\n",
      "45000 0.8055908679962158\n",
      "50000 0.8926999568939209\n",
      "55000 0.9863345623016357\n",
      "60000 1.0791687965393066\n",
      "65000 1.1919541358947754\n",
      "70000 1.2709355354309082\n",
      "5000 0.07543444633483887\n",
      "10000 0.1571028232574463\n",
      "15000 0.33576202392578125\n",
      "20000 0.40007686614990234\n",
      "25000 0.4310882091522217\n",
      "30000 0.5335965156555176\n",
      "35000 0.5987751483917236\n",
      "40000 0.7093019485473633\n",
      "45000 0.8114049434661865\n",
      "50000 0.883786678314209\n",
      "55000 0.9855489730834961\n",
      "60000 1.0785255432128906\n",
      "65000 1.198258399963379\n",
      "70000 1.2859854698181152\n",
      "5000 0.07513785362243652\n",
      "10000 0.15764069557189941\n",
      "15000 0.25879645347595215\n",
      "20000 0.351517915725708\n",
      "25000 0.43039727210998535\n",
      "30000 0.5156815052032471\n",
      "35000 0.6219534873962402\n",
      "40000 0.7084062099456787\n",
      "45000 0.7849271297454834\n",
      "50000 0.8971149921417236\n",
      "55000 0.9855766296386719\n",
      "60000 1.087895393371582\n",
      "65000 1.1789531707763672\n",
      "70000 1.3015775680541992\n",
      "5000 0.07384419441223145\n",
      "10000 0.15362763404846191\n",
      "15000 0.24715638160705566\n",
      "20000 0.3469243049621582\n",
      "25000 0.43584489822387695\n",
      "30000 0.5139529705047607\n",
      "35000 0.6055357456207275\n",
      "40000 0.6996314525604248\n",
      "45000 0.8059651851654053\n",
      "50000 0.894798755645752\n",
      "55000 0.97157883644104\n",
      "60000 1.0698323249816895\n",
      "65000 1.1557297706604004\n",
      "70000 1.259197473526001\n",
      "5000 0.07478857040405273\n",
      "10000 0.15964055061340332\n",
      "15000 0.26894426345825195\n",
      "20000 0.3356361389160156\n",
      "25000 0.42090463638305664\n",
      "30000 0.520043134689331\n",
      "35000 0.6096978187561035\n",
      "40000 0.6872305870056152\n",
      "45000 0.7928297519683838\n",
      "50000 0.8786296844482422\n",
      "55000 0.9828293323516846\n",
      "60000 1.0701212882995605\n",
      "65000 1.1570594310760498\n",
      "70000 1.2555432319641113\n",
      "5000 0.07472729682922363\n",
      "10000 0.15664935111999512\n",
      "15000 0.2432563304901123\n",
      "20000 0.3558368682861328\n",
      "25000 0.415834903717041\n",
      "30000 0.5264816284179688\n",
      "35000 0.5994207859039307\n",
      "40000 0.7351834774017334\n",
      "45000 0.796506404876709\n",
      "50000 0.8760843276977539\n",
      "55000 1.0185494422912598\n",
      "60000 1.0766868591308594\n",
      "65000 1.175736665725708\n",
      "70000 1.266019344329834\n"
     ]
    }
   ],
   "source": [
    "results=[]\n",
    "for i in range(10):\n",
    "    for nn in testlist:\n",
    "#         nn=n*10000\n",
    "        \n",
    "        TS=np.cumsum(np.random.randint(1,200,nn)[::-1])[::-1]\n",
    "        start=time.time()\n",
    "        mergeSort(TS)\n",
    "        stop=time.time()-start\n",
    "        results.append([nn,stop])\n",
    "        print(nn,stop)"
   ]
  },
  {
   "cell_type": "code",
   "execution_count": 28,
   "metadata": {},
   "outputs": [],
   "source": [
    "\n",
    "x=[i* np.log2(i) for i in testlist]"
   ]
  },
  {
   "cell_type": "code",
   "execution_count": 33,
   "metadata": {
    "scrolled": true
   },
   "outputs": [
    {
     "data": {
      "text/plain": [
       "[<matplotlib.lines.Line2D at 0x7f8d9a77be48>]"
      ]
     },
     "execution_count": 33,
     "metadata": {},
     "output_type": "execute_result"
    },
    {
     "data": {
      "image/png": "[encoded data removed]",
      "text/plain": [
       "<Figure size 432x288 with 1 Axes>"
      ]
     },
     "metadata": {
      "needs_background": "light"
     },
     "output_type": "display_data"
    }
   ],
   "source": [
    "plt.plot(testlist,x,'-ob')"
   ]
  },
  {
   "cell_type": "markdown",
   "metadata": {},
   "source": [
    "# Pruebas en streaming real "
   ]
  },
  {
   "cell_type": "markdown",
   "metadata": {},
   "source": [
    "### pruebas con el algoritmo original. "
   ]
  },
  {
   "cell_type": "code",
   "execution_count": 50,
   "metadata": {},
   "outputs": [
    {
     "data": {
      "text/plain": [
       "array([ 88,  62,  16,  51,  12,  43, 156, 113,  98, 149, 191, 117, 163,\n",
       "       151, 151,  95, 117,  54, 131, 142])"
      ]
     },
     "execution_count": 50,
     "metadata": {},
     "output_type": "execute_result"
    }
   ],
   "source": [
    "serie=np.random.randint(1,200,20)\n",
    "serie"
   ]
  },
  {
   "cell_type": "code",
   "execution_count": 51,
   "metadata": {},
   "outputs": [],
   "source": [
    "visGraphStreaming(serie,10)"
   ]
  },
  {
   "cell_type": "code",
   "execution_count": null,
   "metadata": {},
   "outputs": [
    {
     "name": "stdout",
     "output_type": "stream",
     "text": [
      "5000 6.9141387939453125e-06\n",
      "10000 404.60823464393616\n",
      "15000 790.574832201004\n",
      "20000 1207.104079246521\n",
      "25000 1576.9417793750763\n",
      "30000 2026.9560990333557\n",
      "35000 2413.6066551208496\n"
     ]
    }
   ],
   "source": [
    "results=[]\n",
    "for i in range(10):\n",
    "    for nn in testlist:\n",
    "\n",
    "        TS=np.cumsum(np.random.randint(1,2000,nn)[::-1])[::-1]\n",
    "        start=time.time()\n",
    "        window=5000\n",
    "        for j in range(len(TS)-window):\n",
    "            mergeSort(TS[j:window+j])\n",
    "        stop=time.time()-start\n",
    "        results.append([nn,stop])\n",
    "        print(nn,stop)"
   ]
  },
  {
   "cell_type": "code",
   "execution_count": 26,
   "metadata": {},
   "outputs": [
    {
     "name": "stdout",
     "output_type": "stream",
     "text": [
      "5000 5.245208740234375e-06\n",
      "10000 4.0531158447265625e-06\n",
      "15000 813.4525098800659\n",
      "20000 1622.6789872646332\n"
     ]
    },
    {
     "ename": "KeyboardInterrupt",
     "evalue": "",
     "output_type": "error",
     "traceback": [
      "\u001b[0;31m---------------------------------------------------------------------------\u001b[0m",
      "\u001b[0;31mKeyboardInterrupt\u001b[0m                         Traceback (most recent call last)",
      "\u001b[0;32m<ipython-input-26-5a698b939ea1>\u001b[0m in \u001b[0;36m<module>\u001b[0;34m\u001b[0m\n\u001b[1;32m      7\u001b[0m         \u001b[0mwindow\u001b[0m\u001b[0;34m=\u001b[0m\u001b[0;36m10000\u001b[0m\u001b[0;34m\u001b[0m\u001b[0;34m\u001b[0m\u001b[0m\n\u001b[1;32m      8\u001b[0m         \u001b[0;32mfor\u001b[0m \u001b[0mj\u001b[0m \u001b[0;32min\u001b[0m \u001b[0mrange\u001b[0m\u001b[0;34m(\u001b[0m\u001b[0mlen\u001b[0m\u001b[0;34m(\u001b[0m\u001b[0mTS\u001b[0m\u001b[0;34m)\u001b[0m\u001b[0;34m-\u001b[0m\u001b[0mwindow\u001b[0m\u001b[0;34m)\u001b[0m\u001b[0;34m:\u001b[0m\u001b[0;34m\u001b[0m\u001b[0;34m\u001b[0m\u001b[0m\n\u001b[0;32m----> 9\u001b[0;31m             \u001b[0mmergeSort\u001b[0m\u001b[0;34m(\u001b[0m\u001b[0mTS\u001b[0m\u001b[0;34m[\u001b[0m\u001b[0mj\u001b[0m\u001b[0;34m:\u001b[0m\u001b[0mwindow\u001b[0m\u001b[0;34m+\u001b[0m\u001b[0mj\u001b[0m\u001b[0;34m]\u001b[0m\u001b[0;34m)\u001b[0m\u001b[0;34m\u001b[0m\u001b[0;34m\u001b[0m\u001b[0m\n\u001b[0m\u001b[1;32m     10\u001b[0m         \u001b[0mstop\u001b[0m\u001b[0;34m=\u001b[0m\u001b[0mtime\u001b[0m\u001b[0;34m.\u001b[0m\u001b[0mtime\u001b[0m\u001b[0;34m(\u001b[0m\u001b[0;34m)\u001b[0m\u001b[0;34m-\u001b[0m\u001b[0mstart\u001b[0m\u001b[0;34m\u001b[0m\u001b[0;34m\u001b[0m\u001b[0m\n\u001b[1;32m     11\u001b[0m         \u001b[0mresults\u001b[0m\u001b[0;34m.\u001b[0m\u001b[0mappend\u001b[0m\u001b[0;34m(\u001b[0m\u001b[0;34m[\u001b[0m\u001b[0mnn\u001b[0m\u001b[0;34m,\u001b[0m\u001b[0mstop\u001b[0m\u001b[0;34m]\u001b[0m\u001b[0;34m)\u001b[0m\u001b[0;34m\u001b[0m\u001b[0;34m\u001b[0m\u001b[0m\n",
      "\u001b[0;32m<ipython-input-25-4503019dd16c>\u001b[0m in \u001b[0;36mmergeSort\u001b[0;34m(arr)\u001b[0m\n\u001b[1;32m     13\u001b[0m \u001b[0;34m\u001b[0m\u001b[0m\n\u001b[1;32m     14\u001b[0m         \u001b[0mmergeSort\u001b[0m\u001b[0;34m(\u001b[0m\u001b[0mL\u001b[0m\u001b[0;34m)\u001b[0m \u001b[0;31m# Sorting the first half\u001b[0m\u001b[0;34m\u001b[0m\u001b[0;34m\u001b[0m\u001b[0m\n\u001b[0;32m---> 15\u001b[0;31m         \u001b[0mmergeSort\u001b[0m\u001b[0;34m(\u001b[0m\u001b[0mR\u001b[0m\u001b[0;34m)\u001b[0m \u001b[0;31m# Sorting the second half\u001b[0m\u001b[0;34m\u001b[0m\u001b[0;34m\u001b[0m\u001b[0m\n\u001b[0m\u001b[1;32m     16\u001b[0m \u001b[0;34m\u001b[0m\u001b[0m\n\u001b[1;32m     17\u001b[0m         \u001b[0mi\u001b[0m \u001b[0;34m=\u001b[0m \u001b[0mj\u001b[0m \u001b[0;34m=\u001b[0m \u001b[0mk\u001b[0m \u001b[0;34m=\u001b[0m \u001b[0;36m0\u001b[0m\u001b[0;34m\u001b[0m\u001b[0;34m\u001b[0m\u001b[0m\n",
      "\u001b[0;32m<ipython-input-25-4503019dd16c>\u001b[0m in \u001b[0;36mmergeSort\u001b[0;34m(arr)\u001b[0m\n\u001b[1;32m     12\u001b[0m         \u001b[0mR\u001b[0m \u001b[0;34m=\u001b[0m \u001b[0marr\u001b[0m\u001b[0;34m[\u001b[0m\u001b[0mmid\u001b[0m\u001b[0;34m:\u001b[0m\u001b[0;34m]\u001b[0m \u001b[0;31m# into 2 halves\u001b[0m\u001b[0;34m\u001b[0m\u001b[0;34m\u001b[0m\u001b[0m\n\u001b[1;32m     13\u001b[0m \u001b[0;34m\u001b[0m\u001b[0m\n\u001b[0;32m---> 14\u001b[0;31m         \u001b[0mmergeSort\u001b[0m\u001b[0;34m(\u001b[0m\u001b[0mL\u001b[0m\u001b[0;34m)\u001b[0m \u001b[0;31m# Sorting the first half\u001b[0m\u001b[0;34m\u001b[0m\u001b[0;34m\u001b[0m\u001b[0m\n\u001b[0m\u001b[1;32m     15\u001b[0m         \u001b[0mmergeSort\u001b[0m\u001b[0;34m(\u001b[0m\u001b[0mR\u001b[0m\u001b[0;34m)\u001b[0m \u001b[0;31m# Sorting the second half\u001b[0m\u001b[0;34m\u001b[0m\u001b[0;34m\u001b[0m\u001b[0m\n\u001b[1;32m     16\u001b[0m \u001b[0;34m\u001b[0m\u001b[0m\n",
      "\u001b[0;32m<ipython-input-25-4503019dd16c>\u001b[0m in \u001b[0;36mmergeSort\u001b[0;34m(arr)\u001b[0m\n\u001b[1;32m     12\u001b[0m         \u001b[0mR\u001b[0m \u001b[0;34m=\u001b[0m \u001b[0marr\u001b[0m\u001b[0;34m[\u001b[0m\u001b[0mmid\u001b[0m\u001b[0;34m:\u001b[0m\u001b[0;34m]\u001b[0m \u001b[0;31m# into 2 halves\u001b[0m\u001b[0;34m\u001b[0m\u001b[0;34m\u001b[0m\u001b[0m\n\u001b[1;32m     13\u001b[0m \u001b[0;34m\u001b[0m\u001b[0m\n\u001b[0;32m---> 14\u001b[0;31m         \u001b[0mmergeSort\u001b[0m\u001b[0;34m(\u001b[0m\u001b[0mL\u001b[0m\u001b[0;34m)\u001b[0m \u001b[0;31m# Sorting the first half\u001b[0m\u001b[0;34m\u001b[0m\u001b[0;34m\u001b[0m\u001b[0m\n\u001b[0m\u001b[1;32m     15\u001b[0m         \u001b[0mmergeSort\u001b[0m\u001b[0;34m(\u001b[0m\u001b[0mR\u001b[0m\u001b[0;34m)\u001b[0m \u001b[0;31m# Sorting the second half\u001b[0m\u001b[0;34m\u001b[0m\u001b[0;34m\u001b[0m\u001b[0m\n\u001b[1;32m     16\u001b[0m \u001b[0;34m\u001b[0m\u001b[0m\n",
      "\u001b[0;32m<ipython-input-25-4503019dd16c>\u001b[0m in \u001b[0;36mmergeSort\u001b[0;34m(arr)\u001b[0m\n\u001b[1;32m     12\u001b[0m         \u001b[0mR\u001b[0m \u001b[0;34m=\u001b[0m \u001b[0marr\u001b[0m\u001b[0;34m[\u001b[0m\u001b[0mmid\u001b[0m\u001b[0;34m:\u001b[0m\u001b[0;34m]\u001b[0m \u001b[0;31m# into 2 halves\u001b[0m\u001b[0;34m\u001b[0m\u001b[0;34m\u001b[0m\u001b[0m\n\u001b[1;32m     13\u001b[0m \u001b[0;34m\u001b[0m\u001b[0m\n\u001b[0;32m---> 14\u001b[0;31m         \u001b[0mmergeSort\u001b[0m\u001b[0;34m(\u001b[0m\u001b[0mL\u001b[0m\u001b[0;34m)\u001b[0m \u001b[0;31m# Sorting the first half\u001b[0m\u001b[0;34m\u001b[0m\u001b[0;34m\u001b[0m\u001b[0m\n\u001b[0m\u001b[1;32m     15\u001b[0m         \u001b[0mmergeSort\u001b[0m\u001b[0;34m(\u001b[0m\u001b[0mR\u001b[0m\u001b[0;34m)\u001b[0m \u001b[0;31m# Sorting the second half\u001b[0m\u001b[0;34m\u001b[0m\u001b[0;34m\u001b[0m\u001b[0m\n\u001b[1;32m     16\u001b[0m \u001b[0;34m\u001b[0m\u001b[0m\n",
      "\u001b[0;32m<ipython-input-25-4503019dd16c>\u001b[0m in \u001b[0;36mmergeSort\u001b[0;34m(arr)\u001b[0m\n\u001b[1;32m     12\u001b[0m         \u001b[0mR\u001b[0m \u001b[0;34m=\u001b[0m \u001b[0marr\u001b[0m\u001b[0;34m[\u001b[0m\u001b[0mmid\u001b[0m\u001b[0;34m:\u001b[0m\u001b[0;34m]\u001b[0m \u001b[0;31m# into 2 halves\u001b[0m\u001b[0;34m\u001b[0m\u001b[0;34m\u001b[0m\u001b[0m\n\u001b[1;32m     13\u001b[0m \u001b[0;34m\u001b[0m\u001b[0m\n\u001b[0;32m---> 14\u001b[0;31m         \u001b[0mmergeSort\u001b[0m\u001b[0;34m(\u001b[0m\u001b[0mL\u001b[0m\u001b[0;34m)\u001b[0m \u001b[0;31m# Sorting the first half\u001b[0m\u001b[0;34m\u001b[0m\u001b[0;34m\u001b[0m\u001b[0m\n\u001b[0m\u001b[1;32m     15\u001b[0m         \u001b[0mmergeSort\u001b[0m\u001b[0;34m(\u001b[0m\u001b[0mR\u001b[0m\u001b[0;34m)\u001b[0m \u001b[0;31m# Sorting the second half\u001b[0m\u001b[0;34m\u001b[0m\u001b[0;34m\u001b[0m\u001b[0m\n\u001b[1;32m     16\u001b[0m \u001b[0;34m\u001b[0m\u001b[0m\n",
      "\u001b[0;32m<ipython-input-25-4503019dd16c>\u001b[0m in \u001b[0;36mmergeSort\u001b[0;34m(arr)\u001b[0m\n\u001b[1;32m     13\u001b[0m \u001b[0;34m\u001b[0m\u001b[0m\n\u001b[1;32m     14\u001b[0m         \u001b[0mmergeSort\u001b[0m\u001b[0;34m(\u001b[0m\u001b[0mL\u001b[0m\u001b[0;34m)\u001b[0m \u001b[0;31m# Sorting the first half\u001b[0m\u001b[0;34m\u001b[0m\u001b[0;34m\u001b[0m\u001b[0m\n\u001b[0;32m---> 15\u001b[0;31m         \u001b[0mmergeSort\u001b[0m\u001b[0;34m(\u001b[0m\u001b[0mR\u001b[0m\u001b[0;34m)\u001b[0m \u001b[0;31m# Sorting the second half\u001b[0m\u001b[0;34m\u001b[0m\u001b[0;34m\u001b[0m\u001b[0m\n\u001b[0m\u001b[1;32m     16\u001b[0m \u001b[0;34m\u001b[0m\u001b[0m\n\u001b[1;32m     17\u001b[0m         \u001b[0mi\u001b[0m \u001b[0;34m=\u001b[0m \u001b[0mj\u001b[0m \u001b[0;34m=\u001b[0m \u001b[0mk\u001b[0m \u001b[0;34m=\u001b[0m \u001b[0;36m0\u001b[0m\u001b[0;34m\u001b[0m\u001b[0;34m\u001b[0m\u001b[0m\n",
      "\u001b[0;32m<ipython-input-25-4503019dd16c>\u001b[0m in \u001b[0;36mmergeSort\u001b[0;34m(arr)\u001b[0m\n\u001b[1;32m     13\u001b[0m \u001b[0;34m\u001b[0m\u001b[0m\n\u001b[1;32m     14\u001b[0m         \u001b[0mmergeSort\u001b[0m\u001b[0;34m(\u001b[0m\u001b[0mL\u001b[0m\u001b[0;34m)\u001b[0m \u001b[0;31m# Sorting the first half\u001b[0m\u001b[0;34m\u001b[0m\u001b[0;34m\u001b[0m\u001b[0m\n\u001b[0;32m---> 15\u001b[0;31m         \u001b[0mmergeSort\u001b[0m\u001b[0;34m(\u001b[0m\u001b[0mR\u001b[0m\u001b[0;34m)\u001b[0m \u001b[0;31m# Sorting the second half\u001b[0m\u001b[0;34m\u001b[0m\u001b[0;34m\u001b[0m\u001b[0m\n\u001b[0m\u001b[1;32m     16\u001b[0m \u001b[0;34m\u001b[0m\u001b[0m\n\u001b[1;32m     17\u001b[0m         \u001b[0mi\u001b[0m \u001b[0;34m=\u001b[0m \u001b[0mj\u001b[0m \u001b[0;34m=\u001b[0m \u001b[0mk\u001b[0m \u001b[0;34m=\u001b[0m \u001b[0;36m0\u001b[0m\u001b[0;34m\u001b[0m\u001b[0;34m\u001b[0m\u001b[0m\n",
      "\u001b[0;32m<ipython-input-25-4503019dd16c>\u001b[0m in \u001b[0;36mmergeSort\u001b[0;34m(arr)\u001b[0m\n\u001b[1;32m     13\u001b[0m \u001b[0;34m\u001b[0m\u001b[0m\n\u001b[1;32m     14\u001b[0m         \u001b[0mmergeSort\u001b[0m\u001b[0;34m(\u001b[0m\u001b[0mL\u001b[0m\u001b[0;34m)\u001b[0m \u001b[0;31m# Sorting the first half\u001b[0m\u001b[0;34m\u001b[0m\u001b[0;34m\u001b[0m\u001b[0m\n\u001b[0;32m---> 15\u001b[0;31m         \u001b[0mmergeSort\u001b[0m\u001b[0;34m(\u001b[0m\u001b[0mR\u001b[0m\u001b[0;34m)\u001b[0m \u001b[0;31m# Sorting the second half\u001b[0m\u001b[0;34m\u001b[0m\u001b[0;34m\u001b[0m\u001b[0m\n\u001b[0m\u001b[1;32m     16\u001b[0m \u001b[0;34m\u001b[0m\u001b[0m\n\u001b[1;32m     17\u001b[0m         \u001b[0mi\u001b[0m \u001b[0;34m=\u001b[0m \u001b[0mj\u001b[0m \u001b[0;34m=\u001b[0m \u001b[0mk\u001b[0m \u001b[0;34m=\u001b[0m \u001b[0;36m0\u001b[0m\u001b[0;34m\u001b[0m\u001b[0;34m\u001b[0m\u001b[0m\n",
      "\u001b[0;31mKeyboardInterrupt\u001b[0m: "
     ]
    }
   ],
   "source": [
    "results=[]\n",
    "for i in range(10):\n",
    "    for nn in testlist:\n",
    "\n",
    "        TS=np.cumsum(np.random.randint(1,2000,nn)[::-1])[::-1]\n",
    "        start=time.time()\n",
    "        window=10000\n",
    "        for j in range(len(TS)-window):\n",
    "            mergeSort(TS[j:window+j])\n",
    "        stop=time.time()-start\n",
    "        results.append([nn,stop])\n",
    "        print(nn,stop)"
   ]
  },
  {
   "cell_type": "code",
   "execution_count": 26,
   "metadata": {},
   "outputs": [],
   "source": [
    "TS=np.random.randint(1,200,100)"
   ]
  },
  {
   "cell_type": "code",
   "execution_count": 39,
   "metadata": {},
   "outputs": [
    {
     "data": {
      "text/plain": [
       "<networkx.classes.graph.Graph at 0x7f6360e12b00>"
      ]
     },
     "execution_count": 39,
     "metadata": {},
     "output_type": "execute_result"
    }
   ],
   "source": [
    "realStreaming(TS,10)"
   ]
  },
  {
   "cell_type": "markdown",
   "metadata": {},
   "source": [
    "# time tests for real streaming with optimized algorithm "
   ]
  },
  {
   "cell_type": "code",
   "execution_count": 29,
   "metadata": {},
   "outputs": [
    {
     "name": "stdout",
     "output_type": "stream",
     "text": [
      "5000 2.78224778175354\n",
      "10000 5.865471363067627\n",
      "15000 8.594739198684692\n",
      "20000 11.49916958808899\n",
      "25000 14.439351081848145\n",
      "30000 17.44394326210022\n",
      "35000 20.573955535888672\n",
      "40000 23.62071704864502\n",
      "45000 26.897940158843994\n",
      "50000 29.402395009994507\n",
      "55000 32.208672761917114\n",
      "60000 35.40497612953186\n",
      "65000 38.13041877746582\n",
      "70000 41.085083961486816\n",
      "5000 2.5417745113372803\n",
      "10000 5.49898099899292\n",
      "15000 8.46606707572937\n",
      "20000 11.534358263015747\n",
      "25000 14.386224269866943\n",
      "30000 17.343141794204712\n",
      "35000 20.315749168395996\n",
      "40000 23.394724130630493\n",
      "45000 26.384025812149048\n",
      "50000 29.10714602470398\n",
      "55000 31.97221541404724\n",
      "60000 34.95640850067139\n",
      "65000 37.66549491882324\n",
      "70000 40.599844217300415\n",
      "5000 2.511429786682129\n",
      "10000 5.398767709732056\n",
      "15000 8.397263288497925\n",
      "20000 11.305027723312378\n",
      "25000 14.174690961837769\n",
      "30000 17.18991994857788\n",
      "35000 20.092764854431152\n",
      "40000 23.101832151412964\n",
      "45000 25.930347681045532\n",
      "50000 28.868181228637695\n",
      "55000 31.76353645324707\n",
      "60000 34.89735746383667\n",
      "65000 37.57934880256653\n",
      "70000 40.4608211517334\n",
      "5000 2.5060088634490967\n",
      "10000 5.456733226776123\n",
      "15000 8.3663911819458\n",
      "20000 11.30248212814331\n",
      "25000 14.271859884262085\n",
      "30000 17.07323145866394\n",
      "35000 20.064217805862427\n",
      "40000 23.08424997329712\n",
      "45000 25.976768255233765\n",
      "50000 28.917056560516357\n",
      "55000 31.93763303756714\n",
      "60000 34.695313453674316\n",
      "65000 37.71327590942383\n",
      "70000 40.72626256942749\n",
      "5000 2.5183444023132324\n",
      "10000 5.417633056640625\n",
      "15000 8.351453304290771\n",
      "20000 11.308505773544312\n",
      "25000 14.222909688949585\n",
      "30000 17.211467504501343\n",
      "35000 20.09176540374756\n",
      "40000 23.000542879104614\n",
      "45000 25.95081329345703\n",
      "50000 28.95958399772644\n",
      "55000 31.95994281768799\n",
      "60000 34.760157346725464\n",
      "65000 37.73181653022766\n",
      "70000 40.53940677642822\n",
      "5000 2.52256441116333\n",
      "10000 5.449015140533447\n",
      "15000 8.45547103881836\n",
      "20000 11.276213884353638\n",
      "25000 14.221920251846313\n",
      "30000 17.25203275680542\n",
      "35000 20.064931631088257\n",
      "40000 22.979389190673828\n",
      "45000 25.98704218864441\n",
      "50000 28.87720489501953\n",
      "55000 32.09049677848816\n",
      "60000 34.80843186378479\n",
      "65000 37.7469482421875\n",
      "70000 40.621241331100464\n",
      "5000 2.5224246978759766\n",
      "10000 5.416486024856567\n",
      "15000 8.392448902130127\n",
      "20000 11.262583017349243\n",
      "25000 14.178056240081787\n",
      "30000 17.128448247909546\n",
      "35000 20.184152126312256\n",
      "40000 23.041404485702515\n",
      "45000 25.865049362182617\n",
      "50000 28.905075311660767\n",
      "55000 31.807938814163208\n",
      "60000 34.84008717536926\n",
      "65000 37.648494243621826\n",
      "70000 40.65119242668152\n",
      "5000 2.5506134033203125\n",
      "10000 5.42242431640625\n",
      "15000 8.456040382385254\n",
      "20000 11.34630823135376\n",
      "25000 14.2385892868042\n",
      "30000 17.140705108642578\n",
      "35000 20.008306741714478\n",
      "40000 23.020761251449585\n",
      "45000 25.941410779953003\n",
      "50000 29.06368064880371\n",
      "55000 32.220372676849365\n",
      "60000 35.05235266685486\n",
      "65000 37.81382656097412\n",
      "70000 40.89511036872864\n",
      "5000 2.5205276012420654\n",
      "10000 5.422899007797241\n",
      "15000 8.364382028579712\n",
      "20000 11.326419591903687\n",
      "25000 14.227176427841187\n",
      "30000 17.173217058181763\n",
      "35000 20.234383821487427\n",
      "40000 22.97732448577881\n",
      "45000 25.91582703590393\n",
      "50000 28.739228010177612\n",
      "55000 31.894163131713867\n",
      "60000 34.74806618690491\n",
      "65000 37.645652294158936\n",
      "70000 40.66003489494324\n",
      "5000 2.504875659942627\n",
      "10000 5.5545432567596436\n",
      "15000 8.35899019241333\n",
      "20000 11.338335752487183\n",
      "25000 14.186084270477295\n",
      "30000 17.252795696258545\n",
      "35000 20.034464597702026\n",
      "40000 23.1165771484375\n",
      "45000 26.00438904762268\n",
      "50000 28.900468111038208\n",
      "55000 32.00919461250305\n",
      "60000 34.81827187538147\n",
      "65000 37.76682090759277\n",
      "70000 40.63312768936157\n"
     ]
    }
   ],
   "source": [
    "results=[]\n",
    "for i in range(10):\n",
    "    for nn in testlist:\n",
    "\n",
    "        TS=np.cumsum(np.random.randint(1,200,nn)[::-1])[::-1]\n",
    "        start=time.time()\n",
    "        window=500\n",
    "        realStreaming(TS,1500)\n",
    "        stop=time.time()-start\n",
    "        results.append([nn,stop])\n",
    "        print(nn,stop)"
   ]
  },
  {
   "cell_type": "code",
   "execution_count": 48,
   "metadata": {},
   "outputs": [
    {
     "name": "stdout",
     "output_type": "stream",
     "text": [
      "500 0.17297124862670898\n",
      "1000 0.4996492862701416\n",
      "1500 0.52950119972229\n",
      "2000 1.1817853450775146\n",
      "2500 1.4011425971984863\n",
      "3000 1.5656530857086182\n",
      "3500 2.0495407581329346\n"
     ]
    },
    {
     "ename": "KeyboardInterrupt",
     "evalue": "",
     "output_type": "error",
     "traceback": [
      "\u001b[0;31m---------------------------------------------------------------------------\u001b[0m",
      "\u001b[0;31mKeyboardInterrupt\u001b[0m                         Traceback (most recent call last)",
      "\u001b[0;32m<ipython-input-48-cbaffe67efd6>\u001b[0m in \u001b[0;36m<module>\u001b[0;34m\u001b[0m\n\u001b[1;32m      6\u001b[0m         \u001b[0mstart\u001b[0m\u001b[0;34m=\u001b[0m\u001b[0mtime\u001b[0m\u001b[0;34m.\u001b[0m\u001b[0mtime\u001b[0m\u001b[0;34m(\u001b[0m\u001b[0;34m)\u001b[0m\u001b[0;34m\u001b[0m\u001b[0;34m\u001b[0m\u001b[0m\n\u001b[1;32m      7\u001b[0m         \u001b[0mwindow\u001b[0m\u001b[0;34m=\u001b[0m\u001b[0;36m500\u001b[0m\u001b[0;34m\u001b[0m\u001b[0;34m\u001b[0m\u001b[0m\n\u001b[0;32m----> 8\u001b[0;31m         \u001b[0mrealStreaming\u001b[0m\u001b[0;34m(\u001b[0m\u001b[0mTS\u001b[0m\u001b[0;34m,\u001b[0m\u001b[0;36m1500\u001b[0m\u001b[0;34m)\u001b[0m\u001b[0;34m\u001b[0m\u001b[0;34m\u001b[0m\u001b[0m\n\u001b[0m\u001b[1;32m      9\u001b[0m         \u001b[0mstop\u001b[0m\u001b[0;34m=\u001b[0m\u001b[0mtime\u001b[0m\u001b[0;34m.\u001b[0m\u001b[0mtime\u001b[0m\u001b[0;34m(\u001b[0m\u001b[0;34m)\u001b[0m\u001b[0;34m-\u001b[0m\u001b[0mstart\u001b[0m\u001b[0;34m\u001b[0m\u001b[0;34m\u001b[0m\u001b[0m\n\u001b[1;32m     10\u001b[0m         \u001b[0mresults\u001b[0m\u001b[0;34m.\u001b[0m\u001b[0mappend\u001b[0m\u001b[0;34m(\u001b[0m\u001b[0;34m[\u001b[0m\u001b[0mnn\u001b[0m\u001b[0;34m,\u001b[0m\u001b[0mstop\u001b[0m\u001b[0;34m]\u001b[0m\u001b[0;34m)\u001b[0m\u001b[0;34m\u001b[0m\u001b[0;34m\u001b[0m\u001b[0m\n",
      "\u001b[0;32m<ipython-input-42-1926ed3ee4a6>\u001b[0m in \u001b[0;36mrealStreaming\u001b[0;34m(TS, window)\u001b[0m\n\u001b[1;32m      8\u001b[0m                 \u001b[0mmaxlst\u001b[0m\u001b[0;34m.\u001b[0m\u001b[0mremove\u001b[0m\u001b[0;34m(\u001b[0m\u001b[0mmaxlst\u001b[0m\u001b[0;34m[\u001b[0m\u001b[0;36m0\u001b[0m\u001b[0;34m]\u001b[0m\u001b[0;34m)\u001b[0m\u001b[0;34m\u001b[0m\u001b[0;34m\u001b[0m\u001b[0m\n\u001b[1;32m      9\u001b[0m             \u001b[0mG\u001b[0m\u001b[0;34m.\u001b[0m\u001b[0mremove_node\u001b[0m\u001b[0;34m(\u001b[0m\u001b[0msample\u001b[0m\u001b[0;34m)\u001b[0m\u001b[0;34m\u001b[0m\u001b[0;34m\u001b[0m\u001b[0m\n\u001b[0;32m---> 10\u001b[0;31m             \u001b[0mnewLecture\u001b[0m\u001b[0;34m(\u001b[0m\u001b[0mTS\u001b[0m\u001b[0;34m[\u001b[0m\u001b[0msample\u001b[0m\u001b[0;34m+\u001b[0m\u001b[0mwindow\u001b[0m\u001b[0;34m]\u001b[0m\u001b[0;34m,\u001b[0m\u001b[0mwindow\u001b[0m\u001b[0;34m+\u001b[0m\u001b[0msample\u001b[0m\u001b[0;34m,\u001b[0m\u001b[0mmaxlst\u001b[0m\u001b[0;34m,\u001b[0m\u001b[0mG\u001b[0m\u001b[0;34m,\u001b[0m\u001b[0msample\u001b[0m\u001b[0;34m)\u001b[0m\u001b[0;34m\u001b[0m\u001b[0;34m\u001b[0m\u001b[0m\n\u001b[0m\u001b[1;32m     11\u001b[0m \u001b[0;31m#             print(G.edges())\u001b[0m\u001b[0;34m\u001b[0m\u001b[0;34m\u001b[0m\u001b[0;34m\u001b[0m\u001b[0m\n\u001b[1;32m     12\u001b[0m \u001b[0;31m#             nx.write_gml(G,'./Files/'+str(sample)+'_g.gml')\u001b[0m\u001b[0;34m\u001b[0m\u001b[0;34m\u001b[0m\u001b[0;34m\u001b[0m\u001b[0m\n",
      "\u001b[0;32m<ipython-input-13-b60c062722f3>\u001b[0m in \u001b[0;36mnewLecture\u001b[0;34m(value, index, maxlst, G, lowerBound)\u001b[0m\n\u001b[1;32m      8\u001b[0m \u001b[0;31m#     print(index,hp,'...............')\u001b[0m\u001b[0;34m\u001b[0m\u001b[0;34m\u001b[0m\u001b[0;34m\u001b[0m\u001b[0m\n\u001b[1;32m      9\u001b[0m     \u001b[0mmaxslp\u001b[0m\u001b[0;34m=\u001b[0m\u001b[0mvisibility\u001b[0m\u001b[0;34m(\u001b[0m\u001b[0mG\u001b[0m\u001b[0;34m,\u001b[0m\u001b[0mhp\u001b[0m\u001b[0;34m,\u001b[0m\u001b[0mTS\u001b[0m\u001b[0;34m,\u001b[0m\u001b[0mvalue\u001b[0m\u001b[0;34m,\u001b[0m\u001b[0mindex\u001b[0m\u001b[0;34m)\u001b[0m\u001b[0;34m\u001b[0m\u001b[0;34m\u001b[0m\u001b[0m\n\u001b[0;32m---> 10\u001b[0;31m     \u001b[0mvismax\u001b[0m\u001b[0;34m(\u001b[0m\u001b[0mG\u001b[0m\u001b[0;34m,\u001b[0m\u001b[0mmaxslp\u001b[0m\u001b[0;34m,\u001b[0m\u001b[0mvalue\u001b[0m\u001b[0;34m,\u001b[0m\u001b[0mindex\u001b[0m\u001b[0;34m,\u001b[0m\u001b[0mmaxlst\u001b[0m\u001b[0;34m)\u001b[0m\u001b[0;34m\u001b[0m\u001b[0;34m\u001b[0m\u001b[0m\n\u001b[0m\u001b[1;32m     11\u001b[0m     \u001b[0mmaxlst\u001b[0m\u001b[0;34m.\u001b[0m\u001b[0mappend\u001b[0m\u001b[0;34m(\u001b[0m\u001b[0;34m[\u001b[0m\u001b[0mindex\u001b[0m\u001b[0;34m,\u001b[0m\u001b[0mvalue\u001b[0m\u001b[0;34m]\u001b[0m\u001b[0;34m)\u001b[0m\u001b[0;34m\u001b[0m\u001b[0;34m\u001b[0m\u001b[0m\n\u001b[1;32m     12\u001b[0m \u001b[0;31m#     print('............',maxlst)\u001b[0m\u001b[0;34m\u001b[0m\u001b[0;34m\u001b[0m\u001b[0;34m\u001b[0m\u001b[0m\n",
      "\u001b[0;32m<ipython-input-10-77a77300361f>\u001b[0m in \u001b[0;36mvismax\u001b[0;34m(G, maxslp, value, index, maxlst)\u001b[0m\n\u001b[1;32m      3\u001b[0m     \u001b[0mYb\u001b[0m\u001b[0;34m=\u001b[0m\u001b[0mvalue\u001b[0m\u001b[0;34m\u001b[0m\u001b[0;34m\u001b[0m\u001b[0m\n\u001b[1;32m      4\u001b[0m     \u001b[0;32mfor\u001b[0m \u001b[0mmx\u001b[0m \u001b[0;32min\u001b[0m \u001b[0mmaxlst\u001b[0m\u001b[0;34m[\u001b[0m\u001b[0;34m:\u001b[0m\u001b[0;34m:\u001b[0m\u001b[0;34m-\u001b[0m\u001b[0;36m1\u001b[0m\u001b[0;34m]\u001b[0m\u001b[0;34m:\u001b[0m\u001b[0;34m\u001b[0m\u001b[0;34m\u001b[0m\u001b[0m\n\u001b[0;32m----> 5\u001b[0;31m         \u001b[0mNa\u001b[0m\u001b[0;34m=\u001b[0m\u001b[0mmx\u001b[0m\u001b[0;34m[\u001b[0m\u001b[0;36m0\u001b[0m\u001b[0;34m]\u001b[0m\u001b[0;34m\u001b[0m\u001b[0;34m\u001b[0m\u001b[0m\n\u001b[0m\u001b[1;32m      6\u001b[0m         \u001b[0mYa\u001b[0m\u001b[0;34m=\u001b[0m\u001b[0mmx\u001b[0m\u001b[0;34m[\u001b[0m\u001b[0;36m1\u001b[0m\u001b[0;34m]\u001b[0m\u001b[0;34m\u001b[0m\u001b[0;34m\u001b[0m\u001b[0m\n\u001b[1;32m      7\u001b[0m         \u001b[0mslp\u001b[0m\u001b[0;34m=\u001b[0m\u001b[0;34m(\u001b[0m\u001b[0mYb\u001b[0m\u001b[0;34m-\u001b[0m\u001b[0mYa\u001b[0m\u001b[0;34m)\u001b[0m\u001b[0;34m/\u001b[0m\u001b[0;34m(\u001b[0m\u001b[0mNb\u001b[0m\u001b[0;34m-\u001b[0m\u001b[0mNa\u001b[0m\u001b[0;34m)\u001b[0m\u001b[0;34m\u001b[0m\u001b[0;34m\u001b[0m\u001b[0m\n",
      "\u001b[0;31mKeyboardInterrupt\u001b[0m: "
     ]
    }
   ],
   "source": [
    "results=[]\n",
    "for i in range(10):\n",
    "    for nn in testlist:\n",
    "\n",
    "        TS=np.cumsum(np.random.randint(1,200,nn)[::-1])[::-1]\n",
    "        start=time.time()\n",
    "        window=500\n",
    "        realStreaming(TS,1500)\n",
    "        stop=time.time()-start\n",
    "        results.append([nn,stop])\n",
    "        print(nn,stop)"
   ]
  },
  {
   "cell_type": "code",
   "execution_count": 26,
   "metadata": {
    "scrolled": true
   },
   "outputs": [
    {
     "name": "stdout",
     "output_type": "stream",
     "text": [
      "5000 4.522362470626831\n",
      "10000 14.877594947814941\n",
      "15000 22.252445459365845\n",
      "20000 29.77006220817566\n",
      "25000 35.00923037528992\n",
      "30000 37.77596116065979\n",
      "35000 38.1783721446991\n",
      "40000 39.437296628952026\n",
      "45000 44.69034028053284\n",
      "50000 49.30921506881714\n",
      "55000 54.24658560752869\n",
      "60000 59.112632036209106\n",
      "65000 64.28479552268982\n",
      "70000 69.41556358337402\n",
      "5000 3.791905403137207\n",
      "10000 8.875093698501587\n",
      "15000 13.774126529693604\n",
      "20000 18.9431095123291\n",
      "25000 23.867274522781372\n",
      "30000 28.955042362213135\n",
      "35000 39.206570625305176\n",
      "40000 47.017131328582764\n",
      "45000 48.68536114692688\n",
      "50000 63.10235619544983\n",
      "55000 62.96440887451172\n",
      "60000 68.15917253494263\n",
      "65000 71.48754286766052\n",
      "70000 72.96651816368103\n",
      "5000 3.87083101272583\n",
      "10000 9.356464624404907\n",
      "15000 14.310567140579224\n",
      "20000 19.483912467956543\n",
      "25000 24.601163864135742\n",
      "30000 29.64769721031189\n",
      "35000 34.86562156677246\n",
      "40000 40.18211841583252\n",
      "45000 45.30569911003113\n",
      "50000 50.47927260398865\n",
      "55000 58.061124086380005\n",
      "60000 65.30404233932495\n",
      "65000 69.44458436965942\n",
      "70000 71.17983531951904\n",
      "5000 3.822091817855835\n",
      "10000 8.906632661819458\n",
      "15000 14.674683570861816\n",
      "20000 18.8120756149292\n",
      "25000 23.90146803855896\n",
      "30000 30.396076679229736\n",
      "35000 33.691009759902954\n",
      "40000 38.908055782318115\n",
      "45000 43.725682497024536\n",
      "50000 49.35404706001282\n",
      "55000 58.74783754348755\n",
      "60000 62.59355068206787\n",
      "65000 67.04561018943787\n",
      "70000 73.92548966407776\n",
      "5000 4.083035230636597\n",
      "10000 8.801024436950684\n",
      "15000 13.701496362686157\n",
      "20000 19.302348375320435\n",
      "25000 25.160999059677124\n",
      "30000 30.944004774093628\n",
      "35000 38.04859519004822\n",
      "40000 40.71148371696472\n",
      "45000 47.30349898338318\n",
      "50000 52.88706922531128\n",
      "55000 57.98667097091675\n",
      "60000 62.9529333114624\n",
      "65000 68.4305214881897\n",
      "70000 74.0539174079895\n",
      "5000 4.088402032852173\n",
      "10000 9.472763538360596\n",
      "15000 14.528645038604736\n",
      "20000 20.28567624092102\n",
      "25000 25.845781564712524\n",
      "30000 29.429335594177246\n",
      "35000 33.77333641052246\n",
      "40000 38.59003281593323\n",
      "45000 43.74412226676941\n",
      "50000 48.696433544158936\n",
      "55000 53.63932800292969\n",
      "60000 58.72578310966492\n",
      "65000 63.17932343482971\n",
      "70000 68.80249047279358\n",
      "5000 3.710019111633301\n",
      "10000 8.671849966049194\n",
      "15000 13.558850765228271\n",
      "20000 18.443028688430786\n",
      "25000 23.451865196228027\n",
      "30000 28.339865684509277\n",
      "35000 33.344404458999634\n",
      "40000 38.245519399642944\n",
      "45000 43.13874578475952\n",
      "50000 48.14382553100586\n",
      "55000 53.564674854278564\n",
      "60000 58.42841053009033\n",
      "65000 64.57877230644226\n",
      "70000 67.77692747116089\n",
      "5000 3.733595609664917\n",
      "10000 8.600009441375732\n",
      "15000 13.493138313293457\n",
      "20000 18.49936866760254\n",
      "25000 23.602617740631104\n",
      "30000 28.38450312614441\n",
      "35000 33.21751308441162\n",
      "40000 38.17820405960083\n",
      "45000 43.192838191986084\n",
      "50000 48.12472581863403\n",
      "55000 53.25121855735779\n",
      "60000 57.882484436035156\n",
      "65000 63.24799609184265\n",
      "70000 67.67566537857056\n",
      "5000 3.7160558700561523\n",
      "10000 8.645449876785278\n",
      "15000 13.551611423492432\n",
      "20000 18.668441772460938\n",
      "25000 23.369804620742798\n",
      "30000 28.326708793640137\n",
      "35000 33.413811922073364\n",
      "40000 38.302064657211304\n",
      "45000 43.12932229042053\n",
      "50000 47.92763590812683\n",
      "55000 53.03796935081482\n",
      "60000 58.10215473175049\n",
      "65000 62.824965476989746\n",
      "70000 69.22148489952087\n",
      "5000 3.737868547439575\n",
      "10000 8.621939420700073\n",
      "15000 13.789631605148315\n",
      "20000 18.508090019226074\n",
      "25000 23.459229946136475\n",
      "30000 28.348265647888184\n",
      "35000 33.3623480796814\n",
      "40000 38.66065788269043\n",
      "45000 44.174755811691284\n",
      "50000 50.656174421310425\n",
      "55000 57.18533658981323\n",
      "60000 58.27687311172485\n",
      "65000 62.82402443885803\n",
      "70000 67.9928092956543\n"
     ]
    }
   ],
   "source": [
    "results=[]\n",
    "for i in range(10):\n",
    "    for nn in testlist:\n",
    "\n",
    "        TS=np.cumsum(np.random.randint(1,200,nn)[::-1])[::-1]\n",
    "        start=time.time()\n",
    "        window=500\n",
    "        realStreaming(TS,2500)\n",
    "        stop=time.time()-start\n",
    "        results.append([nn,stop])\n",
    "        print(nn,stop)"
   ]
  },
  {
   "cell_type": "markdown",
   "metadata": {},
   "source": [
    "# pruebas streaming de algoritmo original"
   ]
  },
  {
   "cell_type": "code",
   "execution_count": 27,
   "metadata": {},
   "outputs": [
    {
     "name": "stdout",
     "output_type": "stream",
     "text": [
      "0.016965866088867188\n",
      "0.00834965705871582\n",
      "0.007856369018554688\n",
      "0.008429288864135742\n",
      "0.010848760604858398\n",
      "0.015038013458251953\n",
      "0.009476423263549805\n",
      "0.008771657943725586\n",
      "0.015137434005737305\n",
      "0.011316061019897461\n",
      "0.008810997009277344\n",
      "0.00880575180053711\n",
      "0.008072376251220703\n",
      "0.007890462875366211\n",
      "0.007889747619628906\n",
      "0.008056640625\n",
      "0.007950782775878906\n",
      "0.008574247360229492\n",
      "0.00796365737915039\n",
      "0.00788116455078125\n"
     ]
    }
   ],
   "source": [
    "times=[]\n",
    "for i in range(20):\n",
    "    TS=np.random.randint(1,200,200)\n",
    "    start=time.time()\n",
    "    visGraph(TS)\n",
    "    stop=time.time()-start\n",
    "    print(stop)\n",
    "    times.append(stop)\n",
    "    \n",
    "    "
   ]
  },
  {
   "cell_type": "code",
   "execution_count": 28,
   "metadata": {},
   "outputs": [
    {
     "name": "stdout",
     "output_type": "stream",
     "text": [
      "0.08658289909362793\n",
      "0.08021020889282227\n",
      "0.07654142379760742\n",
      "0.04761552810668945\n",
      "0.049330949783325195\n",
      "0.05616450309753418\n",
      "0.04766702651977539\n",
      "0.04721808433532715\n",
      "0.047888994216918945\n",
      "0.06145834922790527\n",
      "0.04693150520324707\n",
      "0.04833865165710449\n",
      "0.047589778900146484\n",
      "0.048468828201293945\n",
      "0.06311440467834473\n",
      "0.04722857475280762\n",
      "0.04713940620422363\n",
      "0.04708361625671387\n",
      "0.07228612899780273\n",
      "0.0816652774810791\n"
     ]
    }
   ],
   "source": [
    "times=[]\n",
    "for i in range(20):\n",
    "    TS=np.random.randint(1,200,500)\n",
    "    start=time.time()\n",
    "    visGraph(TS)\n",
    "    stop=time.time()-start\n",
    "    print(stop)\n",
    "    times.append(stop)\n",
    "    \n",
    "    "
   ]
  },
  {
   "cell_type": "code",
   "execution_count": 29,
   "metadata": {},
   "outputs": [
    {
     "name": "stdout",
     "output_type": "stream",
     "text": [
      "0.2793903350830078\n",
      "0.1893923282623291\n",
      "0.19671940803527832\n",
      "0.18936753273010254\n",
      "0.2477710247039795\n",
      "0.20997977256774902\n",
      "0.20031237602233887\n",
      "0.2062840461730957\n",
      "0.18909168243408203\n",
      "0.2214975357055664\n",
      "0.20015907287597656\n",
      "0.20203900337219238\n",
      "0.1974186897277832\n",
      "0.20278525352478027\n",
      "0.2140512466430664\n",
      "0.2036457061767578\n",
      "0.19596123695373535\n",
      "0.18858027458190918\n",
      "0.2044816017150879\n",
      "0.1875746250152588\n"
     ]
    }
   ],
   "source": [
    "times=[]\n",
    "for i in range(20):\n",
    "    TS=np.random.randint(1,200,1000)\n",
    "    start=time.time()\n",
    "    visGraph(TS)\n",
    "    stop=time.time()-start\n",
    "    print(stop)\n",
    "    times.append(stop)\n",
    "    \n",
    "    "
   ]
  },
  {
   "cell_type": "code",
   "execution_count": 30,
   "metadata": {
    "collapsed": true
   },
   "outputs": [
    {
     "name": "stdout",
     "output_type": "stream",
     "text": [
      "0.5504975318908691\n",
      "0.4331173896789551\n",
      "0.477679967880249\n",
      "0.4481236934661865\n",
      "0.4702887535095215\n",
      "0.4532022476196289\n",
      "0.4415256977081299\n",
      "0.49875545501708984\n",
      "0.4503324031829834\n",
      "0.4936072826385498\n",
      "0.4338819980621338\n",
      "0.46399927139282227\n",
      "0.5064005851745605\n",
      "0.4725608825683594\n",
      "0.4867241382598877\n",
      "0.4937624931335449\n",
      "0.5271210670471191\n",
      "0.4775350093841553\n",
      "0.4785499572753906\n",
      "0.46146297454833984\n"
     ]
    }
   ],
   "source": [
    "times=[]\n",
    "for i in range(20):\n",
    "    TS=np.random.randint(1,200,1500)\n",
    "    start=time.time()\n",
    "    visGraph(TS)\n",
    "    stop=time.time()-start\n",
    "    print(stop)\n",
    "    times.append(stop)\n",
    "    \n",
    "    "
   ]
  },
  {
   "cell_type": "code",
   "execution_count": 31,
   "metadata": {
    "collapsed": true
   },
   "outputs": [
    {
     "name": "stdout",
     "output_type": "stream",
     "text": [
      "0.859900712966919\n",
      "0.8113212585449219\n",
      "0.8316788673400879\n",
      "0.8161060810089111\n",
      "1.03212308883667\n",
      "0.7821743488311768\n",
      "0.8050887584686279\n",
      "0.8733201026916504\n",
      "0.8617658615112305\n",
      "0.7647254467010498\n",
      "0.8054673671722412\n",
      "0.8676378726959229\n",
      "0.8849020004272461\n",
      "0.7642040252685547\n",
      "0.8433184623718262\n",
      "0.8174533843994141\n",
      "0.8273506164550781\n",
      "0.8081881999969482\n",
      "0.7892200946807861\n",
      "0.7915728092193604\n"
     ]
    }
   ],
   "source": [
    "times=[]\n",
    "for i in range(20):\n",
    "    TS=np.random.randint(1,200,2000)\n",
    "    start=time.time()\n",
    "    visGraph(TS)\n",
    "    stop=time.time()-start\n",
    "    print(stop)\n",
    "    times.append(stop)\n",
    "    \n",
    "    "
   ]
  },
  {
   "cell_type": "code",
   "execution_count": 32,
   "metadata": {
    "collapsed": true
   },
   "outputs": [
    {
     "name": "stdout",
     "output_type": "stream",
     "text": [
      "5.277586460113525\n",
      "5.7070112228393555\n",
      "6.435237646102905\n",
      "4.922039031982422\n",
      "5.515427589416504\n",
      "6.56426215171814\n",
      "5.049370765686035\n",
      "5.56749701499939\n",
      "5.106316566467285\n",
      "4.763545989990234\n",
      "5.0592546463012695\n",
      "4.9218738079071045\n",
      "4.920293807983398\n",
      "4.73283839225769\n",
      "4.652636766433716\n",
      "5.16858434677124\n",
      "4.9490721225738525\n",
      "4.808817625045776\n",
      "4.674964189529419\n",
      "4.685542345046997\n"
     ]
    }
   ],
   "source": [
    "times=[]\n",
    "for i in range(20):\n",
    "    TS=np.random.randint(1,200,5000)\n",
    "    start=time.time()\n",
    "    visGraph(TS)\n",
    "    stop=time.time()-start\n",
    "    print(stop)\n",
    "    times.append(stop)\n",
    "    \n",
    "    "
   ]
  },
  {
   "cell_type": "code",
   "execution_count": 33,
   "metadata": {
    "collapsed": true
   },
   "outputs": [
    {
     "name": "stdout",
     "output_type": "stream",
     "text": [
      "19.81155014038086\n",
      "19.72189235687256\n",
      "19.093599796295166\n",
      "20.684330463409424\n",
      "20.36001467704773\n",
      "18.693623542785645\n",
      "18.850205898284912\n",
      "20.355103731155396\n",
      "18.7626690864563\n",
      "18.954154014587402\n",
      "18.698374271392822\n",
      "18.674922943115234\n",
      "20.373711585998535\n",
      "21.654109954833984\n",
      "18.869820833206177\n",
      "19.528528213500977\n",
      "20.236207246780396\n",
      "20.03477907180786\n",
      "21.193538904190063\n",
      "21.480931758880615\n"
     ]
    }
   ],
   "source": [
    "times=[]\n",
    "for i in range(20):\n",
    "    TS=np.random.randint(1,200,10000)\n",
    "    start=time.time()\n",
    "    visGraph(TS)\n",
    "    stop=time.time()-start\n",
    "    print(stop)\n",
    "    times.append(stop)\n",
    "    "
   ]
  },
  {
   "cell_type": "markdown",
   "metadata": {},
   "source": [
    "# pruebas streaming DQ"
   ]
  },
  {
   "cell_type": "code",
   "execution_count": 35,
   "metadata": {
    "collapsed": true
   },
   "outputs": [
    {
     "name": "stdout",
     "output_type": "stream",
     "text": [
      "0.00847935676574707\n",
      "0.007092952728271484\n",
      "0.006877422332763672\n",
      "0.007019996643066406\n",
      "0.0069200992584228516\n",
      "0.006928205490112305\n",
      "0.006559610366821289\n",
      "0.006715297698974609\n",
      "0.0060880184173583984\n",
      "0.006847381591796875\n",
      "0.009274721145629883\n",
      "0.004682064056396484\n",
      "0.0035910606384277344\n",
      "0.003595590591430664\n",
      "0.003553152084350586\n",
      "0.006717205047607422\n",
      "0.006286144256591797\n",
      "0.0057239532470703125\n",
      "0.0035626888275146484\n",
      "0.003465414047241211\n"
     ]
    }
   ],
   "source": [
    "times=[]\n",
    "for i in range(20):\n",
    "    TS=np.random.randint(1,200,200)\n",
    "    start=time.time()\n",
    "    mergeSort(TS)\n",
    "    stop=time.time()-start\n",
    "    print(stop)\n",
    "    times.append(stop)\n",
    "    \n",
    "    "
   ]
  },
  {
   "cell_type": "code",
   "execution_count": 36,
   "metadata": {
    "collapsed": true
   },
   "outputs": [
    {
     "name": "stdout",
     "output_type": "stream",
     "text": [
      "0.02008056640625\n",
      "0.01950693130493164\n",
      "0.018352031707763672\n",
      "0.01879119873046875\n",
      "0.018314361572265625\n",
      "0.01879715919494629\n",
      "0.011820077896118164\n",
      "0.00968313217163086\n",
      "0.009763956069946289\n",
      "0.009730100631713867\n",
      "0.009104013442993164\n",
      "0.009552240371704102\n",
      "0.009226799011230469\n",
      "0.009328126907348633\n",
      "0.009294271469116211\n",
      "0.009169578552246094\n",
      "0.009220600128173828\n",
      "0.009212255477905273\n",
      "0.009125471115112305\n",
      "0.009364604949951172\n"
     ]
    }
   ],
   "source": [
    "times=[]\n",
    "for i in range(20):\n",
    "    TS=np.random.randint(1,200,500)\n",
    "    start=time.time()\n",
    "    mergeSort(TS)\n",
    "    stop=time.time()-start\n",
    "    print(stop)\n",
    "    times.append(stop)\n",
    "    \n",
    "    "
   ]
  },
  {
   "cell_type": "code",
   "execution_count": 37,
   "metadata": {
    "collapsed": true
   },
   "outputs": [
    {
     "name": "stdout",
     "output_type": "stream",
     "text": [
      "0.025425195693969727\n",
      "0.02220749855041504\n",
      "0.02554774284362793\n",
      "0.025876283645629883\n",
      "0.02182316780090332\n",
      "0.020801305770874023\n",
      "0.021441936492919922\n",
      "0.020329952239990234\n",
      "0.019653797149658203\n",
      "0.019777536392211914\n",
      "0.019792556762695312\n",
      "0.0275876522064209\n",
      "0.029832124710083008\n",
      "0.024333953857421875\n",
      "0.02118849754333496\n",
      "0.0218658447265625\n",
      "0.020534038543701172\n",
      "0.020635604858398438\n",
      "0.019856929779052734\n",
      "0.021830081939697266\n"
     ]
    }
   ],
   "source": [
    "times=[]\n",
    "for i in range(20):\n",
    "    TS=np.random.randint(1,200,1000)\n",
    "    start=time.time()\n",
    "    mergeSort(TS)\n",
    "    stop=time.time()-start\n",
    "    print(stop)\n",
    "    times.append(stop)\n",
    "    \n",
    "    "
   ]
  },
  {
   "cell_type": "code",
   "execution_count": 38,
   "metadata": {
    "collapsed": true
   },
   "outputs": [
    {
     "name": "stdout",
     "output_type": "stream",
     "text": [
      "0.052866458892822266\n",
      "0.04364728927612305\n",
      "0.04194808006286621\n",
      "0.031944990158081055\n",
      "0.03157663345336914\n",
      "0.03210568428039551\n",
      "0.031667470932006836\n",
      "0.03711342811584473\n",
      "0.032402753829956055\n",
      "0.03242373466491699\n",
      "0.03078627586364746\n",
      "0.031347036361694336\n",
      "0.030987262725830078\n",
      "0.031470537185668945\n",
      "0.03136134147644043\n",
      "0.03556942939758301\n",
      "0.030515193939208984\n",
      "0.03128862380981445\n",
      "0.03238940238952637\n",
      "0.037204742431640625\n"
     ]
    }
   ],
   "source": [
    "times=[]\n",
    "for i in range(20):\n",
    "    TS=np.random.randint(1,200,1500)\n",
    "    start=time.time()\n",
    "    mergeSort(TS)\n",
    "    stop=time.time()-start\n",
    "    print(stop)\n",
    "    times.append(stop)\n",
    "    \n",
    "    "
   ]
  },
  {
   "cell_type": "code",
   "execution_count": 39,
   "metadata": {
    "collapsed": true
   },
   "outputs": [
    {
     "name": "stdout",
     "output_type": "stream",
     "text": [
      "0.06351137161254883\n",
      "0.0533597469329834\n",
      "0.043538570404052734\n",
      "0.042929649353027344\n",
      "0.04311037063598633\n",
      "0.04358816146850586\n",
      "0.059814453125\n",
      "0.057801246643066406\n",
      "0.04254436492919922\n",
      "0.04286384582519531\n",
      "0.04378676414489746\n",
      "0.05558133125305176\n",
      "0.0465543270111084\n",
      "0.0444798469543457\n",
      "0.06319308280944824\n",
      "0.060395002365112305\n",
      "0.08293843269348145\n",
      "0.05722618103027344\n",
      "0.04951143264770508\n",
      "0.045655250549316406\n"
     ]
    }
   ],
   "source": [
    "times=[]\n",
    "for i in range(20):\n",
    "    TS=np.random.randint(1,200,2000)\n",
    "    start=time.time()\n",
    "    mergeSort(TS)\n",
    "    stop=time.time()-start\n",
    "    print(stop)\n",
    "    times.append(stop)\n",
    "    \n",
    "    "
   ]
  },
  {
   "cell_type": "code",
   "execution_count": 40,
   "metadata": {
    "collapsed": true
   },
   "outputs": [
    {
     "name": "stdout",
     "output_type": "stream",
     "text": [
      "0.14099884033203125\n",
      "0.11802411079406738\n",
      "0.11721372604370117\n",
      "0.1326007843017578\n",
      "0.11845731735229492\n",
      "0.1272416114807129\n",
      "0.13507437705993652\n",
      "0.20625853538513184\n",
      "0.1556870937347412\n",
      "0.12275552749633789\n",
      "0.12835121154785156\n",
      "0.1302785873413086\n",
      "0.12227964401245117\n",
      "0.13042640686035156\n",
      "0.17395520210266113\n",
      "0.16621685028076172\n",
      "0.11676025390625\n",
      "0.12689208984375\n",
      "0.13751554489135742\n",
      "0.11952757835388184\n"
     ]
    }
   ],
   "source": [
    "times=[]\n",
    "for i in range(20):\n",
    "    TS=np.random.randint(1,200,5000)\n",
    "    start=time.time()\n",
    "    mergeSort(TS)\n",
    "    stop=time.time()-start\n",
    "    print(stop)\n",
    "    times.append(stop)\n",
    "    \n",
    "    "
   ]
  },
  {
   "cell_type": "code",
   "execution_count": 42,
   "metadata": {
    "collapsed": true
   },
   "outputs": [
    {
     "name": "stdout",
     "output_type": "stream",
     "text": [
      "0.30175089836120605\n",
      "0.2573237419128418\n",
      "0.292621374130249\n",
      "0.34303951263427734\n",
      "0.2723238468170166\n",
      "0.25409507751464844\n",
      "0.2608675956726074\n",
      "0.2628154754638672\n",
      "0.27259159088134766\n",
      "0.25568675994873047\n",
      "0.2549734115600586\n",
      "0.26127195358276367\n",
      "0.298703670501709\n",
      "0.25426721572875977\n",
      "0.27094340324401855\n",
      "0.2608814239501953\n",
      "0.28201842308044434\n",
      "0.25133419036865234\n",
      "0.25563955307006836\n",
      "0.26706528663635254\n"
     ]
    }
   ],
   "source": [
    "times=[]\n",
    "for i in range(20):\n",
    "    TS=np.random.randint(1,200,10000)\n",
    "    start=time.time()\n",
    "    mergeSort(TS)\n",
    "    stop=time.time()-start\n",
    "    print(stop)\n",
    "    times.append(stop)\n",
    "    \n",
    "    "
   ]
  },
  {
   "cell_type": "markdown",
   "metadata": {},
   "source": [
    "# Pruebas optimizado "
   ]
  },
  {
   "cell_type": "code",
   "execution_count": 33,
   "metadata": {
    "collapsed": true
   },
   "outputs": [
    {
     "name": "stdout",
     "output_type": "stream",
     "text": [
      "0.030695676803588867\n",
      "0.02627277374267578\n",
      "0.030948638916015625\n",
      "0.028522729873657227\n",
      "0.0329890251159668\n",
      "0.06599664688110352\n",
      "0.024252653121948242\n",
      "0.02431321144104004\n",
      "0.033658742904663086\n",
      "0.025824308395385742\n",
      "0.023668766021728516\n",
      "0.022437334060668945\n",
      "0.02419304847717285\n",
      "0.022634506225585938\n",
      "0.02336907386779785\n",
      "0.02392125129699707\n",
      "0.02476644515991211\n",
      "0.04713153839111328\n",
      "0.033049583435058594\n",
      "0.03649020195007324\n"
     ]
    }
   ],
   "source": [
    "times=[]\n",
    "for i in range(20):\n",
    "    TS=np.random.randint(1,200,2000)\n",
    "    start=time.time()\n",
    "    realStatic(TS)\n",
    "    stop=time.time()-start\n",
    "    print(stop)\n",
    "    times.append(stop)\n",
    "    \n",
    "    "
   ]
  },
  {
   "cell_type": "code",
   "execution_count": 44,
   "metadata": {
    "collapsed": true
   },
   "outputs": [
    {
     "name": "stdout",
     "output_type": "stream",
     "text": [
      "0.020105838775634766\n",
      "0.019193649291992188\n",
      "0.016000032424926758\n",
      "0.010339736938476562\n",
      "0.014985322952270508\n",
      "0.011652469635009766\n",
      "0.012246847152709961\n",
      "0.009610891342163086\n",
      "0.010366439819335938\n",
      "0.00942540168762207\n",
      "0.00941610336303711\n",
      "0.009203195571899414\n",
      "0.009244680404663086\n",
      "0.009247779846191406\n",
      "0.009160041809082031\n",
      "0.00910043716430664\n",
      "0.00954580307006836\n",
      "0.009352922439575195\n",
      "0.009287357330322266\n",
      "0.00912022590637207\n"
     ]
    }
   ],
   "source": [
    "times=[]\n",
    "for i in range(20):\n",
    "    TS=np.random.randint(1,200,500)\n",
    "    start=time.time()\n",
    "    mergeSort(TS)\n",
    "    stop=time.time()-start\n",
    "    print(stop)\n",
    "    times.append(stop)\n",
    "    \n",
    "    "
   ]
  },
  {
   "cell_type": "code",
   "execution_count": 45,
   "metadata": {
    "collapsed": true
   },
   "outputs": [
    {
     "name": "stdout",
     "output_type": "stream",
     "text": [
      "0.0441744327545166\n",
      "0.023919105529785156\n",
      "0.03114175796508789\n",
      "0.034635066986083984\n",
      "0.024323225021362305\n",
      "0.02068018913269043\n",
      "0.020078182220458984\n",
      "0.019640207290649414\n",
      "0.01983022689819336\n",
      "0.019751310348510742\n",
      "0.019635677337646484\n",
      "0.03415489196777344\n",
      "0.02129340171813965\n",
      "0.01987290382385254\n",
      "0.020149946212768555\n",
      "0.019943714141845703\n",
      "0.02015995979309082\n",
      "0.02035069465637207\n",
      "0.019725561141967773\n",
      "0.01968979835510254\n"
     ]
    }
   ],
   "source": [
    "times=[]\n",
    "for i in range(20):\n",
    "    TS=np.random.randint(1,200,1000)\n",
    "    start=time.time()\n",
    "    mergeSort(TS)\n",
    "    stop=time.time()-start\n",
    "    print(stop)\n",
    "    times.append(stop)\n",
    "    \n",
    "    "
   ]
  },
  {
   "cell_type": "code",
   "execution_count": 46,
   "metadata": {
    "collapsed": true
   },
   "outputs": [
    {
     "name": "stdout",
     "output_type": "stream",
     "text": [
      "0.03992176055908203\n",
      "0.055951833724975586\n",
      "0.03257036209106445\n",
      "0.03128194808959961\n",
      "0.03098273277282715\n",
      "0.031038522720336914\n",
      "0.03111863136291504\n",
      "0.03157234191894531\n",
      "0.03773069381713867\n",
      "0.03136754035949707\n",
      "0.031244516372680664\n",
      "0.031071901321411133\n",
      "0.031143665313720703\n",
      "0.03137540817260742\n",
      "0.03193807601928711\n",
      "0.0402226448059082\n",
      "0.030968904495239258\n",
      "0.031213045120239258\n",
      "0.031163454055786133\n",
      "0.03204917907714844\n"
     ]
    }
   ],
   "source": [
    "times=[]\n",
    "for i in range(20):\n",
    "    TS=np.random.randint(1,200,1500)\n",
    "    start=time.time()\n",
    "    mergeSort(TS)\n",
    "    stop=time.time()-start\n",
    "    print(stop)\n",
    "    times.append(stop)\n",
    "    \n",
    "    "
   ]
  },
  {
   "cell_type": "code",
   "execution_count": 47,
   "metadata": {
    "collapsed": true
   },
   "outputs": [
    {
     "name": "stdout",
     "output_type": "stream",
     "text": [
      "0.06676173210144043\n",
      "0.053144216537475586\n",
      "0.04330158233642578\n",
      "0.04295802116394043\n",
      "0.04310035705566406\n",
      "0.04265928268432617\n",
      "0.04704022407531738\n",
      "0.050701141357421875\n",
      "0.043470144271850586\n",
      "0.043203115463256836\n",
      "0.04323697090148926\n",
      "0.04452943801879883\n",
      "0.048375606536865234\n",
      "0.04367542266845703\n",
      "0.044656991958618164\n",
      "0.054328203201293945\n",
      "0.0624394416809082\n",
      "0.08598613739013672\n",
      "0.08508849143981934\n",
      "0.05010819435119629\n"
     ]
    }
   ],
   "source": [
    "times=[]\n",
    "for i in range(20):\n",
    "    TS=np.random.randint(1,200,2000)\n",
    "    start=time.time()\n",
    "    mergeSort(TS)\n",
    "    stop=time.time()-start\n",
    "    print(stop)\n",
    "    times.append(stop)\n",
    "    \n",
    "    "
   ]
  },
  {
   "cell_type": "code",
   "execution_count": 48,
   "metadata": {
    "collapsed": true
   },
   "outputs": [
    {
     "name": "stdout",
     "output_type": "stream",
     "text": [
      "0.14180254936218262\n",
      "0.11877703666687012\n",
      "0.11879110336303711\n",
      "0.12119531631469727\n",
      "0.1228029727935791\n",
      "0.18290162086486816\n",
      "0.15285181999206543\n",
      "0.131242036819458\n",
      "0.12590837478637695\n",
      "0.13699746131896973\n",
      "0.12426090240478516\n",
      "0.1366415023803711\n",
      "0.11880111694335938\n",
      "0.13550233840942383\n",
      "0.14591407775878906\n",
      "0.1253519058227539\n",
      "0.1217503547668457\n",
      "0.14487266540527344\n",
      "0.12439084053039551\n",
      "0.1298661231994629\n"
     ]
    }
   ],
   "source": [
    "times=[]\n",
    "for i in range(20):\n",
    "    TS=np.random.randint(1,200,5000)\n",
    "    start=time.time()\n",
    "    mergeSort(TS)\n",
    "    stop=time.time()-start\n",
    "    print(stop)\n",
    "    times.append(stop)\n",
    "    \n",
    "    "
   ]
  },
  {
   "cell_type": "code",
   "execution_count": 49,
   "metadata": {
    "collapsed": true
   },
   "outputs": [
    {
     "name": "stdout",
     "output_type": "stream",
     "text": [
      "0.2782924175262451\n",
      "0.2508547306060791\n",
      "0.26240110397338867\n",
      "0.3182363510131836\n",
      "0.25862741470336914\n",
      "0.2532379627227783\n",
      "0.26456713676452637\n",
      "0.2759263515472412\n",
      "0.25496959686279297\n",
      "0.280872106552124\n",
      "0.26499414443969727\n",
      "0.27368950843811035\n",
      "0.2618427276611328\n",
      "0.2606375217437744\n",
      "0.27176833152770996\n",
      "0.27878260612487793\n",
      "0.2432551383972168\n",
      "0.2862548828125\n",
      "0.34014391899108887\n",
      "0.2540724277496338\n"
     ]
    }
   ],
   "source": [
    "times=[]\n",
    "for i in range(20):\n",
    "    TS=np.random.randint(1,200,10000)\n",
    "    start=time.time()\n",
    "    mergeSort(TS)\n",
    "    stop=time.time()-start\n",
    "    print(stop)\n",
    "    times.append(stop)\n",
    "    \n",
    "    "
   ]
  },
  {
   "cell_type": "markdown",
   "metadata": {},
   "source": [
    "# algoritmo clásico en streaming con append"
   ]
  },
  {
   "cell_type": "code",
   "execution_count": null,
   "metadata": {},
   "outputs": [],
   "source": []
  },
  {
   "cell_type": "code",
   "execution_count": null,
   "metadata": {
    "scrolled": true
   },
   "outputs": [
    {
     "name": "stdout",
     "output_type": "stream",
     "text": [
      "5000 40.488083839416504\n",
      "10000 84.00003290176392\n",
      "15000 135.56126856803894\n",
      "20000 164.1652216911316\n",
      "25000 221.6323881149292\n",
      "30000 298.95295429229736\n",
      "35000 327.8290002346039\n",
      "40000 360.1471586227417\n",
      "45000 376.60726952552795\n",
      "50000 435.8780286312103\n",
      "55000 456.24064350128174\n",
      "60000 491.8231325149536\n",
      "65000 536.5446352958679\n",
      "70000 574.2600739002228\n",
      "5000 39.5608434677124\n",
      "10000 80.53902626037598\n",
      "15000 121.85374236106873\n",
      "20000 162.67060017585754\n",
      "25000 204.77936935424805\n",
      "30000 250.90503931045532\n",
      "35000 341.03183007240295\n",
      "40000 440.1934883594513\n",
      "45000 512.1252636909485\n",
      "50000 480.5055420398712\n",
      "55000 491.2948668003082\n",
      "60000 495.2085814476013\n",
      "65000 532.9522366523743\n",
      "70000 577.7871656417847\n",
      "5000 39.46269869804382\n",
      "10000 81.01674246788025\n",
      "15000 121.4218864440918\n",
      "20000 163.31798124313354\n",
      "25000 203.6820867061615\n",
      "30000 245.91201615333557\n",
      "35000 286.7303521633148\n",
      "40000 347.318195104599\n",
      "45000 369.36301374435425\n",
      "50000 406.29852962493896\n",
      "55000 447.1564347743988\n",
      "60000 522.6141774654388\n",
      "65000 560.7346823215485\n",
      "70000 568.7868409156799\n",
      "5000 39.16645622253418\n",
      "10000 80.1173644065857\n",
      "15000 121.06682848930359\n",
      "20000 161.50642585754395\n",
      "25000 202.6157500743866\n",
      "30000 243.044597864151\n",
      "35000 283.51705622673035\n",
      "40000 325.03915905952454\n",
      "45000 364.95331859588623\n",
      "50000 405.7481961250305\n",
      "55000 447.44163823127747\n",
      "60000 535.1816518306732\n",
      "65000 552.2461545467377\n",
      "70000 571.6429181098938\n",
      "5000 39.6109676361084\n",
      "10000 80.12373518943787\n",
      "15000 123.34632563591003\n",
      "20000 164.48698949813843\n",
      "25000 204.6448197364807\n",
      "30000 245.50069093704224\n",
      "35000 286.8419179916382\n",
      "40000 328.5014841556549\n",
      "45000 369.7092821598053\n",
      "50000 412.26686453819275\n",
      "55000 452.71875524520874\n",
      "60000 494.0975983142853\n",
      "65000 535.5036253929138\n",
      "70000 579.9195377826691\n",
      "5000 41.364018201828\n",
      "10000 81.05106568336487\n",
      "15000 122.58138298988342\n",
      "20000 163.08027267456055\n",
      "25000 212.77281045913696\n",
      "30000 245.7396650314331\n",
      "35000 285.60863280296326\n",
      "40000 328.9617919921875\n",
      "45000 370.1250801086426\n"
     ]
    }
   ],
   "source": [
    "results=[]\n",
    "for i in range(10):\n",
    "    for nn in testlist:\n",
    "\n",
    "        TS=np.cumsum(np.random.randint(1,200,nn)[::-1])[::-1]\n",
    "        start=time.time()\n",
    "        window=500\n",
    "        visGraphStreaming(TS,200)\n",
    "        stop=time.time()-start\n",
    "        results.append([nn,stop])\n",
    "        print(nn,stop)"
   ]
  },
  {
   "cell_type": "code",
   "execution_count": null,
   "metadata": {},
   "outputs": [],
   "source": []
  },
  {
   "cell_type": "markdown",
   "metadata": {},
   "source": [
    "# usando Series de FBM "
   ]
  },
  {
   "cell_type": "code",
   "execution_count": 25,
   "metadata": {},
   "outputs": [],
   "source": [
    "from fbm import FBM"
   ]
  },
  {
   "cell_type": "code",
   "execution_count": 39,
   "metadata": {
    "collapsed": true
   },
   "outputs": [
    {
     "name": "stdout",
     "output_type": "stream",
     "text": [
      "10\n",
      "15\n",
      "20\n",
      "25\n",
      "30\n",
      "35\n",
      "40\n",
      "45\n",
      "50\n",
      "55\n",
      "60\n",
      "65\n",
      "70\n",
      "75\n",
      "80\n",
      "85\n"
     ]
    }
   ],
   "source": [
    "avgTimes=[]\n",
    "for i in range(10,90,5):\n",
    "    print(i)\n",
    "    times=[]\n",
    "    f = FBM(n=10000, hurst=i/100, length=1, method='daviesharte')\n",
    "    for j in range(20):\n",
    "        TS = f.fbm()\n",
    "        start=time.time()\n",
    "        realStatic(TS)\n",
    "        stop=time.time()-start\n",
    "        times.append(stop)\n",
    "    avgTimes.append(np.mean(times))\n",
    "\n",
    "        "
   ]
  },
  {
   "cell_type": "code",
   "execution_count": 40,
   "metadata": {
    "scrolled": true
   },
   "outputs": [
    {
     "data": {
      "text/plain": [
       "[<matplotlib.lines.Line2D at 0x7fce407a7320>]"
      ]
     },
     "execution_count": 40,
     "metadata": {},
     "output_type": "execute_result"
    },
    {
     "data": {
      "image/png": "[encoded data removed]",
      "text/plain": [
       "<Figure size 432x288 with 1 Axes>"
      ]
     },
     "metadata": {
      "needs_background": "light"
     },
     "output_type": "display_data"
    }
   ],
   "source": [
    "plt.plot(avgTimes)"
   ]
  },
  {
   "cell_type": "markdown",
   "metadata": {},
   "source": [
    "# B/uffering"
   ]
  },
  {
   "cell_type": "code",
   "execution_count": null,
   "metadata": {},
   "outputs": [],
   "source": [
    "results=[]\n",
    "for i in range(10):\n",
    "    for nn in testlist:\n",
    "\n",
    "        TS=np.cumsum(np.random.randint(1,200,nn)[::-1])[::-1]\n",
    "        start=time.time()\n",
    "        window=500\n",
    "        realStreaming(TS,1500)\n",
    "        stop=time.time()-start\n",
    "        results.append([nn,stop])\n",
    "        print(nn,stop)"
   ]
  },
  {
   "cell_type": "code",
   "execution_count": 42,
   "metadata": {},
   "outputs": [],
   "source": [
    "def realStreaming(TS,window):\n",
    "    G=nx.Graph()\n",
    "    if window>1:\n",
    "        G=stream(TS[:window],1)\n",
    "        maxlst=maxlist(TS[:window],[],0)\n",
    "        for sample in range(len(TS[window:])):\n",
    "            if maxlst[0][0]<window+sample:\n",
    "                maxlst.remove(maxlst[0])\n",
    "            G.remove_node(sample)\n",
    "            newLecture(TS[sample+window],window+sample,maxlst,G,sample)\n",
    "#             print(G.edges())\n",
    "#             nx.write_gml(G,'./Files/'+str(sample)+'_g.gml')\n",
    "    return(G)\n",
    "        \n",
    "    "
   ]
  },
  {
   "cell_type": "code",
   "execution_count": null,
   "metadata": {},
   "outputs": [],
   "source": []
  },
  {
   "cell_type": "markdown",
   "metadata": {},
   "source": [
    "# real datasets"
   ]
  },
  {
   "cell_type": "code",
   "execution_count": 26,
   "metadata": {},
   "outputs": [],
   "source": [
    "import pandas as pd\n",
    "df = pd.read_csv('./TimeSeries/hp.csv')\n",
    "# saved_column = df.column_name #you can also use df['column_name']"
   ]
  },
  {
   "cell_type": "code",
   "execution_count": 27,
   "metadata": {},
   "outputs": [
    {
     "data": {
      "text/html": [
       "<div>\n",
       "<style scoped>\n",
       "    .dataframe tbody tr th:only-of-type {\n",
       "        vertical-align: middle;\n",
       "    }\n",
       "\n",
       "    .dataframe tbody tr th {\n",
       "        vertical-align: top;\n",
       "    }\n",
       "\n",
       "    .dataframe thead th {\n",
       "        text-align: right;\n",
       "    }\n",
       "</style>\n",
       "<table border=\"1\" class=\"dataframe\">\n",
       "  <thead>\n",
       "    <tr style=\"text-align: right;\">\n",
       "      <th></th>\n",
       "      <th>Date</th>\n",
       "      <th>Open</th>\n",
       "      <th>High</th>\n",
       "      <th>Low</th>\n",
       "      <th>Close</th>\n",
       "      <th>Volume</th>\n",
       "      <th>OpenInt</th>\n",
       "    </tr>\n",
       "  </thead>\n",
       "  <tbody>\n",
       "    <tr>\n",
       "      <th>0</th>\n",
       "      <td>1970-01-02</td>\n",
       "      <td>0.30627</td>\n",
       "      <td>0.30627</td>\n",
       "      <td>0.30627</td>\n",
       "      <td>0.30627</td>\n",
       "      <td>2441124</td>\n",
       "      <td>0</td>\n",
       "    </tr>\n",
       "    <tr>\n",
       "      <th>1</th>\n",
       "      <td>1970-01-05</td>\n",
       "      <td>0.30627</td>\n",
       "      <td>0.31768</td>\n",
       "      <td>0.30627</td>\n",
       "      <td>0.31385</td>\n",
       "      <td>6219848</td>\n",
       "      <td>0</td>\n",
       "    </tr>\n",
       "    <tr>\n",
       "      <th>2</th>\n",
       "      <td>1970-01-06</td>\n",
       "      <td>0.31385</td>\n",
       "      <td>0.31385</td>\n",
       "      <td>0.30996</td>\n",
       "      <td>0.30996</td>\n",
       "      <td>4447522</td>\n",
       "      <td>0</td>\n",
       "    </tr>\n",
       "    <tr>\n",
       "      <th>3</th>\n",
       "      <td>1970-01-07</td>\n",
       "      <td>0.31385</td>\n",
       "      <td>0.31385</td>\n",
       "      <td>0.31385</td>\n",
       "      <td>0.31385</td>\n",
       "      <td>1872638</td>\n",
       "      <td>0</td>\n",
       "    </tr>\n",
       "    <tr>\n",
       "      <th>4</th>\n",
       "      <td>1970-01-08</td>\n",
       "      <td>0.31385</td>\n",
       "      <td>0.31768</td>\n",
       "      <td>0.31385</td>\n",
       "      <td>0.31385</td>\n",
       "      <td>4280330</td>\n",
       "      <td>0</td>\n",
       "    </tr>\n",
       "  </tbody>\n",
       "</table>\n",
       "</div>"
      ],
      "text/plain": [
       "         Date     Open     High      Low    Close   Volume  OpenInt\n",
       "0  1970-01-02  0.30627  0.30627  0.30627  0.30627  2441124        0\n",
       "1  1970-01-05  0.30627  0.31768  0.30627  0.31385  6219848        0\n",
       "2  1970-01-06  0.31385  0.31385  0.30996  0.30996  4447522        0\n",
       "3  1970-01-07  0.31385  0.31385  0.31385  0.31385  1872638        0\n",
       "4  1970-01-08  0.31385  0.31768  0.31385  0.31385  4280330        0"
      ]
     },
     "execution_count": 27,
     "metadata": {},
     "output_type": "execute_result"
    }
   ],
   "source": [
    "df.head()"
   ]
  },
  {
   "cell_type": "code",
   "execution_count": 28,
   "metadata": {},
   "outputs": [
    {
     "data": {
      "text/plain": [
       "[<matplotlib.lines.Line2D at 0x7f01cde64f60>]"
      ]
     },
     "execution_count": 28,
     "metadata": {},
     "output_type": "execute_result"
    },
    {
     "data": {
      "image/png": "[encoded data removed]",
      "text/plain": [
       "<Figure size 432x288 with 1 Axes>"
      ]
     },
     "metadata": {
      "needs_background": "light"
     },
     "output_type": "display_data"
    }
   ],
   "source": [
    "plt.plot(df['Open'])"
   ]
  },
  {
   "cell_type": "code",
   "execution_count": 51,
   "metadata": {},
   "outputs": [],
   "source": [
    "TS=np.array(df['Open'])"
   ]
  },
  {
   "cell_type": "code",
   "execution_count": 55,
   "metadata": {
    "scrolled": true
   },
   "outputs": [],
   "source": [
    "G=realStreaming(TS,1000)"
   ]
  },
  {
   "cell_type": "code",
   "execution_count": 56,
   "metadata": {},
   "outputs": [
    {
     "data": {
      "text/plain": [
       "5139"
      ]
     },
     "execution_count": 56,
     "metadata": {},
     "output_type": "execute_result"
    }
   ],
   "source": [
    "len(x)"
   ]
  },
  {
   "cell_type": "code",
   "execution_count": 57,
   "metadata": {},
   "outputs": [
    {
     "data": {
      "text/plain": [
       "1008"
      ]
     },
     "execution_count": 57,
     "metadata": {},
     "output_type": "execute_result"
    }
   ],
   "source": [
    "len(G.nodes())"
   ]
  },
  {
   "cell_type": "code",
   "execution_count": 58,
   "metadata": {},
   "outputs": [
    {
     "data": {
      "text/plain": [
       "5139"
      ]
     },
     "execution_count": 58,
     "metadata": {},
     "output_type": "execute_result"
    }
   ],
   "source": [
    "len(TS)"
   ]
  },
  {
   "cell_type": "code",
   "execution_count": 60,
   "metadata": {},
   "outputs": [],
   "source": [
    "G=realStatic(TS)"
   ]
  },
  {
   "cell_type": "code",
   "execution_count": 61,
   "metadata": {},
   "outputs": [
    {
     "data": {
      "text/plain": [
       "5139"
      ]
     },
     "execution_count": 61,
     "metadata": {},
     "output_type": "execute_result"
    }
   ],
   "source": [
    "len(G.nodes())"
   ]
  },
  {
   "cell_type": "code",
   "execution_count": null,
   "metadata": {},
   "outputs": [],
   "source": []
  },
  {
   "cell_type": "code",
   "execution_count": null,
   "metadata": {},
   "outputs": [],
   "source": []
  },
  {
   "cell_type": "code",
   "execution_count": null,
   "metadata": {},
   "outputs": [],
   "source": []
  },
  {
   "cell_type": "code",
   "execution_count": null,
   "metadata": {},
   "outputs": [],
   "source": []
  },
  {
   "cell_type": "code",
   "execution_count": null,
   "metadata": {},
   "outputs": [],
   "source": []
  },
  {
   "cell_type": "code",
   "execution_count": null,
   "metadata": {},
   "outputs": [],
   "source": []
  },
  {
   "cell_type": "code",
   "execution_count": null,
   "metadata": {},
   "outputs": [],
   "source": []
  },
  {
   "cell_type": "code",
   "execution_count": null,
   "metadata": {},
   "outputs": [],
   "source": []
  },
  {
   "cell_type": "code",
   "execution_count": null,
   "metadata": {},
   "outputs": [],
   "source": []
  },
  {
   "cell_type": "code",
   "execution_count": null,
   "metadata": {},
   "outputs": [],
   "source": []
  },
  {
   "cell_type": "code",
   "execution_count": null,
   "metadata": {},
   "outputs": [],
   "source": []
  },
  {
   "cell_type": "code",
   "execution_count": null,
   "metadata": {},
   "outputs": [],
   "source": []
  },
  {
   "cell_type": "code",
   "execution_count": null,
   "metadata": {},
   "outputs": [],
   "source": []
  },
  {
   "cell_type": "code",
   "execution_count": null,
   "metadata": {},
   "outputs": [],
   "source": []
  },
  {
   "cell_type": "code",
   "execution_count": null,
   "metadata": {},
   "outputs": [],
   "source": []
  },
  {
   "cell_type": "code",
   "execution_count": null,
   "metadata": {},
   "outputs": [],
   "source": []
  },
  {
   "cell_type": "code",
   "execution_count": null,
   "metadata": {},
   "outputs": [],
   "source": []
  },
  {
   "cell_type": "code",
   "execution_count": null,
   "metadata": {},
   "outputs": [],
   "source": []
  },
  {
   "cell_type": "code",
   "execution_count": null,
   "metadata": {},
   "outputs": [],
   "source": []
  },
  {
   "cell_type": "code",
   "execution_count": null,
   "metadata": {},
   "outputs": [],
   "source": []
  },
  {
   "cell_type": "code",
   "execution_count": null,
   "metadata": {},
   "outputs": [],
   "source": []
  },
  {
   "cell_type": "code",
   "execution_count": null,
   "metadata": {},
   "outputs": [],
   "source": []
  },
  {
   "cell_type": "code",
   "execution_count": null,
   "metadata": {},
   "outputs": [],
   "source": []
  },
  {
   "cell_type": "code",
   "execution_count": null,
   "metadata": {},
   "outputs": [],
   "source": []
  },
  {
   "cell_type": "code",
   "execution_count": null,
   "metadata": {},
   "outputs": [],
   "source": []
  },
  {
   "cell_type": "code",
   "execution_count": null,
   "metadata": {},
   "outputs": [],
   "source": []
  },
  {
   "cell_type": "code",
   "execution_count": null,
   "metadata": {},
   "outputs": [],
   "source": []
  },
  {
   "cell_type": "code",
   "execution_count": null,
   "metadata": {},
   "outputs": [],
   "source": []
  },
  {
   "cell_type": "code",
   "execution_count": null,
   "metadata": {},
   "outputs": [],
   "source": []
  },
  {
   "cell_type": "code",
   "execution_count": null,
   "metadata": {},
   "outputs": [],
   "source": []
  },
  {
   "cell_type": "code",
   "execution_count": null,
   "metadata": {},
   "outputs": [],
   "source": []
  },
  {
   "cell_type": "code",
   "execution_count": null,
   "metadata": {},
   "outputs": [],
   "source": []
  },
  {
   "cell_type": "code",
   "execution_count": null,
   "metadata": {},
   "outputs": [],
   "source": []
  },
  {
   "cell_type": "code",
   "execution_count": null,
   "metadata": {},
   "outputs": [],
   "source": []
  },
  {
   "cell_type": "code",
   "execution_count": null,
   "metadata": {},
   "outputs": [],
   "source": []
  },
  {
   "cell_type": "code",
   "execution_count": null,
   "metadata": {},
   "outputs": [],
   "source": []
  },
  {
   "cell_type": "code",
   "execution_count": null,
   "metadata": {},
   "outputs": [],
   "source": []
  },
  {
   "cell_type": "code",
   "execution_count": null,
   "metadata": {},
   "outputs": [],
   "source": []
  },
  {
   "cell_type": "code",
   "execution_count": null,
   "metadata": {},
   "outputs": [],
   "source": []
  },
  {
   "cell_type": "code",
   "execution_count": null,
   "metadata": {},
   "outputs": [],
   "source": []
  },
  {
   "cell_type": "code",
   "execution_count": null,
   "metadata": {},
   "outputs": [],
   "source": []
  },
  {
   "cell_type": "code",
   "execution_count": null,
   "metadata": {},
   "outputs": [],
   "source": []
  },
  {
   "cell_type": "code",
   "execution_count": null,
   "metadata": {},
   "outputs": [],
   "source": []
  },
  {
   "cell_type": "code",
   "execution_count": null,
   "metadata": {},
   "outputs": [],
   "source": []
  },
  {
   "cell_type": "code",
   "execution_count": null,
   "metadata": {},
   "outputs": [],
   "source": []
  },
  {
   "cell_type": "code",
   "execution_count": null,
   "metadata": {},
   "outputs": [],
   "source": []
  },
  {
   "cell_type": "code",
   "execution_count": null,
   "metadata": {},
   "outputs": [],
   "source": []
  },
  {
   "cell_type": "code",
   "execution_count": null,
   "metadata": {},
   "outputs": [],
   "source": []
  },
  {
   "cell_type": "code",
   "execution_count": null,
   "metadata": {},
   "outputs": [],
   "source": []
  },
  {
   "cell_type": "code",
   "execution_count": null,
   "metadata": {},
   "outputs": [],
   "source": []
  },
  {
   "cell_type": "code",
   "execution_count": null,
   "metadata": {},
   "outputs": [],
   "source": []
  },
  {
   "cell_type": "code",
   "execution_count": null,
   "metadata": {},
   "outputs": [],
   "source": []
  },
  {
   "cell_type": "code",
   "execution_count": null,
   "metadata": {},
   "outputs": [],
   "source": []
  },
  {
   "cell_type": "code",
   "execution_count": null,
   "metadata": {},
   "outputs": [],
   "source": []
  },
  {
   "cell_type": "code",
   "execution_count": null,
   "metadata": {},
   "outputs": [],
   "source": []
  },
  {
   "cell_type": "code",
   "execution_count": null,
   "metadata": {},
   "outputs": [],
   "source": []
  },
  {
   "cell_type": "code",
   "execution_count": null,
   "metadata": {},
   "outputs": [],
   "source": []
  },
  {
   "cell_type": "code",
   "execution_count": null,
   "metadata": {},
   "outputs": [],
   "source": []
  },
  {
   "cell_type": "code",
   "execution_count": null,
   "metadata": {},
   "outputs": [],
   "source": []
  },
  {
   "cell_type": "code",
   "execution_count": null,
   "metadata": {},
   "outputs": [],
   "source": []
  },
  {
   "cell_type": "code",
   "execution_count": null,
   "metadata": {},
   "outputs": [],
   "source": []
  },
  {
   "cell_type": "code",
   "execution_count": null,
   "metadata": {},
   "outputs": [],
   "source": []
  },
  {
   "cell_type": "code",
   "execution_count": null,
   "metadata": {},
   "outputs": [],
   "source": []
  },
  {
   "cell_type": "code",
   "execution_count": null,
   "metadata": {},
   "outputs": [],
   "source": []
  },
  {
   "cell_type": "code",
   "execution_count": null,
   "metadata": {},
   "outputs": [],
   "source": []
  },
  {
   "cell_type": "code",
   "execution_count": null,
   "metadata": {},
   "outputs": [],
   "source": []
  },
  {
   "cell_type": "code",
   "execution_count": null,
   "metadata": {},
   "outputs": [],
   "source": []
  },
  {
   "cell_type": "code",
   "execution_count": null,
   "metadata": {},
   "outputs": [],
   "source": []
  },
  {
   "cell_type": "code",
   "execution_count": null,
   "metadata": {},
   "outputs": [],
   "source": []
  },
  {
   "cell_type": "code",
   "execution_count": null,
   "metadata": {},
   "outputs": [],
   "source": []
  },
  {
   "cell_type": "code",
   "execution_count": null,
   "metadata": {},
   "outputs": [],
   "source": []
  },
  {
   "cell_type": "code",
   "execution_count": null,
   "metadata": {},
   "outputs": [],
   "source": []
  },
  {
   "cell_type": "code",
   "execution_count": null,
   "metadata": {},
   "outputs": [],
   "source": []
  },
  {
   "cell_type": "code",
   "execution_count": null,
   "metadata": {},
   "outputs": [],
   "source": []
  },
  {
   "cell_type": "code",
   "execution_count": null,
   "metadata": {},
   "outputs": [],
   "source": []
  },
  {
   "cell_type": "code",
   "execution_count": null,
   "metadata": {},
   "outputs": [],
   "source": []
  },
  {
   "cell_type": "code",
   "execution_count": null,
   "metadata": {},
   "outputs": [],
   "source": []
  },
  {
   "cell_type": "code",
   "execution_count": null,
   "metadata": {},
   "outputs": [],
   "source": []
  },
  {
   "cell_type": "code",
   "execution_count": null,
   "metadata": {},
   "outputs": [],
   "source": []
  },
  {
   "cell_type": "code",
   "execution_count": null,
   "metadata": {},
   "outputs": [],
   "source": []
  },
  {
   "cell_type": "code",
   "execution_count": null,
   "metadata": {},
   "outputs": [],
   "source": []
  },
  {
   "cell_type": "code",
   "execution_count": null,
   "metadata": {},
   "outputs": [],
   "source": []
  },
  {
   "cell_type": "code",
   "execution_count": null,
   "metadata": {},
   "outputs": [],
   "source": []
  },
  {
   "cell_type": "code",
   "execution_count": null,
   "metadata": {},
   "outputs": [],
   "source": []
  },
  {
   "cell_type": "code",
   "execution_count": null,
   "metadata": {},
   "outputs": [],
   "source": []
  },
  {
   "cell_type": "code",
   "execution_count": null,
   "metadata": {},
   "outputs": [],
   "source": []
  },
  {
   "cell_type": "code",
   "execution_count": null,
   "metadata": {},
   "outputs": [],
   "source": []
  },
  {
   "cell_type": "code",
   "execution_count": null,
   "metadata": {},
   "outputs": [],
   "source": []
  },
  {
   "cell_type": "code",
   "execution_count": null,
   "metadata": {},
   "outputs": [],
   "source": []
  },
  {
   "cell_type": "code",
   "execution_count": null,
   "metadata": {},
   "outputs": [],
   "source": []
  },
  {
   "cell_type": "code",
   "execution_count": null,
   "metadata": {},
   "outputs": [],
   "source": []
  },
  {
   "cell_type": "code",
   "execution_count": null,
   "metadata": {},
   "outputs": [],
   "source": []
  },
  {
   "cell_type": "code",
   "execution_count": null,
   "metadata": {},
   "outputs": [],
   "source": []
  },
  {
   "cell_type": "code",
   "execution_count": null,
   "metadata": {},
   "outputs": [],
   "source": []
  },
  {
   "cell_type": "code",
   "execution_count": null,
   "metadata": {},
   "outputs": [],
   "source": []
  },
  {
   "cell_type": "code",
   "execution_count": null,
   "metadata": {},
   "outputs": [],
   "source": []
  },
  {
   "cell_type": "code",
   "execution_count": null,
   "metadata": {},
   "outputs": [],
   "source": []
  },
  {
   "cell_type": "code",
   "execution_count": null,
   "metadata": {},
   "outputs": [],
   "source": []
  },
  {
   "cell_type": "code",
   "execution_count": null,
   "metadata": {},
   "outputs": [],
   "source": []
  }
 ],
 "metadata": {
  "kernelspec": {
   "display_name": "Python 3",
   "language": "python",
   "name": "python3"
  },
  "language_info": {
   "codemirror_mode": {
    "name": "ipython",
    "version": 3
   },
   "file_extension": ".py",
   "mimetype": "text/x-python",
   "name": "python",
   "nbconvert_exporter": "python",
   "pygments_lexer": "ipython3",
   "version": "3.7.3"
  }
 },
 "nbformat": 4,
 "nbformat_minor": 2
}
