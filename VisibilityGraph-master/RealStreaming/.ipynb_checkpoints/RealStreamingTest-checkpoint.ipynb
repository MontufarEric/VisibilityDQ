{
 "cells": [
  {
   "cell_type": "code",
   "execution_count": 1,
   "metadata": {},
   "outputs": [],
   "source": [
    "import networkx as nx\n",
    "import numpy as np\n",
    "import time\n",
    "import matplotlib.pyplot as plt"
   ]
  },
  {
   "cell_type": "code",
   "execution_count": 2,
   "metadata": {},
   "outputs": [],
   "source": [
    "def maxlist(series,lista,index):\n",
    "    if len(series)==0:\n",
    "        lista.append((len(series)-1,series))\n",
    "        \n",
    "        return lista[:-1]\n",
    "    else: \n",
    "        max_index=np.argmax(series)\n",
    "        lista.append([max_index+index,np.max(series)])\n",
    "        index=max_index+1+index\n",
    "#         print(lista)\n",
    "        return maxlist(series[max_index+1:],lista, index)\n"
   ]
  },
  {
   "cell_type": "code",
   "execution_count": 3,
   "metadata": {},
   "outputs": [],
   "source": [
    "def streamingVN(serie,window):\n",
    "    arrG1=[]\n",
    "    G=nx.Graph()\n",
    "    numcalls=0\n",
    "    for Na in range (window):\n",
    "        ya=serie[Na]\n",
    "        maxslp=-1000\n",
    "        for Nb in range(Na+1,window):\n",
    "            yb=serie[Nb]\n",
    "            slp=(yb-ya)/(Nb-Na)   #+ np.finfo(float).eps)\n",
    "            if slp > maxslp:\n",
    "                arrG1.append((Na,Nb))\n",
    "                maxslp=slp\n",
    "#                print(Na,Nb)\n",
    "                \n",
    "    \n",
    "    for i in range(window):\n",
    "        G.add_node(i, y=serie[i])\n",
    "                                    \n",
    "    G.add_edges_from(arrG1)\n",
    " \n",
    "\n",
    "    #  Here we start adding nodes\n",
    "\n",
    "    maxs= maxlist(serie[:window],[],0)\n",
    "    pointer=1\n",
    "\n",
    "#     print('................................')\n",
    "#     print(maxs)\n",
    "    for Na in range(window,len(serie)):\n",
    "        \n",
    "        ya = serie[Na]\n",
    "        lim=0\n",
    "        maxslp=1000\n",
    "        for maxim in maxs[::-1]:\n",
    "            if maxim[1]>ya:\n",
    "                lim=maxim[0]\n",
    "        \n",
    "        for Nb in range(Na,lim-1,-1):\n",
    "            yb=serie[Nb]\n",
    "            slp=(yb-ya)/(Nb-Na)  \n",
    "#             print(Na,Nb,slp,lim)\n",
    "            if slp < maxslp:\n",
    "                arrG1.append((Na,Nb))\n",
    "                maxslp=slp\n",
    "#                 print(Na,Nb)\n",
    "\n",
    "        if lim==0:\n",
    "            numcalls=numcalls+1\n",
    "            maxs=maxlist(serie[pointer:pointer+window+1],[],pointer)\n",
    "#             print('///////////////maxlist nueva')\n",
    "#             print(maxs)\n",
    "\n",
    "        else:\n",
    "                \n",
    "                \n",
    "            for m in maxs[::-1]:\n",
    "                if ya>=m[1]:\n",
    "                    maxs.remove(m)\n",
    "#                     print('remove '+str(m))\n",
    "                else:\n",
    "#                     print('entra else')\n",
    "                    yb=m[1]\n",
    "                    Nb=m[0]\n",
    "                    slp=(yb-ya)/(Nb-Na)   #+ np.finfo(float).eps)\n",
    "#                     print(Na,Nb,slp,maxslp)\n",
    "                    if slp < maxslp:\n",
    "                        arrG1.append((Na,Nb))\n",
    "#                         print(Na,Nb)\n",
    "                        maxslp=slp\n",
    "            maxs.append([Na,ya])\n",
    "#             print('---------maxlist actualizada')\n",
    "#             print(maxs)\n",
    "                \n",
    "            pointer=pointer+1\n",
    "                \n",
    "\n",
    "        \n",
    "    G.add_edges_from(arrG1)\n",
    "    \n",
    "    return(G,numcalls)"
   ]
  },
  {
   "cell_type": "code",
   "execution_count": 26,
   "metadata": {},
   "outputs": [],
   "source": [
    "def realStreaming(serie,window):\n",
    "    \n",
    "    \n",
    "    G=nx.Graph()\n",
    "    numcalls=0\n",
    "    for Na in range (window):\n",
    "        ya=serie[Na]\n",
    "        maxslp=-1000\n",
    "        for Nb in range(Na+1,window):\n",
    "            yb=serie[Nb]\n",
    "            slp=(yb-ya)/(Nb-Na)   #+ np.finfo(float).eps)\n",
    "            if slp > maxslp:\n",
    "                G.add_edge(Na,Nb)\n",
    "                maxslp=slp\n",
    "#                print(Na,Nb)\n",
    "\n",
    "                \n",
    "    \n",
    " \n",
    "\n",
    "     #  Here we start adding nodes\n",
    "\n",
    "    maxs= maxlist(serie[:window],[],0)\n",
    "    pointer=1\n",
    "\n",
    "#     print('................................')\n",
    "#     print(maxs)\n",
    "    for Na in range(window,len(serie)):\n",
    "        \n",
    "        ya = serie[Na]      #Nuevo elemento (lectura)\n",
    "        lim=0\n",
    "        maxslp=1000\n",
    "        for maxim in maxs[::-1]:\n",
    "            if maxim[1]>ya:\n",
    "                lim=maxim[0]\n",
    "        \n",
    "        for Nb in range(Na,lim+pointer-1,-1):\n",
    "            yb=serie[Nb]\n",
    "            slp=(yb-ya)/(Nb-Na)  \n",
    "#             print(Na,Nb,slp,lim)\n",
    "            if slp < maxslp:\n",
    "                G.add_edge(Na,Nb)\n",
    "                maxslp=slp\n",
    "#                 print(Na,Nb)\n",
    "\n",
    "        if lim==0 | len(maxs)==0:\n",
    "            numcalls=numcalls+1\n",
    "            maxs=maxlist(serie[pointer:pointer+window+1],[],pointer)\n",
    "#             print('///////////////maxlist nueva')\n",
    "#             print(maxs)\n",
    "\n",
    "        else:\n",
    "                \n",
    "                \n",
    "            for m in maxs[::-1]:\n",
    "                if ya>=m[1]:\n",
    "                    maxs.remove(m)\n",
    "#                     print('remove '+str(m))\n",
    "                else:\n",
    "#                     print('entra else')\n",
    "                    yb=m[1]\n",
    "                    Nb=m[0]\n",
    "                    slp=(yb-ya)/(Nb-Na)   #+ np.finfo(float).eps)\n",
    "#                     print(Na,Nb,slp,maxslp)\n",
    "                    if slp < maxslp:\n",
    "                        G.add_edge(Na,Nb)\n",
    "#                         print(Na,Nb)\n",
    "                        maxslp=slp\n",
    "            maxs.append([Na,ya])\n",
    "#             print('---------maxlist actualizada')\n",
    "#             print(maxs)\n",
    "                \n",
    "            G.remove_node(pointer-1)\n",
    "            pointer=pointer+1\n",
    "            for maxim in maxs[::-1]:\n",
    "                if maxim[0]<pointer:\n",
    "                    maxs.remove(maxim)\n",
    "                    \n",
    "                \n",
    "\n",
    "        \n",
    "    \n",
    "    \n",
    "    return(G,numcalls)"
   ]
  },
  {
   "cell_type": "code",
   "execution_count": null,
   "metadata": {},
   "outputs": [],
   "source": [
    "def genSeed(TS,window):"
   ]
  },
  {
   "cell_type": "code",
   "execution_count": 22,
   "metadata": {},
   "outputs": [
    {
     "data": {
      "text/plain": [
       "<StemContainer object of 3 artists>"
      ]
     },
     "execution_count": 22,
     "metadata": {},
     "output_type": "execute_result"
    },
    {
     "data": {
      "image/png": "[encoded data removed]",
      "text/plain": [
       "<Figure size 432x288 with 1 Axes>"
      ]
     },
     "metadata": {
      "needs_background": "light"
     },
     "output_type": "display_data"
    }
   ],
   "source": [
    "serie=np.random.randint(1,10,20)\n",
    "plt.stem(serie)"
   ]
  },
  {
   "cell_type": "code",
   "execution_count": 27,
   "metadata": {},
   "outputs": [
    {
     "name": "stderr",
     "output_type": "stream",
     "text": [
      "/home/eric/anaconda3/envs/tesina/lib/python3.7/site-packages/ipykernel_launcher.py:39: RuntimeWarning: invalid value encountered in long_scalars\n"
     ]
    }
   ],
   "source": [
    "G,x=realStreaming(serie,10)"
   ]
  },
  {
   "cell_type": "code",
   "execution_count": 28,
   "metadata": {
    "scrolled": true
   },
   "outputs": [
    {
     "data": {
      "text/plain": [
       "EdgeView([(10, 11), (11, 12), (11, 13), (11, 17), (13, 14), (13, 15), (13, 16), (17, 18), (18, 19)])"
      ]
     },
     "execution_count": 28,
     "metadata": {},
     "output_type": "execute_result"
    }
   ],
   "source": [
    "G.edges()"
   ]
  },
  {
   "cell_type": "code",
   "execution_count": 29,
   "metadata": {},
   "outputs": [
    {
     "data": {
      "text/plain": [
       "NodeView((10, 11, 12, 13, 14, 15, 16, 17, 18, 19))"
      ]
     },
     "execution_count": 29,
     "metadata": {},
     "output_type": "execute_result"
    }
   ],
   "source": [
    "G.nodes()"
   ]
  },
  {
   "cell_type": "code",
   "execution_count": 113,
   "metadata": {},
   "outputs": [],
   "source": [
    "l=[[1,2],[3,4],[5,6],7]\n"
   ]
  },
  {
   "cell_type": "code",
   "execution_count": 109,
   "metadata": {},
   "outputs": [
    {
     "ename": "IndexError",
     "evalue": "list index out of range",
     "output_type": "error",
     "traceback": [
      "\u001b[0;31m---------------------------------------------------------------------------\u001b[0m",
      "\u001b[0;31mIndexError\u001b[0m                                Traceback (most recent call last)",
      "\u001b[0;32m<ipython-input-109-e9bb98b1fdab>\u001b[0m in \u001b[0;36m<module>\u001b[0;34m\u001b[0m\n\u001b[1;32m      1\u001b[0m \u001b[0;32mfor\u001b[0m \u001b[0mi\u001b[0m \u001b[0;32min\u001b[0m \u001b[0mrange\u001b[0m\u001b[0;34m(\u001b[0m\u001b[0mlen\u001b[0m\u001b[0;34m(\u001b[0m\u001b[0ml\u001b[0m\u001b[0;34m)\u001b[0m\u001b[0;34m)\u001b[0m\u001b[0;34m:\u001b[0m\u001b[0;34m\u001b[0m\u001b[0;34m\u001b[0m\u001b[0m\n\u001b[0;32m----> 2\u001b[0;31m     \u001b[0;32mif\u001b[0m \u001b[0ml\u001b[0m\u001b[0;34m[\u001b[0m\u001b[0mi\u001b[0m\u001b[0;34m]\u001b[0m\u001b[0;34m<\u001b[0m\u001b[0;36m3\u001b[0m\u001b[0;34m:\u001b[0m\u001b[0;34m\u001b[0m\u001b[0;34m\u001b[0m\u001b[0m\n\u001b[0m\u001b[1;32m      3\u001b[0m         \u001b[0ml\u001b[0m\u001b[0;34m.\u001b[0m\u001b[0mpop\u001b[0m\u001b[0;34m(\u001b[0m\u001b[0mi\u001b[0m\u001b[0;34m)\u001b[0m\u001b[0;34m\u001b[0m\u001b[0;34m\u001b[0m\u001b[0m\n",
      "\u001b[0;31mIndexError\u001b[0m: list index out of range"
     ]
    }
   ],
   "source": [
    "for i in range(len(l)):\n",
    "    if l[i]<3:\n",
    "        l.pop(i)"
   ]
  },
  {
   "cell_type": "code",
   "execution_count": 114,
   "metadata": {},
   "outputs": [],
   "source": [
    "l.remove([1,2])"
   ]
  },
  {
   "cell_type": "code",
   "execution_count": 115,
   "metadata": {},
   "outputs": [
    {
     "data": {
      "text/plain": [
       "[[3, 4], [5, 6], 7]"
      ]
     },
     "execution_count": 115,
     "metadata": {},
     "output_type": "execute_result"
    }
   ],
   "source": [
    "l"
   ]
  },
  {
   "cell_type": "code",
   "execution_count": 40,
   "metadata": {},
   "outputs": [],
   "source": [
    "def realStreaming1(serie,window):\n",
    "    \n",
    "    \n",
    "    G=nx.Graph()\n",
    "#     numcalls=0\n",
    "    for Na in range (window):\n",
    "        ya=serie[Na]\n",
    "        maxslp=-1000\n",
    "        for Nb in range(Na+1,window):\n",
    "            yb=serie[Nb]\n",
    "            slp=(yb-ya)/(Nb-Na)   #+ np.finfo(float).eps)\n",
    "            if slp > maxslp:\n",
    "                G.add_edge(Na,Nb)\n",
    "                maxslp=slp\n",
    "                print(Na,Nb)\n",
    "\n",
    "                \n",
    "    \n",
    "    print(G.nodes())\n",
    "    print(G.edges())\n",
    "    print('////////////////////////////////////////////////////////')\n",
    "\n",
    "     #  Here we start adding nodes\n",
    "    \n",
    "    maxs= maxlist(serie[:window],[],0)   # se calcula la lista de máximos de la serie\n",
    "    pointer=1                            # puntero que recorre la ventana\n",
    "        \n",
    "    for Na in range(window,len(serie)):\n",
    "            \n",
    "        ya = serie[Na]      #Nuevo elemento (lectura)\n",
    "            \n",
    "        lim=0\n",
    "        maxslp=1000\n",
    "            \n",
    "        for maxim in maxs[::-1]:  # se ubica al máximo menor que el nuevo punto\n",
    "            if maxim[1]>ya:\n",
    "                lim=maxim[0]\n",
    "\n",
    "        for Nb in range(Na,lim+pointer-1,-1):     # recorre la lista al revés desde el nuevo registro hasta el máximo de la lista mayor que éste\n",
    "            yb=serie[Nb]\n",
    "            slp=(yb-ya)/(Nb-Na)  \n",
    "#             print(Na,Nb,slp,lim)\n",
    "            if slp < maxslp:\n",
    "                G.add_edge(Na,Nb)\n",
    "                maxslp=slp\n",
    "#                 print(Na,Nb)\n",
    "\n",
    "\n",
    "        if lim==0 :  # si el nuevo punto es un maximo global recalcula la lista\n",
    "#                 numcalls=numcalls+1\n",
    "            maxs=maxlist(serie[pointer:pointer+window+1],[],pointer)\n",
    "    \n",
    "    \n",
    "        else:\n",
    "            for m in maxs[::-1]:     \n",
    "                if ya>=m[1]:             # se eliminan los maximos menores a la muestra \n",
    "                    maxs.remove(m)\n",
    "    #                     print('remove '+str(m))\n",
    "                else:                    #  re verifica la condicion de visibilidad para los máximos de la lista\n",
    "    #                     print('entra else')\n",
    "                    yb=m[1]\n",
    "                    Nb=m[0]\n",
    "                    slp=(yb-ya)/(Nb-Na)   #+ np.finfo(float).eps)\n",
    "    #               print(Na,Nb,slp,maxslp)\n",
    "                    if slp < maxslp:\n",
    "                        G.add_edge(Na,Nb)\n",
    "    #                   print(Na,Nb)\n",
    "                        maxslp=slp\n",
    "            maxs.append([Na,ya])        # se agrega al nuevo punto a la lista de máximos \n",
    "        \n",
    "        print(G.nodes())\n",
    "        print(G.edges())\n",
    "        G.remove_node(pointer-1)\n",
    "        for maxim in maxs[::-1]:\n",
    "            if maxim[0]<pointer:\n",
    "                maxs.remove(maxim)\n",
    "                    \n",
    "        pointer=pointer+1\n",
    "    return G"
   ]
  },
  {
   "cell_type": "code",
   "execution_count": 33,
   "metadata": {},
   "outputs": [
    {
     "data": {
      "text/plain": [
       "<StemContainer object of 3 artists>"
      ]
     },
     "execution_count": 33,
     "metadata": {},
     "output_type": "execute_result"
    },
    {
     "data": {
      "image/png": "[encoded data removed]",
      "text/plain": [
       "<Figure size 432x288 with 1 Axes>"
      ]
     },
     "metadata": {
      "needs_background": "light"
     },
     "output_type": "display_data"
    }
   ],
   "source": [
    "serie=np.random.randint(1,10,20)\n",
    "plt.stem(serie)"
   ]
  },
  {
   "cell_type": "code",
   "execution_count": 41,
   "metadata": {},
   "outputs": [
    {
     "name": "stdout",
     "output_type": "stream",
     "text": [
      "0 1\n",
      "0 2\n",
      "0 3\n",
      "0 6\n",
      "1 2\n",
      "1 3\n",
      "2 3\n",
      "3 4\n",
      "3 5\n",
      "3 6\n",
      "4 5\n",
      "5 6\n",
      "6 7\n",
      "6 8\n",
      "7 8\n",
      "8 9\n",
      "[0, 1, 2, 3, 6, 4, 5, 7, 8, 9]\n",
      "[(0, 1), (0, 2), (0, 3), (0, 6), (1, 2), (1, 3), (2, 3), (3, 4), (3, 5), (3, 6), (6, 5), (6, 7), (6, 8), (4, 5), (7, 8), (8, 9)]\n",
      "////////////////////////////////////////////////////////\n",
      "[0, 1, 2, 3, 6, 4, 5, 7, 8, 9, 10]\n",
      "[(0, 1), (0, 2), (0, 3), (0, 6), (1, 2), (1, 3), (2, 3), (3, 4), (3, 5), (3, 6), (6, 5), (6, 7), (6, 8), (4, 5), (7, 8), (8, 9), (8, 10), (9, 10)]\n",
      "[1, 2, 3, 6, 4, 5, 7, 8, 9, 10, 11]\n",
      "[(1, 2), (1, 3), (2, 3), (3, 4), (3, 5), (3, 6), (6, 5), (6, 7), (6, 8), (4, 5), (7, 8), (8, 9), (8, 10), (9, 10), (10, 11)]\n",
      "[2, 3, 6, 4, 5, 7, 8, 9, 10, 11, 12]\n",
      "[(2, 3), (3, 4), (3, 5), (3, 6), (3, 12), (6, 5), (6, 7), (6, 8), (6, 12), (4, 5), (7, 8), (8, 9), (8, 10), (8, 12), (9, 10), (9, 12), (10, 11), (10, 12), (11, 12)]\n",
      "[3, 6, 4, 5, 7, 8, 9, 10, 11, 12, 13]\n",
      "[(3, 4), (3, 5), (3, 6), (3, 12), (6, 5), (6, 7), (6, 8), (6, 12), (4, 5), (7, 8), (8, 9), (8, 10), (8, 12), (9, 10), (9, 12), (10, 11), (10, 12), (11, 12), (12, 13)]\n",
      "[6, 4, 5, 7, 8, 9, 10, 11, 12, 13, 14]\n",
      "[(6, 5), (6, 7), (6, 8), (6, 12), (4, 5), (7, 8), (8, 9), (8, 10), (8, 12), (9, 10), (9, 12), (10, 11), (10, 12), (11, 12), (12, 13), (13, 14)]\n",
      "[6, 5, 7, 8, 9, 10, 11, 12, 13, 14, 15]\n",
      "[(6, 5), (6, 7), (6, 8), (6, 12), (7, 8), (8, 9), (8, 10), (8, 12), (9, 10), (9, 12), (10, 11), (10, 12), (11, 12), (12, 13), (13, 14), (14, 15)]\n",
      "[6, 7, 8, 9, 10, 11, 12, 13, 14, 15, 16]\n",
      "[(6, 7), (6, 8), (6, 12), (7, 8), (8, 9), (8, 10), (8, 12), (9, 10), (9, 12), (10, 11), (10, 12), (11, 12), (12, 13), (13, 14), (13, 16), (14, 15)]\n",
      "[7, 8, 9, 10, 11, 12, 13, 14, 15, 16, 17]\n",
      "[(7, 8), (8, 9), (8, 10), (8, 12), (9, 10), (9, 12), (10, 11), (10, 12), (11, 12), (12, 13), (13, 14), (13, 16), (14, 15), (16, 17)]\n",
      "[8, 9, 10, 11, 12, 13, 14, 15, 16, 17, 18]\n",
      "[(8, 9), (8, 10), (8, 12), (9, 10), (9, 12), (10, 11), (10, 12), (11, 12), (12, 13), (12, 18), (13, 14), (13, 16), (13, 18), (14, 15), (14, 18), (16, 17), (16, 18), (17, 18)]\n",
      "[9, 10, 11, 12, 13, 14, 15, 16, 17, 18, 19]\n",
      "[(9, 10), (9, 12), (10, 11), (10, 12), (11, 12), (12, 13), (12, 18), (13, 14), (13, 16), (13, 18), (14, 15), (14, 18), (16, 17), (16, 18), (17, 18), (18, 19)]\n"
     ]
    },
    {
     "name": "stderr",
     "output_type": "stream",
     "text": [
      "/home/eric/anaconda3/envs/tesina/lib/python3.7/site-packages/ipykernel_launcher.py:41: RuntimeWarning: invalid value encountered in long_scalars\n"
     ]
    }
   ],
   "source": [
    "G=realStreaming1(serie,10)"
   ]
  },
  {
   "cell_type": "code",
   "execution_count": 42,
   "metadata": {},
   "outputs": [
    {
     "data": {
      "text/plain": [
       "NodeView((10, 11, 12, 13, 14, 15, 16, 17, 18, 19))"
      ]
     },
     "execution_count": 42,
     "metadata": {},
     "output_type": "execute_result"
    }
   ],
   "source": [
    "G.nodes()"
   ]
  },
  {
   "cell_type": "code",
   "execution_count": null,
   "metadata": {},
   "outputs": [],
   "source": []
  },
  {
   "cell_type": "code",
   "execution_count": null,
   "metadata": {},
   "outputs": [],
   "source": []
  },
  {
   "cell_type": "code",
   "execution_count": null,
   "metadata": {},
   "outputs": [],
   "source": []
  },
  {
   "cell_type": "code",
   "execution_count": null,
   "metadata": {},
   "outputs": [],
   "source": []
  },
  {
   "cell_type": "code",
   "execution_count": 6,
   "metadata": {},
   "outputs": [
    {
     "data": {
      "text/plain": [
       "True"
      ]
     },
     "execution_count": 6,
     "metadata": {},
     "output_type": "execute_result"
    }
   ],
   "source": []
  },
  {
   "cell_type": "code",
   "execution_count": null,
   "metadata": {},
   "outputs": [],
   "source": []
  },
  {
   "cell_type": "code",
   "execution_count": null,
   "metadata": {},
   "outputs": [],
   "source": []
  },
  {
   "cell_type": "code",
   "execution_count": null,
   "metadata": {},
   "outputs": [],
   "source": []
  },
  {
   "cell_type": "code",
   "execution_count": null,
   "metadata": {},
   "outputs": [],
   "source": []
  },
  {
   "cell_type": "code",
   "execution_count": null,
   "metadata": {},
   "outputs": [],
   "source": []
  },
  {
   "cell_type": "code",
   "execution_count": null,
   "metadata": {},
   "outputs": [],
   "source": []
  },
  {
   "cell_type": "code",
   "execution_count": null,
   "metadata": {},
   "outputs": [],
   "source": []
  },
  {
   "cell_type": "code",
   "execution_count": null,
   "metadata": {},
   "outputs": [],
   "source": []
  },
  {
   "cell_type": "code",
   "execution_count": null,
   "metadata": {},
   "outputs": [],
   "source": []
  },
  {
   "cell_type": "code",
   "execution_count": null,
   "metadata": {},
   "outputs": [],
   "source": []
  },
  {
   "cell_type": "code",
   "execution_count": null,
   "metadata": {},
   "outputs": [],
   "source": []
  },
  {
   "cell_type": "code",
   "execution_count": null,
   "metadata": {},
   "outputs": [],
   "source": []
  },
  {
   "cell_type": "code",
   "execution_count": null,
   "metadata": {},
   "outputs": [],
   "source": []
  },
  {
   "cell_type": "code",
   "execution_count": null,
   "metadata": {},
   "outputs": [],
   "source": []
  },
  {
   "cell_type": "code",
   "execution_count": null,
   "metadata": {},
   "outputs": [],
   "source": []
  },
  {
   "cell_type": "code",
   "execution_count": null,
   "metadata": {},
   "outputs": [],
   "source": []
  },
  {
   "cell_type": "code",
   "execution_count": null,
   "metadata": {},
   "outputs": [],
   "source": []
  },
  {
   "cell_type": "code",
   "execution_count": null,
   "metadata": {},
   "outputs": [],
   "source": []
  },
  {
   "cell_type": "code",
   "execution_count": null,
   "metadata": {},
   "outputs": [],
   "source": []
  },
  {
   "cell_type": "code",
   "execution_count": null,
   "metadata": {},
   "outputs": [],
   "source": []
  },
  {
   "cell_type": "code",
   "execution_count": null,
   "metadata": {},
   "outputs": [],
   "source": []
  },
  {
   "cell_type": "code",
   "execution_count": null,
   "metadata": {},
   "outputs": [],
   "source": []
  },
  {
   "cell_type": "code",
   "execution_count": null,
   "metadata": {},
   "outputs": [],
   "source": []
  },
  {
   "cell_type": "code",
   "execution_count": null,
   "metadata": {},
   "outputs": [],
   "source": []
  },
  {
   "cell_type": "code",
   "execution_count": null,
   "metadata": {},
   "outputs": [],
   "source": []
  },
  {
   "cell_type": "code",
   "execution_count": null,
   "metadata": {},
   "outputs": [],
   "source": []
  },
  {
   "cell_type": "code",
   "execution_count": null,
   "metadata": {},
   "outputs": [],
   "source": []
  },
  {
   "cell_type": "code",
   "execution_count": null,
   "metadata": {},
   "outputs": [],
   "source": []
  },
  {
   "cell_type": "code",
   "execution_count": null,
   "metadata": {},
   "outputs": [],
   "source": []
  },
  {
   "cell_type": "code",
   "execution_count": null,
   "metadata": {},
   "outputs": [],
   "source": []
  },
  {
   "cell_type": "code",
   "execution_count": null,
   "metadata": {},
   "outputs": [],
   "source": []
  },
  {
   "cell_type": "code",
   "execution_count": null,
   "metadata": {},
   "outputs": [],
   "source": []
  },
  {
   "cell_type": "code",
   "execution_count": null,
   "metadata": {},
   "outputs": [],
   "source": []
  }
 ],
 "metadata": {
  "kernelspec": {
   "display_name": "Python 3",
   "language": "python",
   "name": "python3"
  },
  "language_info": {
   "codemirror_mode": {
    "name": "ipython",
    "version": 3
   },
   "file_extension": ".py",
   "mimetype": "text/x-python",
   "name": "python",
   "nbconvert_exporter": "python",
   "pygments_lexer": "ipython3",
   "version": "3.7.1"
  }
 },
 "nbformat": 4,
 "nbformat_minor": 2
}
