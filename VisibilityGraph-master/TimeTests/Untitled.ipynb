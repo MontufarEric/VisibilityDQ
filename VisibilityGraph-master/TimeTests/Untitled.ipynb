{
 "cells": [
  {
   "cell_type": "code",
   "execution_count": 10,
   "metadata": {},
   "outputs": [],
   "source": [
    "import networkx as nx\n",
    "import numpy as np\n",
    "import time\n",
    "import matplotlib.pyplot as plt"
   ]
  },
  {
   "cell_type": "code",
   "execution_count": 2,
   "metadata": {},
   "outputs": [],
   "source": [
    "def SerieToNetMod(serie):\n",
    "    arrG1=[]\n",
    "    G=nx.Graph()\n",
    "    for Na in range (len(serie)):\n",
    "        ya=serie[Na]\n",
    "        maxslp=-1000\n",
    "        for Nb in range(Na,len(serie)):\n",
    "            yb=serie[Nb]\n",
    "            slp=(yb-ya)/(Nb-Na)\n",
    "            if slp > maxslp:\n",
    "                arrG1.append((Na,Nb))\n",
    "                maxslp=slp\n",
    "                \n",
    "    \n",
    "    for i in range(len(serie)):\n",
    "        G.add_node(i, y=serie[i])\n",
    "                                    \n",
    "    G.add_edges_from(arrG1)\n",
    "    \n",
    "    return(G)"
   ]
  },
  {
   "cell_type": "code",
   "execution_count": 3,
   "metadata": {},
   "outputs": [],
   "source": [
    "def genConway(N):\n",
    "    conway=[0,1,1]\n",
    "    test=[]\n",
    "    for n in range(3,N):\n",
    "        an=conway[conway[n-1]]+conway[n-conway[n-1]]\n",
    "        conway.append(an)\n",
    "        test.append(an/n)\n",
    "    return(test)"
   ]
  },
  {
   "cell_type": "code",
   "execution_count": 14,
   "metadata": {
    "scrolled": true
   },
   "outputs": [
    {
     "name": "stdout",
     "output_type": "stream",
     "text": [
      "0 0 100\n",
      "0 1 1000\n",
      "0 2 10000\n",
      "0 3 100000\n",
      "0 4 1000000\n",
      "0 5 10000000\n",
      "1 0 100\n",
      "1 1 1000\n",
      "1 2 10000\n",
      "1 3 100000\n",
      "1 4 1000000\n",
      "1 5 10000000\n",
      "2 0 100\n",
      "2 1 1000\n",
      "2 2 10000\n",
      "2 3 100000\n",
      "2 4 1000000\n",
      "2 5 10000000\n",
      "3 0 100\n",
      "3 1 1000\n",
      "3 2 10000\n",
      "3 3 100000\n",
      "3 4 1000000\n",
      "3 5 10000000\n",
      "4 0 100\n",
      "4 1 1000\n",
      "4 2 10000\n",
      "4 3 100000\n",
      "4 4 1000000\n",
      "4 5 10000000\n",
      "5 0 100\n",
      "5 1 1000\n",
      "5 2 10000\n",
      "5 3 100000\n",
      "5 4 1000000\n",
      "5 5 10000000\n",
      "6 0 100\n",
      "6 1 1000\n",
      "6 2 10000\n",
      "6 3 100000\n",
      "6 4 1000000\n",
      "6 5 10000000\n",
      "7 0 100\n",
      "7 1 1000\n",
      "7 2 10000\n",
      "7 3 100000\n",
      "7 4 1000000\n",
      "7 5 10000000\n",
      "8 0 100\n",
      "8 1 1000\n",
      "8 2 10000\n",
      "8 3 100000\n",
      "8 4 1000000\n",
      "8 5 10000000\n",
      "9 0 100\n",
      "9 1 1000\n",
      "9 2 10000\n",
      "9 3 100000\n",
      "9 4 1000000\n",
      "9 5 10000000\n"
     ]
    }
   ],
   "source": [
    "for i in range(10):\n",
    "    for n in range(6):\n",
    "        nn=10**(n+2)\n",
    "        print(i,n,nn)\n",
    "#         serie=np.array(genConway(nn))\n",
    "#         start=time.time()\n",
    "#         SerieToNetMod(serie)\n",
    "#         stop=time.time()-start\n",
    "#         f=open(\"random8.txt\",'a+')\n",
    "#         stri=str(nn)+\" \"+str(stop)+\"\\n\"\n",
    "#         f.write(stri)\n",
    "#         f.close\n",
    "        "
   ]
  },
  {
   "cell_type": "code",
   "execution_count": null,
   "metadata": {},
   "outputs": [],
   "source": []
  },
  {
   "cell_type": "code",
   "execution_count": null,
   "metadata": {},
   "outputs": [],
   "source": []
  },
  {
   "cell_type": "code",
   "execution_count": null,
   "metadata": {},
   "outputs": [],
   "source": []
  },
  {
   "cell_type": "code",
   "execution_count": null,
   "metadata": {},
   "outputs": [],
   "source": []
  },
  {
   "cell_type": "code",
   "execution_count": null,
   "metadata": {},
   "outputs": [],
   "source": []
  },
  {
   "cell_type": "code",
   "execution_count": null,
   "metadata": {},
   "outputs": [],
   "source": []
  },
  {
   "cell_type": "code",
   "execution_count": null,
   "metadata": {},
   "outputs": [],
   "source": []
  },
  {
   "cell_type": "code",
   "execution_count": null,
   "metadata": {},
   "outputs": [],
   "source": []
  },
  {
   "cell_type": "code",
   "execution_count": null,
   "metadata": {},
   "outputs": [],
   "source": []
  },
  {
   "cell_type": "code",
   "execution_count": null,
   "metadata": {},
   "outputs": [],
   "source": []
  },
  {
   "cell_type": "code",
   "execution_count": null,
   "metadata": {},
   "outputs": [],
   "source": []
  }
 ],
 "metadata": {
  "kernelspec": {
   "display_name": "Python 3",
   "language": "python",
   "name": "python3"
  },
  "language_info": {
   "codemirror_mode": {
    "name": "ipython",
    "version": 3
   },
   "file_extension": ".py",
   "mimetype": "text/x-python",
   "name": "python",
   "nbconvert_exporter": "python",
   "pygments_lexer": "ipython3",
   "version": "3.7.0"
  }
 },
 "nbformat": 4,
 "nbformat_minor": 2
}
