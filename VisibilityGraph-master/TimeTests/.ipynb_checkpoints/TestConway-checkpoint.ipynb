{
 "cells": [
  {
   "cell_type": "code",
   "execution_count": 5,
   "metadata": {},
   "outputs": [],
   "source": [
    "import networkx as nx\n",
    "import numpy as np\n",
    "import time"
   ]
  },
  {
   "cell_type": "code",
   "execution_count": 6,
   "metadata": {},
   "outputs": [],
   "source": [
    "def SerieToNetMod(serie):\n",
    "    arrG1=[]\n",
    "    G=nx.Graph()\n",
    "    for Na in range (len(serie)):\n",
    "        ya=serie[Na]\n",
    "        maxslp=-1000\n",
    "        for Nb in range(Na+1,len(serie)):\n",
    "            yb=serie[Nb]\n",
    "            slp=(yb-ya)/(Nb-Na)\n",
    "            if slp > maxslp:\n",
    "                arrG1.append((Na,Nb))\n",
    "                maxslp=slp\n",
    "                \n",
    "    \n",
    "    for i in range(len(serie)):\n",
    "        G.add_node(i, y=serie[i])\n",
    "                                    \n",
    "    G.add_edges_from(arrG1)\n",
    "    \n",
    "    return(G)\n",
    "            "
   ]
  },
  {
   "cell_type": "code",
   "execution_count": 7,
   "metadata": {},
   "outputs": [],
   "source": [
    "def genConway(N):\n",
    "    conway=[0,1,1]\n",
    "    test=[]\n",
    "    for n in range(3,N):\n",
    "        an=conway[conway[n-1]]+conway[n-conway[n-1]]\n",
    "        conway.append(an)\n",
    "        test.append(an/n)\n",
    "    return(test)"
   ]
  },
  {
   "cell_type": "code",
   "execution_count": null,
   "metadata": {},
   "outputs": [
    {
     "name": "stdout",
     "output_type": "stream",
     "text": [
      "10000 7.8069727420806885\n",
      "20000 30.21127152442932\n",
      "30000 64.56060314178467\n",
      "40000 124.11601638793945\n",
      "50000 184.69579911231995\n",
      "60000 260.4434735774994\n",
      "70000 364.1939790248871\n",
      "80000 495.4496705532074\n"
     ]
    }
   ],
   "source": [
    "for i in range(10):\n",
    "    for n in range(1,11):\n",
    "        nn=n*10000\n",
    "        serie=genConway(nn)\n",
    "        start=time.time()\n",
    "        SerieToNetMod(serie)\n",
    "        stop=time.time()-start\n",
    "        print(nn,stop)"
   ]
  },
  {
   "cell_type": "code",
   "execution_count": null,
   "metadata": {},
   "outputs": [],
   "source": [
    "10000 6.889946222305298\n",
    "20000 27.73611879348755\n",
    "30000 60.45446252822876\n",
    "40000 113.55506610870361\n",
    "50000 169.21544456481934\n",
    "60000 240.0815863609314\n",
    "70000 332.15484404563904\n",
    "10000 7.053157329559326\n",
    "20000 29.14527726173401\n",
    "30000 64.2561776638031\n",
    "40000 118.6770715713501\n",
    "50000 183.00755834579468\n",
    "60000 261.72470903396606\n",
    "70000 368.9904954433441\n",
    "10000 6.892658233642578\n",
    "20000 27.528230905532837\n",
    "30000 59.96904444694519\n",
    "40000 114.79736280441284\n",
    "50000 175.13248372077942\n",
    "60000 241.75383138656616\n",
    "70000 338.52379274368286\n",
    "80000 460.2236819267273\n",
    "10000 7.486508369445801\n",
    "20000 29.014439582824707\n",
    "30000 66.27562165260315\n",
    "40000 116.6788284778595\n",
    "50000 185.21788215637207\n",
    "60000 258.0574643611908\n",
    "70000 361.63682532310486\n",
    "80000 490.26600909233093\n",
    "10000 7.0062150955200195\n",
    "20000 29.44119691848755\n",
    "30000 66.82088160514832\n",
    "40000 121.15778470039368\n",
    "50000 186.68399477005005\n",
    "60000 265.58406019210815\n",
    "70000 365.2519850730896\n",
    "80000 498.70740389823914\n",
    "10000 7.214072227478027\n",
    "20000 27.79825234413147\n",
    "30000 62.387160539627075\n",
    "40000 124.18154859542847\n",
    "50000 184.88979077339172\n",
    "60000 271.76423716545105\n",
    "70000 370.7518992424011\n",
    "80000 491.03151988983154\n",
    "10000 7.8069727420806885\n",
    "20000 30.21127152442932\n",
    "30000 64.56060314178467\n",
    "40000 124.11601638793945\n",
    "50000 184.69579911231995\n",
    "60000 260.4434735774994\n",
    "70000 364.1939790248871\n",
    "80000 495.4496705532074"
   ]
  },
  {
   "cell_type": "code",
   "execution_count": null,
   "metadata": {},
   "outputs": [],
   "source": [
    "http://southpark.cc.com/full-episodes/s22e03-the-problem-with-a-poo#source=06bb4aa7-9917-4b6a-ae93-5ed7be79556a:896b2aa3-ac17-11e8-b956-70df2f866ace&position=3&sort=!airdate"
   ]
  }
 ],
 "metadata": {
  "kernelspec": {
   "display_name": "Python 3",
   "language": "python",
   "name": "python3"
  },
  "language_info": {
   "codemirror_mode": {
    "name": "ipython",
    "version": 3
   },
   "file_extension": ".py",
   "mimetype": "text/x-python",
   "name": "python",
   "nbconvert_exporter": "python",
   "pygments_lexer": "ipython3",
   "version": "3.7.0"
  }
 },
 "nbformat": 4,
 "nbformat_minor": 2
}
