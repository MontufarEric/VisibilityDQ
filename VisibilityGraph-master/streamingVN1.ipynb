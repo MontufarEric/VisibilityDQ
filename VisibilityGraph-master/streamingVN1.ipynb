{
 "cells": [
  {
   "cell_type": "code",
   "execution_count": 1,
   "metadata": {},
   "outputs": [],
   "source": [
    "import networkx as nx\n",
    "import numpy as np\n",
    "import time\n",
    "import matplotlib.pyplot as plt\n",
    "import seaborn as sns"
   ]
  },
  {
   "cell_type": "code",
   "execution_count": 2,
   "metadata": {},
   "outputs": [],
   "source": [
    "def SerieToNetMod(serie):\n",
    "    arrG1=[]\n",
    "    G=nx.Graph()\n",
    "    for Na in range (len(serie)):\n",
    "        ya=serie[Na]\n",
    "        maxslp=-1000\n",
    "        for Nb in range(Na,len(serie)):\n",
    "            yb=serie[Nb]\n",
    "            slp=(yb-ya)/(Nb-Na)\n",
    "            if slp > maxslp:\n",
    "                arrG1.append((Na,Nb))\n",
    "                maxslp=slp\n",
    "                \n",
    "    \n",
    "    for i in range(len(serie)):\n",
    "        G.add_node(i, y=serie[i])\n",
    "                                    \n",
    "    G.add_edges_from(arrG1)\n",
    "    \n",
    "    return(G)\n",
    "            "
   ]
  },
  {
   "cell_type": "code",
   "execution_count": 3,
   "metadata": {},
   "outputs": [
    {
     "ename": "TypeError",
     "evalue": "visibilityDQ() missing 1 required positional argument: 'flag'",
     "output_type": "error",
     "traceback": [
      "\u001b[0;31m---------------------------------------------------------------------------\u001b[0m",
      "\u001b[0;31mTypeError\u001b[0m                                 Traceback (most recent call last)",
      "\u001b[0;32m<ipython-input-3-362b3584f4d8>\u001b[0m in \u001b[0;36m<module>\u001b[0;34m\u001b[0m\n\u001b[1;32m     51\u001b[0m \u001b[0;34m\u001b[0m\u001b[0m\n\u001b[1;32m     52\u001b[0m \u001b[0mserie\u001b[0m\u001b[0;34m=\u001b[0m\u001b[0;34m[\u001b[0m\u001b[0;36m3\u001b[0m\u001b[0;34m,\u001b[0m\u001b[0;36m5\u001b[0m\u001b[0;34m,\u001b[0m\u001b[0;36m2\u001b[0m\u001b[0;34m,\u001b[0m\u001b[0;36m15\u001b[0m\u001b[0;34m,\u001b[0m\u001b[0;36m4\u001b[0m\u001b[0;34m,\u001b[0m\u001b[0;36m8\u001b[0m\u001b[0;34m,\u001b[0m\u001b[0;36m1\u001b[0m\u001b[0;34m,\u001b[0m\u001b[0;36m7\u001b[0m\u001b[0;34m,\u001b[0m\u001b[0;36m4\u001b[0m\u001b[0;34m]\u001b[0m\u001b[0;34m\u001b[0m\u001b[0m\n\u001b[0;32m---> 53\u001b[0;31m \u001b[0mvisibilityDQ\u001b[0m\u001b[0;34m(\u001b[0m\u001b[0mserie\u001b[0m\u001b[0;34m,\u001b[0m\u001b[0;36m0\u001b[0m\u001b[0;34m,\u001b[0m\u001b[0mlen\u001b[0m\u001b[0;34m(\u001b[0m\u001b[0mserie\u001b[0m\u001b[0;34m)\u001b[0m\u001b[0;34m)\u001b[0m\u001b[0;34m\u001b[0m\u001b[0m\n\u001b[0m",
      "\u001b[0;31mTypeError\u001b[0m: visibilityDQ() missing 1 required positional argument: 'flag'"
     ]
    }
   ],
   "source": [
    "def visibilityDQ(TS,left,right,flag):\n",
    "    if left < right:\n",
    "\n",
    "        k=np.argmax(TS[left:right+1])\n",
    "        \n",
    "#         if flag==0:\n",
    "#             kleft=np.argmax(TS[left:right+1])\n",
    "#         if flag==1:\n",
    "#             kright:np.argmax(TS[left:right+1])\n",
    "                \n",
    "        print(left,right,k,'.............')\n",
    "        maxslp=-1000\n",
    "        yk=TS[k]\n",
    "        \n",
    "        for a in range(left,k):\n",
    "            ya= TS[a]\n",
    "            slp=(yk-ya)/(k-a)\n",
    "            print('//////  '+str(slp))\n",
    "            if slp > maxslp:\n",
    "#                 arrG1.append((Na,Nb))\n",
    "                maxslp=slp\n",
    "                print(a,k)\n",
    "    \n",
    "        maxslp=-1000\n",
    "        for a in range(k+1, right+1):\n",
    "            try:\n",
    "                ya= TS[a]\n",
    "                slp=(yk-ya)/(k-a)\n",
    "                print('//////  '+str(slp))\n",
    "                if slp > maxslp:\n",
    "    #                 arrG1.append((Na,Nb))\n",
    "                    maxslp=slp\n",
    "                    print(a,k)\n",
    "            except:\n",
    "                pass\n",
    "                \n",
    "        \n",
    "        visibilityDQ(TS,left,k-1,0)\n",
    "        visibilityDQ(TS,k+1,right,1)\n",
    "        \n",
    "\n",
    "            \n",
    "            \n",
    "            \n",
    "            \n",
    "      \n",
    "                \n",
    "\n",
    "\n",
    "    \n",
    "    \n",
    "serie=[3,5,2,15,4,8,1,7,4]\n",
    "visibilityDQ(serie,0,len(serie))"
   ]
  },
  {
   "cell_type": "code",
   "execution_count": null,
   "metadata": {},
   "outputs": [],
   "source": [
    "def visibilityDQ2(TS):\n",
    "    if len(TS) > 1:\n",
    "\n",
    "        k=np.argmax(TS)\n",
    "        \n",
    "\n",
    "                \n",
    "        print(left,right,k,'.............')\n",
    "        maxslp=-1000\n",
    "        yk=TS[k]\n",
    "        \n",
    "        for a in range(left,k):\n",
    "            ya= TS[a]\n",
    "            slp=(yk-ya)/(k-a)\n",
    "            print('//////  '+str(slp))\n",
    "            if slp > maxslp:\n",
    "#                 arrG1.append((Na,Nb))\n",
    "                maxslp=slp\n",
    "                print(a,k)\n",
    "    \n",
    "        maxslp=-1000\n",
    "        for a in range(k+1, right+1):\n",
    "            try:\n",
    "                ya= TS[a]\n",
    "                slp=(yk-ya)/(k-a)\n",
    "                print('//////  '+str(slp))\n",
    "                if slp > maxslp:\n",
    "    #                 arrG1.append((Na,Nb))\n",
    "                    maxslp=slp\n",
    "                    print(a,k)\n",
    "            except:\n",
    "                pass\n",
    "                "
   ]
  },
  {
   "cell_type": "code",
   "execution_count": 4,
   "metadata": {},
   "outputs": [
    {
     "name": "stdout",
     "output_type": "stream",
     "text": [
      "Splitting  [54, 26, 93, 17, 77, 31, 44, 55, 20]\n",
      "Splitting  [54, 26, 93, 17]\n",
      "Splitting  [54, 26]\n",
      "Splitting  [54]\n",
      "Merging  [54]\n",
      "Splitting  [26]\n",
      "Merging  [26]\n",
      "Merging  [26, 54]\n",
      "Splitting  [93, 17]\n",
      "Splitting  [93]\n",
      "Merging  [93]\n",
      "Splitting  [17]\n",
      "Merging  [17]\n",
      "Merging  [17, 93]\n",
      "Merging  [17, 26, 54, 93]\n",
      "Splitting  [77, 31, 44, 55, 20]\n",
      "Splitting  [77, 31]\n",
      "Splitting  [77]\n",
      "Merging  [77]\n",
      "Splitting  [31]\n",
      "Merging  [31]\n",
      "Merging  [31, 77]\n",
      "Splitting  [44, 55, 20]\n",
      "Splitting  [44]\n",
      "Merging  [44]\n",
      "Splitting  [55, 20]\n",
      "Splitting  [55]\n",
      "Merging  [55]\n",
      "Splitting  [20]\n",
      "Merging  [20]\n",
      "Merging  [20, 55]\n",
      "Merging  [20, 44, 55]\n",
      "Merging  [20, 31, 44, 55, 77]\n",
      "Merging  [17, 20, 26, 31, 44, 54, 55, 77, 93]\n",
      "[17, 20, 26, 31, 44, 54, 55, 77, 93]\n"
     ]
    }
   ],
   "source": [
    "def mergeSort(alist):\n",
    "    print(\"Splitting \",alist)\n",
    "    if len(alist)>1:\n",
    "        mid = len(alist)//2\n",
    "        lefthalf = alist[:mid]\n",
    "        righthalf = alist[mid:]\n",
    "\n",
    "        mergeSort(lefthalf)\n",
    "        mergeSort(righthalf)\n",
    "\n",
    "        i=0\n",
    "        j=0\n",
    "        k=0\n",
    "        while i < len(lefthalf) and j < len(righthalf):\n",
    "            if lefthalf[i] < righthalf[j]:\n",
    "                alist[k]=lefthalf[i]\n",
    "                i=i+1\n",
    "            else:\n",
    "                alist[k]=righthalf[j]\n",
    "                j=j+1\n",
    "            k=k+1\n",
    "\n",
    "        while i < len(lefthalf):\n",
    "            alist[k]=lefthalf[i]\n",
    "            i=i+1\n",
    "            k=k+1\n",
    "\n",
    "        while j < len(righthalf):\n",
    "            alist[k]=righthalf[j]\n",
    "            j=j+1\n",
    "            k=k+1\n",
    "    print(\"Merging \",alist)\n",
    "\n",
    "alist = [54,26,93,17,77,31,44,55,20]\n",
    "mergeSort(alist)\n",
    "print(alist)\n"
   ]
  },
  {
   "cell_type": "code",
   "execution_count": 5,
   "metadata": {},
   "outputs": [
    {
     "data": {
      "text/plain": [
       "7"
      ]
     },
     "execution_count": 5,
     "metadata": {},
     "output_type": "execute_result"
    }
   ],
   "source": [
    "serie1=[1,2,3,4,5,6,7,8]\n",
    "np.argmax(serie1[0:8])"
   ]
  },
  {
   "cell_type": "code",
   "execution_count": 6,
   "metadata": {},
   "outputs": [
    {
     "name": "stdout",
     "output_type": "stream",
     "text": [
      "1\n",
      "2\n",
      "3\n",
      "4\n",
      "5\n",
      "6\n",
      "7\n",
      "8\n"
     ]
    }
   ],
   "source": [
    "for i in range(0,len(serie1)):\n",
    "    print(serie1[i])"
   ]
  },
  {
   "cell_type": "code",
   "execution_count": 7,
   "metadata": {},
   "outputs": [
    {
     "name": "stdout",
     "output_type": "stream",
     "text": [
      "10\n",
      "9\n",
      "8\n",
      "7\n",
      "6\n",
      "5\n",
      "4\n",
      "3\n",
      "2\n",
      "1\n"
     ]
    }
   ],
   "source": [
    "for i in range(10,0,-1):\n",
    "    print(i)"
   ]
  },
  {
   "cell_type": "code",
   "execution_count": 8,
   "metadata": {},
   "outputs": [
    {
     "name": "stdout",
     "output_type": "stream",
     "text": [
      "2\n"
     ]
    }
   ],
   "source": [
    "s = [1,3,5]\n",
    "for i in range(2,2+1):\n",
    "    print(i)"
   ]
  },
  {
   "cell_type": "code",
   "execution_count": 4,
   "metadata": {},
   "outputs": [],
   "source": [
    "def maxlist(series,lista,index):\n",
    "    if len(series)==0:\n",
    "        lista.append((len(series)-1,series))\n",
    "        \n",
    "        return lista[:-1]\n",
    "    else: \n",
    "        max_index=np.argmax(series)\n",
    "        lista.append([max_index+index,np.max(series)])\n",
    "        index=max_index+1+index\n",
    "#         print(lista)\n",
    "        return maxlist(series[max_index+1:],lista, index)\n",
    "\n"
   ]
  },
  {
   "cell_type": "code",
   "execution_count": 5,
   "metadata": {},
   "outputs": [],
   "source": [
    "def SerieToNetMod(serie):\n",
    "    arrG1=[]\n",
    "    G=nx.Graph()\n",
    "    for Na in range (len(serie)):\n",
    "        ya=serie[Na]\n",
    "        maxslp=-1000\n",
    "        for Nb in range(Na+1,len(serie)):\n",
    "            yb=serie[Nb]\n",
    "            slp=(yb-ya)/(Nb-Na)\n",
    "            if slp > maxslp:\n",
    "                arrG1.append((Na,Nb))\n",
    "                maxslp=slp\n",
    "                \n",
    "    \n",
    "    for i in range(len(serie)):\n",
    "        G.add_node(i, y=serie[i])\n",
    "                                    \n",
    "    G.add_edges_from(arrG1)\n",
    "    \n",
    "    return(G)\n",
    "            "
   ]
  },
  {
   "cell_type": "code",
   "execution_count": 6,
   "metadata": {},
   "outputs": [],
   "source": [
    "def streamingVN(serie,window):\n",
    "    arrG1=[]\n",
    "    G=nx.Graph()\n",
    "    for Na in range (window):\n",
    "        ya=serie[Na]\n",
    "        maxslp=-1000\n",
    "        for Nb in range(Na+1,window):\n",
    "            yb=serie[Nb]\n",
    "            slp=(yb-ya)/(Nb-Na)   #+ np.finfo(float).eps)\n",
    "            if slp > maxslp:\n",
    "                arrG1.append((Na,Nb))\n",
    "                maxslp=slp\n",
    "#                print(Na,Nb)\n",
    "                \n",
    "    \n",
    "    for i in range(window):\n",
    "        G.add_node(i, y=serie[i])\n",
    "                                    \n",
    "    G.add_edges_from(arrG1)\n",
    " \n",
    "\n",
    "    #  Here we start adding nodes\n",
    "\n",
    "    maxs= maxlist(serie[:window],[],0)\n",
    "    pointer=1\n",
    "\n",
    "#     print('................................')\n",
    "#     print(maxs)\n",
    "    for Na in range(window,len(serie)):\n",
    "        \n",
    "        ya = serie[Na]\n",
    "        lim=0\n",
    "        maxslp=1000\n",
    "        for maxim in maxs[::-1]:\n",
    "            if maxim[1]>ya:\n",
    "                lim=maxim[0]\n",
    "        \n",
    "        for Nb in range(Na,lim-1,-1):\n",
    "            yb=serie[Nb]\n",
    "            slp=(yb-ya)/(Nb-Na)  \n",
    "#             print(Na,Nb,slp,lim)\n",
    "            if slp < maxslp:\n",
    "                arrG1.append((Na,Nb))\n",
    "                maxslp=slp\n",
    "#                 print(Na,Nb)\n",
    "\n",
    "        if lim==0:\n",
    "               \n",
    "            maxs=maxlist(serie[pointer:pointer+window+1],[],pointer)\n",
    "#             print('///////////////maxlist nueva')\n",
    "#             print(maxs)\n",
    "\n",
    "        else:\n",
    "                \n",
    "                \n",
    "            for m in maxs[::-1]:\n",
    "                if ya>=m[1]:\n",
    "                    maxs.remove(m)\n",
    "#                     print('remove '+str(m))\n",
    "                else:\n",
    "#                     print('entra else')\n",
    "                    yb=m[1]\n",
    "                    Nb=m[0]\n",
    "                    slp=(yb-ya)/(Nb-Na)   #+ np.finfo(float).eps)\n",
    "#                     print(Na,Nb,slp,maxslp)\n",
    "                    if slp < maxslp:\n",
    "                        arrG1.append((Na,Nb))\n",
    "#                         print(Na,Nb)\n",
    "                        maxslp=slp\n",
    "            maxs.append([Na,ya])\n",
    "#             print('---------maxlist actualizada')\n",
    "#             print(maxs)\n",
    "                \n",
    "            pointer=pointer+1\n",
    "                \n",
    "\n",
    "        \n",
    "    G.add_edges_from(arrG1)\n",
    "    \n",
    "    return(G)\n",
    "            \n",
    "        \n",
    "        \n",
    "        \n",
    "        \n",
    "#     return(G)"
   ]
  },
  {
   "cell_type": "code",
   "execution_count": 50,
   "metadata": {
    "scrolled": true
   },
   "outputs": [
    {
     "name": "stdout",
     "output_type": "stream",
     "text": [
      "[9 7 7 1 1 7 8 5 4 3 5 5 5 8 3 9 3 6 2 4]\n"
     ]
    },
    {
     "data": {
      "text/plain": [
       "<StemContainer object of 3 artists>"
      ]
     },
     "execution_count": 50,
     "metadata": {},
     "output_type": "execute_result"
    },
    {
     "data": {
      "image/png": "[encoded data removed]",
      "text/plain": [
       "<Figure size 432x288 with 1 Axes>"
      ]
     },
     "metadata": {
      "needs_background": "light"
     },
     "output_type": "display_data"
    }
   ],
   "source": [
    "serie1=np.random.randint(1,10,20)\n",
    "print(serie1)\n",
    "plt.stem(serie1)"
   ]
  },
  {
   "cell_type": "code",
   "execution_count": 43,
   "metadata": {},
   "outputs": [
    {
     "name": "stderr",
     "output_type": "stream",
     "text": [
      "/home/eric/anaconda3/envs/tesina/lib/python3.7/site-packages/ipykernel_launcher.py:40: RuntimeWarning: invalid value encountered in long_scalars\n"
     ]
    }
   ],
   "source": [
    "GG=streamingVN(serie1,10)"
   ]
  },
  {
   "cell_type": "code",
   "execution_count": 51,
   "metadata": {},
   "outputs": [
    {
     "name": "stdout",
     "output_type": "stream",
     "text": [
      "[(0, 1), (0, 2), (0, 5), (0, 6), (0, 13), (0, 15), (1, 2), (1, 6), (2, 3), (2, 4), (2, 5), (2, 6), (3, 4), (3, 5), (4, 5), (5, 6), (6, 7), (6, 8), (6, 9), (6, 10), (6, 11), (6, 12), (6, 13), (6, 15), (7, 8), (7, 10), (7, 13), (8, 9), (8, 10), (8, 13), (9, 10), (10, 11), (10, 13), (11, 12), (11, 13), (12, 13), (13, 14), (13, 15), (14, 15), (15, 16), (15, 17), (15, 19), (16, 17), (17, 18), (17, 19), (18, 19)]\n"
     ]
    },
    {
     "name": "stderr",
     "output_type": "stream",
     "text": [
      "/home/eric/anaconda3/envs/tesina/lib/python3.7/site-packages/ipykernel_launcher.py:40: RuntimeWarning: invalid value encountered in long_scalars\n"
     ]
    }
   ],
   "source": [
    "G=streamingVN(serie1,5)\n",
    "print(G.edges())"
   ]
  },
  {
   "cell_type": "code",
   "execution_count": 54,
   "metadata": {},
   "outputs": [
    {
     "name": "stdout",
     "output_type": "stream",
     "text": [
      "[(0, 1), (0, 2), (0, 5), (0, 6), (0, 13), (0, 15), (1, 2), (1, 6), (2, 3), (2, 4), (2, 5), (2, 6), (3, 4), (3, 5), (4, 5), (5, 6), (6, 7), (6, 8), (6, 9), (6, 10), (6, 11), (6, 12), (6, 13), (6, 15), (7, 8), (7, 10), (7, 13), (8, 9), (8, 10), (8, 13), (9, 10), (10, 11), (10, 13), (11, 12), (11, 13), (12, 13), (13, 14), (13, 15), (14, 15), (15, 16), (15, 17), (15, 19), (16, 17), (17, 18), (17, 19), (18, 19)]\n"
     ]
    }
   ],
   "source": [
    "G1=SerieToNetMod(serie1)\n",
    "print(G1.edges())"
   ]
  },
  {
   "cell_type": "code",
   "execution_count": 53,
   "metadata": {},
   "outputs": [],
   "source": [
    "for g in G1.edges():\n",
    "    if g not in G.edges():\n",
    "        print(g)"
   ]
  },
  {
   "cell_type": "code",
   "execution_count": null,
   "metadata": {},
   "outputs": [],
   "source": [
    "def maxcalc(serie,lista,index):\n",
    "        if len(series)==0:\n",
    "        lista.append((len(series)-1,series))\n",
    "        \n",
    "        return lista[:-1]\n",
    "    else: \n",
    "        max_index=np.argmax(series)\n",
    "        lista.append([max_index+index,np.max(series)])\n",
    "        index=max_index+1+index\n",
    "#         print(lista)\n",
    "        return maxlist(series[max_index+1:],lista, index)\n"
   ]
  },
  {
   "cell_type": "code",
   "execution_count": 55,
   "metadata": {},
   "outputs": [
    {
     "name": "stdout",
     "output_type": "stream",
     "text": [
      "21.79834008216858\n"
     ]
    },
    {
     "name": "stderr",
     "output_type": "stream",
     "text": [
      "/home/eric/anaconda3/envs/tesina/lib/python3.7/site-packages/ipykernel_launcher.py:40: RuntimeWarning: invalid value encountered in long_scalars\n"
     ]
    },
    {
     "name": "stdout",
     "output_type": "stream",
     "text": [
      "2.6858744621276855\n"
     ]
    }
   ],
   "source": [
    "ss=np.random.randint(1,100,10000)\n",
    "\n",
    "start=time.time()\n",
    "g1=SerieToNetMod(ss)\n",
    "print(time.time()-start)\n",
    "\n",
    "start=time.time()\n",
    "g2=streamingVN(ss,10)\n",
    "print(time.time()-start)\n"
   ]
  },
  {
   "cell_type": "code",
   "execution_count": 56,
   "metadata": {},
   "outputs": [
    {
     "name": "stdout",
     "output_type": "stream",
     "text": [
      "(176, 294)\n"
     ]
    }
   ],
   "source": [
    "for g in g1.edges():\n",
    "    if g not in g2.edges():\n",
    "        print(g)"
   ]
  },
  {
   "cell_type": "code",
   "execution_count": 58,
   "metadata": {},
   "outputs": [
    {
     "data": {
      "text/plain": [
       "<StemContainer object of 3 artists>"
      ]
     },
     "execution_count": 58,
     "metadata": {},
     "output_type": "execute_result"
    },
    {
     "data": {
      "image/png": "[encoded data removed]",
      "text/plain": [
       "<Figure size 432x288 with 1 Axes>"
      ]
     },
     "metadata": {
      "needs_background": "light"
     },
     "output_type": "display_data"
    }
   ],
   "source": [
    "plt.stem(ss[176:295])"
   ]
  },
  {
   "cell_type": "code",
   "execution_count": 29,
   "metadata": {},
   "outputs": [
    {
     "name": "stdout",
     "output_type": "stream",
     "text": [
      "1\n"
     ]
    }
   ],
   "source": [
    "for i in range(1,1-1,-1):\n",
    "    print(i)"
   ]
  },
  {
   "cell_type": "code",
   "execution_count": 7,
   "metadata": {},
   "outputs": [
    {
     "name": "stderr",
     "output_type": "stream",
     "text": [
      "/home/eric/anaconda3/envs/tesina/lib/python3.7/site-packages/ipykernel_launcher.py:40: RuntimeWarning: invalid value encountered in long_scalars\n"
     ]
    },
    {
     "name": "stdout",
     "output_type": "stream",
     "text": [
      "7\n",
      "8\n",
      "9\n",
      "10\n",
      "11\n",
      "12\n",
      "13\n"
     ]
    },
    {
     "ename": "KeyboardInterrupt",
     "evalue": "",
     "output_type": "error",
     "traceback": [
      "\u001b[0;31m---------------------------------------------------------------------------\u001b[0m",
      "\u001b[0;31mKeyboardInterrupt\u001b[0m                         Traceback (most recent call last)",
      "\u001b[0;32m<ipython-input-7-8cf98b2833ee>\u001b[0m in \u001b[0;36m<module>\u001b[0;34m\u001b[0m\n\u001b[1;32m      5\u001b[0m     \u001b[0mserie\u001b[0m\u001b[0;34m=\u001b[0m\u001b[0mnp\u001b[0m\u001b[0;34m.\u001b[0m\u001b[0mrandom\u001b[0m\u001b[0;34m.\u001b[0m\u001b[0mrandint\u001b[0m\u001b[0;34m(\u001b[0m\u001b[0;36m1\u001b[0m\u001b[0;34m,\u001b[0m\u001b[0;36m100\u001b[0m\u001b[0;34m,\u001b[0m\u001b[0ml\u001b[0m\u001b[0;34m)\u001b[0m\u001b[0;34m\u001b[0m\u001b[0m\n\u001b[1;32m      6\u001b[0m     \u001b[0mstart\u001b[0m\u001b[0;34m=\u001b[0m\u001b[0mtime\u001b[0m\u001b[0;34m.\u001b[0m\u001b[0mtime\u001b[0m\u001b[0;34m(\u001b[0m\u001b[0;34m)\u001b[0m\u001b[0;34m\u001b[0m\u001b[0m\n\u001b[0;32m----> 7\u001b[0;31m     \u001b[0mG\u001b[0m\u001b[0;34m=\u001b[0m\u001b[0mSerieToNetMod\u001b[0m\u001b[0;34m(\u001b[0m\u001b[0mserie\u001b[0m\u001b[0;34m)\u001b[0m\u001b[0;34m\u001b[0m\u001b[0m\n\u001b[0m\u001b[1;32m      8\u001b[0m     \u001b[0mstop\u001b[0m\u001b[0;34m=\u001b[0m\u001b[0mtime\u001b[0m\u001b[0;34m.\u001b[0m\u001b[0mtime\u001b[0m\u001b[0;34m(\u001b[0m\u001b[0;34m)\u001b[0m\u001b[0;34m-\u001b[0m\u001b[0mstart\u001b[0m\u001b[0;34m\u001b[0m\u001b[0m\n\u001b[1;32m      9\u001b[0m     \u001b[0mnormal\u001b[0m\u001b[0;34m.\u001b[0m\u001b[0mappend\u001b[0m\u001b[0;34m(\u001b[0m\u001b[0;34m[\u001b[0m\u001b[0ml\u001b[0m\u001b[0;34m,\u001b[0m\u001b[0mstop\u001b[0m\u001b[0;34m]\u001b[0m\u001b[0;34m)\u001b[0m\u001b[0;34m\u001b[0m\u001b[0m\n",
      "\u001b[0;32m<ipython-input-5-9055e8b119d6>\u001b[0m in \u001b[0;36mSerieToNetMod\u001b[0;34m(serie)\u001b[0m\n\u001b[1;32m      7\u001b[0m         \u001b[0;32mfor\u001b[0m \u001b[0mNb\u001b[0m \u001b[0;32min\u001b[0m \u001b[0mrange\u001b[0m\u001b[0;34m(\u001b[0m\u001b[0mNa\u001b[0m\u001b[0;34m+\u001b[0m\u001b[0;36m1\u001b[0m\u001b[0;34m,\u001b[0m\u001b[0mlen\u001b[0m\u001b[0;34m(\u001b[0m\u001b[0mserie\u001b[0m\u001b[0;34m)\u001b[0m\u001b[0;34m)\u001b[0m\u001b[0;34m:\u001b[0m\u001b[0;34m\u001b[0m\u001b[0m\n\u001b[1;32m      8\u001b[0m             \u001b[0myb\u001b[0m\u001b[0;34m=\u001b[0m\u001b[0mserie\u001b[0m\u001b[0;34m[\u001b[0m\u001b[0mNb\u001b[0m\u001b[0;34m]\u001b[0m\u001b[0;34m\u001b[0m\u001b[0m\n\u001b[0;32m----> 9\u001b[0;31m             \u001b[0mslp\u001b[0m\u001b[0;34m=\u001b[0m\u001b[0;34m(\u001b[0m\u001b[0myb\u001b[0m\u001b[0;34m-\u001b[0m\u001b[0mya\u001b[0m\u001b[0;34m)\u001b[0m\u001b[0;34m/\u001b[0m\u001b[0;34m(\u001b[0m\u001b[0mNb\u001b[0m\u001b[0;34m-\u001b[0m\u001b[0mNa\u001b[0m\u001b[0;34m)\u001b[0m\u001b[0;34m\u001b[0m\u001b[0m\n\u001b[0m\u001b[1;32m     10\u001b[0m             \u001b[0;32mif\u001b[0m \u001b[0mslp\u001b[0m \u001b[0;34m>\u001b[0m \u001b[0mmaxslp\u001b[0m\u001b[0;34m:\u001b[0m\u001b[0;34m\u001b[0m\u001b[0m\n\u001b[1;32m     11\u001b[0m                 \u001b[0marrG1\u001b[0m\u001b[0;34m.\u001b[0m\u001b[0mappend\u001b[0m\u001b[0;34m(\u001b[0m\u001b[0;34m(\u001b[0m\u001b[0mNa\u001b[0m\u001b[0;34m,\u001b[0m\u001b[0mNb\u001b[0m\u001b[0;34m)\u001b[0m\u001b[0;34m)\u001b[0m\u001b[0;34m\u001b[0m\u001b[0m\n",
      "\u001b[0;31mKeyboardInterrupt\u001b[0m: "
     ]
    }
   ],
   "source": [
    "normal=[]\n",
    "optim=[]\n",
    "for i in range(7,18):\n",
    "    l=2**i\n",
    "    serie=np.random.randint(1,100,l)\n",
    "    start=time.time()\n",
    "    G=SerieToNetMod(serie)\n",
    "    stop=time.time()-start\n",
    "    normal.append([l,stop])\n",
    "    \n",
    "    start=time.time()\n",
    "    G=streamingVN(serie,100)\n",
    "    stop=time.time()-start\n",
    "    optim.append([l,stop])\n",
    "    \n",
    "    print(i)\n",
    "\n",
    "print(normal)\n",
    "print(optim)"
   ]
  },
  {
   "cell_type": "code",
   "execution_count": 78,
   "metadata": {},
   "outputs": [
    {
     "data": {
      "text/plain": [
       "[[128, 0.04444408416748047],\n",
       " [256, 0.016455650329589844],\n",
       " [512, 0.05641674995422363],\n",
       " [1024, 0.2429361343383789],\n",
       " [2048, 0.959977388381958],\n",
       " [4096, 3.615811347961426],\n",
       " [8192, 14.611134052276611],\n",
       " [16384, 59.667266845703125],\n",
       " [32768, 231.1179940700531],\n",
       " [65536, 923.8742368221283],\n",
       " [131072, 3719.1144881248474]]"
      ]
     },
     "execution_count": 78,
     "metadata": {},
     "output_type": "execute_result"
    }
   ],
   "source": [
    "normal"
   ]
  },
  {
   "cell_type": "code",
   "execution_count": 79,
   "metadata": {},
   "outputs": [
    {
     "data": {
      "text/plain": [
       "[[128, 0.0055620670318603516],\n",
       " [256, 0.010036468505859375],\n",
       " [512, 0.02831125259399414],\n",
       " [1024, 0.05930757522583008],\n",
       " [2048, 0.1750812530517578],\n",
       " [4096, 0.40688014030456543],\n",
       " [8192, 1.0463058948516846],\n",
       " [16384, 3.1220827102661133],\n",
       " [32768, 9.5154390335083],\n",
       " [65536, 30.94455313682556],\n",
       " [131072, 121.60332536697388]]"
      ]
     },
     "execution_count": 79,
     "metadata": {},
     "output_type": "execute_result"
    }
   ],
   "source": [
    "optim"
   ]
  },
  {
   "cell_type": "code",
   "execution_count": 76,
   "metadata": {},
   "outputs": [
    {
     "data": {
      "text/plain": [
       "262144"
      ]
     },
     "execution_count": 76,
     "metadata": {},
     "output_type": "execute_result"
    }
   ],
   "source": [
    "2**18"
   ]
  },
  {
   "cell_type": "code",
   "execution_count": 80,
   "metadata": {},
   "outputs": [
    {
     "data": {
      "text/plain": [
       "[<matplotlib.lines.Line2D at 0x7f4487220828>,\n",
       " <matplotlib.lines.Line2D at 0x7f44872209b0>]"
      ]
     },
     "execution_count": 80,
     "metadata": {},
     "output_type": "execute_result"
    },
    {
     "data": {
      "image/png": "[encoded data removed]",
      "text/plain": [
       "<Figure size 432x288 with 1 Axes>"
      ]
     },
     "metadata": {
      "needs_background": "light"
     },
     "output_type": "display_data"
    }
   ],
   "source": [
    "normal[]"
   ]
  },
  {
   "cell_type": "code",
   "execution_count": 12,
   "metadata": {},
   "outputs": [],
   "source": [
    "normal=[[128, 0.04444408416748047],\n",
    " [256, 0.016455650329589844],\n",
    " [512, 0.05641674995422363],\n",
    " [1024, 0.2429361343383789],\n",
    " [2048, 0.959977388381958],\n",
    " [4096, 3.615811347961426],\n",
    " [8192, 14.611134052276611],\n",
    " [16384, 59.667266845703125],\n",
    " [32768, 231.1179940700531],\n",
    " [65536, 923.8742368221283],\n",
    " [131072, 3719.1144881248474]]\n",
    "\n",
    "opt=[[128, 0.0055620670318603516],\n",
    " [256, 0.010036468505859375],\n",
    " [512, 0.02831125259399414],\n",
    " [1024, 0.05930757522583008],\n",
    " [2048, 0.1750812530517578],\n",
    " [4096, 0.40688014030456543],\n",
    " [8192, 1.0463058948516846],\n",
    " [16384, 3.1220827102661133],\n",
    " [32768, 9.5154390335083],\n",
    " [65536, 30.94455313682556],\n",
    " [131072, 121.60332536697388]]"
   ]
  },
  {
   "cell_type": "code",
   "execution_count": 13,
   "metadata": {},
   "outputs": [],
   "source": [
    "n=[n[1] for n in normal ]\n",
    "op=[n[1] for n in opt ]"
   ]
  },
  {
   "cell_type": "code",
   "execution_count": 16,
   "metadata": {},
   "outputs": [
    {
     "data": {
      "text/plain": [
       "[<matplotlib.lines.Line2D at 0x7f0378882fd0>]"
      ]
     },
     "execution_count": 16,
     "metadata": {},
     "output_type": "execute_result"
    },
    {
     "data": {
      "image/png": "[encoded data removed]",
      "text/plain": [
       "<Figure size 432x288 with 1 Axes>"
      ]
     },
     "metadata": {
      "needs_background": "light"
     },
     "output_type": "display_data"
    }
   ],
   "source": [
    "plt.plot(n,'*-', c='k')\n",
    "plt.plot(op,'*-', c='k')"
   ]
  },
  {
   "cell_type": "code",
   "execution_count": null,
   "metadata": {},
   "outputs": [],
   "source": []
  }
 ],
 "metadata": {
  "kernelspec": {
   "display_name": "Python 3",
   "language": "python",
   "name": "python3"
  },
  "language_info": {
   "codemirror_mode": {
    "name": "ipython",
    "version": 3
   },
   "file_extension": ".py",
   "mimetype": "text/x-python",
   "name": "python",
   "nbconvert_exporter": "python",
   "pygments_lexer": "ipython3",
   "version": "3.6.5"
  }
 },
 "nbformat": 4,
 "nbformat_minor": 2
}
